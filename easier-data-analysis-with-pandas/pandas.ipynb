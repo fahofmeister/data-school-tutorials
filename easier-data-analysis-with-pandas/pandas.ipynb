{
  "cells": [
    {
      "metadata": {
        "collapsed": true
      },
      "cell_type": "markdown",
      "source": "# Pandas"
    },
    {
      "metadata": {},
      "cell_type": "markdown",
      "source": "It's a little messy, but each section is the material covered in one video. Hope I can understand this in the future."
    },
    {
      "metadata": {},
      "cell_type": "markdown",
      "source": "## How do I read a tabular data into pandas?"
    },
    {
      "metadata": {
        "trusted": true
      },
      "cell_type": "code",
      "source": "import pandas as pd",
      "execution_count": 1,
      "outputs": []
    },
    {
      "metadata": {
        "trusted": true
      },
      "cell_type": "code",
      "source": "# Method to read tables\norders = pd.read_table('http://bit.ly/chiporders')",
      "execution_count": 2,
      "outputs": []
    },
    {
      "metadata": {
        "trusted": true
      },
      "cell_type": "code",
      "source": "# Method to show the first five rows\norders.head()",
      "execution_count": 3,
      "outputs": [
        {
          "output_type": "execute_result",
          "execution_count": 3,
          "data": {
            "text/html": "<div>\n<style scoped>\n    .dataframe tbody tr th:only-of-type {\n        vertical-align: middle;\n    }\n\n    .dataframe tbody tr th {\n        vertical-align: top;\n    }\n\n    .dataframe thead th {\n        text-align: right;\n    }\n</style>\n<table border=\"1\" class=\"dataframe\">\n  <thead>\n    <tr style=\"text-align: right;\">\n      <th></th>\n      <th>order_id</th>\n      <th>quantity</th>\n      <th>item_name</th>\n      <th>choice_description</th>\n      <th>item_price</th>\n    </tr>\n  </thead>\n  <tbody>\n    <tr>\n      <th>0</th>\n      <td>1</td>\n      <td>1</td>\n      <td>Chips and Fresh Tomato Salsa</td>\n      <td>NaN</td>\n      <td>$2.39</td>\n    </tr>\n    <tr>\n      <th>1</th>\n      <td>1</td>\n      <td>1</td>\n      <td>Izze</td>\n      <td>[Clementine]</td>\n      <td>$3.39</td>\n    </tr>\n    <tr>\n      <th>2</th>\n      <td>1</td>\n      <td>1</td>\n      <td>Nantucket Nectar</td>\n      <td>[Apple]</td>\n      <td>$3.39</td>\n    </tr>\n    <tr>\n      <th>3</th>\n      <td>1</td>\n      <td>1</td>\n      <td>Chips and Tomatillo-Green Chili Salsa</td>\n      <td>NaN</td>\n      <td>$2.39</td>\n    </tr>\n    <tr>\n      <th>4</th>\n      <td>2</td>\n      <td>2</td>\n      <td>Chicken Bowl</td>\n      <td>[Tomatillo-Red Chili Salsa (Hot), [Black Beans...</td>\n      <td>$16.98</td>\n    </tr>\n  </tbody>\n</table>\n</div>",
            "text/plain": "   order_id  quantity                              item_name  \\\n0         1         1           Chips and Fresh Tomato Salsa   \n1         1         1                                   Izze   \n2         1         1                       Nantucket Nectar   \n3         1         1  Chips and Tomatillo-Green Chili Salsa   \n4         2         2                           Chicken Bowl   \n\n                                  choice_description item_price  \n0                                                NaN     $2.39   \n1                                       [Clementine]     $3.39   \n2                                            [Apple]     $3.39   \n3                                                NaN     $2.39   \n4  [Tomatillo-Red Chili Salsa (Hot), [Black Beans...    $16.98   "
          },
          "metadata": {}
        }
      ]
    },
    {
      "metadata": {
        "trusted": true
      },
      "cell_type": "code",
      "source": "# How to define columns names in DataFrames without header information and a custom separator\nuser_cols = ['user_id', 'age', 'gender', 'occupation', 'zip_code']\nusers = pd.read_table('http://bit.ly/movieusers', sep='|', header=None, names=user_cols)",
      "execution_count": 4,
      "outputs": []
    },
    {
      "metadata": {
        "trusted": true
      },
      "cell_type": "code",
      "source": "users.head()",
      "execution_count": 5,
      "outputs": [
        {
          "output_type": "execute_result",
          "execution_count": 5,
          "data": {
            "text/html": "<div>\n<style scoped>\n    .dataframe tbody tr th:only-of-type {\n        vertical-align: middle;\n    }\n\n    .dataframe tbody tr th {\n        vertical-align: top;\n    }\n\n    .dataframe thead th {\n        text-align: right;\n    }\n</style>\n<table border=\"1\" class=\"dataframe\">\n  <thead>\n    <tr style=\"text-align: right;\">\n      <th></th>\n      <th>user_id</th>\n      <th>age</th>\n      <th>gender</th>\n      <th>occupation</th>\n      <th>zip_code</th>\n    </tr>\n  </thead>\n  <tbody>\n    <tr>\n      <th>0</th>\n      <td>1</td>\n      <td>24</td>\n      <td>M</td>\n      <td>technician</td>\n      <td>85711</td>\n    </tr>\n    <tr>\n      <th>1</th>\n      <td>2</td>\n      <td>53</td>\n      <td>F</td>\n      <td>other</td>\n      <td>94043</td>\n    </tr>\n    <tr>\n      <th>2</th>\n      <td>3</td>\n      <td>23</td>\n      <td>M</td>\n      <td>writer</td>\n      <td>32067</td>\n    </tr>\n    <tr>\n      <th>3</th>\n      <td>4</td>\n      <td>24</td>\n      <td>M</td>\n      <td>technician</td>\n      <td>43537</td>\n    </tr>\n    <tr>\n      <th>4</th>\n      <td>5</td>\n      <td>33</td>\n      <td>F</td>\n      <td>other</td>\n      <td>15213</td>\n    </tr>\n  </tbody>\n</table>\n</div>",
            "text/plain": "   user_id  age gender  occupation zip_code\n0        1   24      M  technician    85711\n1        2   53      F       other    94043\n2        3   23      M      writer    32067\n3        4   24      M  technician    43537\n4        5   33      F       other    15213"
          },
          "metadata": {}
        }
      ]
    },
    {
      "metadata": {},
      "cell_type": "markdown",
      "source": "## How do I select a pandas Series from a DataFrame?"
    },
    {
      "metadata": {
        "trusted": true
      },
      "cell_type": "code",
      "source": "ufo = pd.read_csv('http://bit.ly/uforeports')",
      "execution_count": 6,
      "outputs": []
    },
    {
      "metadata": {
        "trusted": true
      },
      "cell_type": "code",
      "source": "# ufo is a DataFrame\ntype(ufo)",
      "execution_count": 7,
      "outputs": [
        {
          "output_type": "execute_result",
          "execution_count": 7,
          "data": {
            "text/plain": "pandas.core.frame.DataFrame"
          },
          "metadata": {}
        }
      ]
    },
    {
      "metadata": {
        "trusted": true
      },
      "cell_type": "code",
      "source": "ufo.head()",
      "execution_count": 8,
      "outputs": [
        {
          "output_type": "execute_result",
          "execution_count": 8,
          "data": {
            "text/html": "<div>\n<style scoped>\n    .dataframe tbody tr th:only-of-type {\n        vertical-align: middle;\n    }\n\n    .dataframe tbody tr th {\n        vertical-align: top;\n    }\n\n    .dataframe thead th {\n        text-align: right;\n    }\n</style>\n<table border=\"1\" class=\"dataframe\">\n  <thead>\n    <tr style=\"text-align: right;\">\n      <th></th>\n      <th>City</th>\n      <th>Colors Reported</th>\n      <th>Shape Reported</th>\n      <th>State</th>\n      <th>Time</th>\n    </tr>\n  </thead>\n  <tbody>\n    <tr>\n      <th>0</th>\n      <td>Ithaca</td>\n      <td>NaN</td>\n      <td>TRIANGLE</td>\n      <td>NY</td>\n      <td>6/1/1930 22:00</td>\n    </tr>\n    <tr>\n      <th>1</th>\n      <td>Willingboro</td>\n      <td>NaN</td>\n      <td>OTHER</td>\n      <td>NJ</td>\n      <td>6/30/1930 20:00</td>\n    </tr>\n    <tr>\n      <th>2</th>\n      <td>Holyoke</td>\n      <td>NaN</td>\n      <td>OVAL</td>\n      <td>CO</td>\n      <td>2/15/1931 14:00</td>\n    </tr>\n    <tr>\n      <th>3</th>\n      <td>Abilene</td>\n      <td>NaN</td>\n      <td>DISK</td>\n      <td>KS</td>\n      <td>6/1/1931 13:00</td>\n    </tr>\n    <tr>\n      <th>4</th>\n      <td>New York Worlds Fair</td>\n      <td>NaN</td>\n      <td>LIGHT</td>\n      <td>NY</td>\n      <td>4/18/1933 19:00</td>\n    </tr>\n  </tbody>\n</table>\n</div>",
            "text/plain": "                   City Colors Reported Shape Reported State             Time\n0                Ithaca             NaN       TRIANGLE    NY   6/1/1930 22:00\n1           Willingboro             NaN          OTHER    NJ  6/30/1930 20:00\n2               Holyoke             NaN           OVAL    CO  2/15/1931 14:00\n3               Abilene             NaN           DISK    KS   6/1/1931 13:00\n4  New York Worlds Fair             NaN          LIGHT    NY  4/18/1933 19:00"
          },
          "metadata": {}
        }
      ]
    },
    {
      "metadata": {
        "trusted": true
      },
      "cell_type": "code",
      "source": "# And each column is treated as a Series\ntype(ufo['City'])",
      "execution_count": 9,
      "outputs": [
        {
          "output_type": "execute_result",
          "execution_count": 9,
          "data": {
            "text/plain": "pandas.core.series.Series"
          },
          "metadata": {}
        }
      ]
    },
    {
      "metadata": {
        "trusted": true
      },
      "cell_type": "code",
      "source": "# How to create a new column in a DataFrame\nufo['Location'] = ufo.City + ', ' + ufo.State",
      "execution_count": 10,
      "outputs": []
    },
    {
      "metadata": {
        "trusted": true
      },
      "cell_type": "code",
      "source": "ufo.head()",
      "execution_count": 11,
      "outputs": [
        {
          "output_type": "execute_result",
          "execution_count": 11,
          "data": {
            "text/html": "<div>\n<style scoped>\n    .dataframe tbody tr th:only-of-type {\n        vertical-align: middle;\n    }\n\n    .dataframe tbody tr th {\n        vertical-align: top;\n    }\n\n    .dataframe thead th {\n        text-align: right;\n    }\n</style>\n<table border=\"1\" class=\"dataframe\">\n  <thead>\n    <tr style=\"text-align: right;\">\n      <th></th>\n      <th>City</th>\n      <th>Colors Reported</th>\n      <th>Shape Reported</th>\n      <th>State</th>\n      <th>Time</th>\n      <th>Location</th>\n    </tr>\n  </thead>\n  <tbody>\n    <tr>\n      <th>0</th>\n      <td>Ithaca</td>\n      <td>NaN</td>\n      <td>TRIANGLE</td>\n      <td>NY</td>\n      <td>6/1/1930 22:00</td>\n      <td>Ithaca, NY</td>\n    </tr>\n    <tr>\n      <th>1</th>\n      <td>Willingboro</td>\n      <td>NaN</td>\n      <td>OTHER</td>\n      <td>NJ</td>\n      <td>6/30/1930 20:00</td>\n      <td>Willingboro, NJ</td>\n    </tr>\n    <tr>\n      <th>2</th>\n      <td>Holyoke</td>\n      <td>NaN</td>\n      <td>OVAL</td>\n      <td>CO</td>\n      <td>2/15/1931 14:00</td>\n      <td>Holyoke, CO</td>\n    </tr>\n    <tr>\n      <th>3</th>\n      <td>Abilene</td>\n      <td>NaN</td>\n      <td>DISK</td>\n      <td>KS</td>\n      <td>6/1/1931 13:00</td>\n      <td>Abilene, KS</td>\n    </tr>\n    <tr>\n      <th>4</th>\n      <td>New York Worlds Fair</td>\n      <td>NaN</td>\n      <td>LIGHT</td>\n      <td>NY</td>\n      <td>4/18/1933 19:00</td>\n      <td>New York Worlds Fair, NY</td>\n    </tr>\n  </tbody>\n</table>\n</div>",
            "text/plain": "                   City Colors Reported Shape Reported State             Time  \\\n0                Ithaca             NaN       TRIANGLE    NY   6/1/1930 22:00   \n1           Willingboro             NaN          OTHER    NJ  6/30/1930 20:00   \n2               Holyoke             NaN           OVAL    CO  2/15/1931 14:00   \n3               Abilene             NaN           DISK    KS   6/1/1931 13:00   \n4  New York Worlds Fair             NaN          LIGHT    NY  4/18/1933 19:00   \n\n                   Location  \n0                Ithaca, NY  \n1           Willingboro, NJ  \n2               Holyoke, CO  \n3               Abilene, KS  \n4  New York Worlds Fair, NY  "
          },
          "metadata": {}
        }
      ]
    },
    {
      "metadata": {},
      "cell_type": "markdown",
      "source": "## Why do some pandas command end with parentheses?"
    },
    {
      "metadata": {
        "trusted": true
      },
      "cell_type": "code",
      "source": "# Method to read CSV files (just like read_table defining a separator)\nmovies = pd.read_csv('http://bit.ly/imdbratings')",
      "execution_count": 12,
      "outputs": []
    },
    {
      "metadata": {
        "trusted": true
      },
      "cell_type": "code",
      "source": "movies.head()",
      "execution_count": 13,
      "outputs": [
        {
          "output_type": "execute_result",
          "execution_count": 13,
          "data": {
            "text/html": "<div>\n<style scoped>\n    .dataframe tbody tr th:only-of-type {\n        vertical-align: middle;\n    }\n\n    .dataframe tbody tr th {\n        vertical-align: top;\n    }\n\n    .dataframe thead th {\n        text-align: right;\n    }\n</style>\n<table border=\"1\" class=\"dataframe\">\n  <thead>\n    <tr style=\"text-align: right;\">\n      <th></th>\n      <th>star_rating</th>\n      <th>title</th>\n      <th>content_rating</th>\n      <th>genre</th>\n      <th>duration</th>\n      <th>actors_list</th>\n    </tr>\n  </thead>\n  <tbody>\n    <tr>\n      <th>0</th>\n      <td>9.3</td>\n      <td>The Shawshank Redemption</td>\n      <td>R</td>\n      <td>Crime</td>\n      <td>142</td>\n      <td>[u'Tim Robbins', u'Morgan Freeman', u'Bob Gunt...</td>\n    </tr>\n    <tr>\n      <th>1</th>\n      <td>9.2</td>\n      <td>The Godfather</td>\n      <td>R</td>\n      <td>Crime</td>\n      <td>175</td>\n      <td>[u'Marlon Brando', u'Al Pacino', u'James Caan']</td>\n    </tr>\n    <tr>\n      <th>2</th>\n      <td>9.1</td>\n      <td>The Godfather: Part II</td>\n      <td>R</td>\n      <td>Crime</td>\n      <td>200</td>\n      <td>[u'Al Pacino', u'Robert De Niro', u'Robert Duv...</td>\n    </tr>\n    <tr>\n      <th>3</th>\n      <td>9.0</td>\n      <td>The Dark Knight</td>\n      <td>PG-13</td>\n      <td>Action</td>\n      <td>152</td>\n      <td>[u'Christian Bale', u'Heath Ledger', u'Aaron E...</td>\n    </tr>\n    <tr>\n      <th>4</th>\n      <td>8.9</td>\n      <td>Pulp Fiction</td>\n      <td>R</td>\n      <td>Crime</td>\n      <td>154</td>\n      <td>[u'John Travolta', u'Uma Thurman', u'Samuel L....</td>\n    </tr>\n  </tbody>\n</table>\n</div>",
            "text/plain": "   star_rating                     title content_rating   genre  duration  \\\n0          9.3  The Shawshank Redemption              R   Crime       142   \n1          9.2             The Godfather              R   Crime       175   \n2          9.1    The Godfather: Part II              R   Crime       200   \n3          9.0           The Dark Knight          PG-13  Action       152   \n4          8.9              Pulp Fiction              R   Crime       154   \n\n                                         actors_list  \n0  [u'Tim Robbins', u'Morgan Freeman', u'Bob Gunt...  \n1    [u'Marlon Brando', u'Al Pacino', u'James Caan']  \n2  [u'Al Pacino', u'Robert De Niro', u'Robert Duv...  \n3  [u'Christian Bale', u'Heath Ledger', u'Aaron E...  \n4  [u'John Travolta', u'Uma Thurman', u'Samuel L....  "
          },
          "metadata": {}
        }
      ]
    },
    {
      "metadata": {
        "trusted": true
      },
      "cell_type": "code",
      "source": "# Method to perform statistics in all numeric columns\nmovies.describe()",
      "execution_count": 14,
      "outputs": [
        {
          "output_type": "execute_result",
          "execution_count": 14,
          "data": {
            "text/html": "<div>\n<style scoped>\n    .dataframe tbody tr th:only-of-type {\n        vertical-align: middle;\n    }\n\n    .dataframe tbody tr th {\n        vertical-align: top;\n    }\n\n    .dataframe thead th {\n        text-align: right;\n    }\n</style>\n<table border=\"1\" class=\"dataframe\">\n  <thead>\n    <tr style=\"text-align: right;\">\n      <th></th>\n      <th>star_rating</th>\n      <th>duration</th>\n    </tr>\n  </thead>\n  <tbody>\n    <tr>\n      <th>count</th>\n      <td>979.000000</td>\n      <td>979.000000</td>\n    </tr>\n    <tr>\n      <th>mean</th>\n      <td>7.889785</td>\n      <td>120.979571</td>\n    </tr>\n    <tr>\n      <th>std</th>\n      <td>0.336069</td>\n      <td>26.218010</td>\n    </tr>\n    <tr>\n      <th>min</th>\n      <td>7.400000</td>\n      <td>64.000000</td>\n    </tr>\n    <tr>\n      <th>25%</th>\n      <td>7.600000</td>\n      <td>102.000000</td>\n    </tr>\n    <tr>\n      <th>50%</th>\n      <td>7.800000</td>\n      <td>117.000000</td>\n    </tr>\n    <tr>\n      <th>75%</th>\n      <td>8.100000</td>\n      <td>134.000000</td>\n    </tr>\n    <tr>\n      <th>max</th>\n      <td>9.300000</td>\n      <td>242.000000</td>\n    </tr>\n  </tbody>\n</table>\n</div>",
            "text/plain": "       star_rating    duration\ncount   979.000000  979.000000\nmean      7.889785  120.979571\nstd       0.336069   26.218010\nmin       7.400000   64.000000\n25%       7.600000  102.000000\n50%       7.800000  117.000000\n75%       8.100000  134.000000\nmax       9.300000  242.000000"
          },
          "metadata": {}
        }
      ]
    },
    {
      "metadata": {
        "trusted": true
      },
      "cell_type": "code",
      "source": "# Method to show the number of rows and columns\nmovies.shape",
      "execution_count": 15,
      "outputs": [
        {
          "output_type": "execute_result",
          "execution_count": 15,
          "data": {
            "text/plain": "(979, 6)"
          },
          "metadata": {}
        }
      ]
    },
    {
      "metadata": {
        "trusted": true
      },
      "cell_type": "code",
      "source": "# Method to show each column data type\nmovies.dtypes",
      "execution_count": 16,
      "outputs": [
        {
          "output_type": "execute_result",
          "execution_count": 16,
          "data": {
            "text/plain": "star_rating       float64\ntitle              object\ncontent_rating     object\ngenre              object\nduration            int64\nactors_list        object\ndtype: object"
          },
          "metadata": {}
        }
      ]
    },
    {
      "metadata": {
        "trusted": true
      },
      "cell_type": "code",
      "source": "type(movies)",
      "execution_count": 17,
      "outputs": [
        {
          "output_type": "execute_result",
          "execution_count": 17,
          "data": {
            "text/plain": "pandas.core.frame.DataFrame"
          },
          "metadata": {}
        }
      ]
    },
    {
      "metadata": {
        "trusted": true
      },
      "cell_type": "code",
      "source": "# With an argument, performs statistics on the columns with that data type\nmovies.describe(include=['object'])",
      "execution_count": 18,
      "outputs": [
        {
          "output_type": "execute_result",
          "execution_count": 18,
          "data": {
            "text/html": "<div>\n<style scoped>\n    .dataframe tbody tr th:only-of-type {\n        vertical-align: middle;\n    }\n\n    .dataframe tbody tr th {\n        vertical-align: top;\n    }\n\n    .dataframe thead th {\n        text-align: right;\n    }\n</style>\n<table border=\"1\" class=\"dataframe\">\n  <thead>\n    <tr style=\"text-align: right;\">\n      <th></th>\n      <th>title</th>\n      <th>content_rating</th>\n      <th>genre</th>\n      <th>actors_list</th>\n    </tr>\n  </thead>\n  <tbody>\n    <tr>\n      <th>count</th>\n      <td>979</td>\n      <td>976</td>\n      <td>979</td>\n      <td>979</td>\n    </tr>\n    <tr>\n      <th>unique</th>\n      <td>975</td>\n      <td>12</td>\n      <td>16</td>\n      <td>969</td>\n    </tr>\n    <tr>\n      <th>top</th>\n      <td>Les Miserables</td>\n      <td>R</td>\n      <td>Drama</td>\n      <td>[u'Daniel Radcliffe', u'Emma Watson', u'Rupert...</td>\n    </tr>\n    <tr>\n      <th>freq</th>\n      <td>2</td>\n      <td>460</td>\n      <td>278</td>\n      <td>6</td>\n    </tr>\n  </tbody>\n</table>\n</div>",
            "text/plain": "                 title content_rating  genre  \\\ncount              979            976    979   \nunique             975             12     16   \ntop     Les Miserables              R  Drama   \nfreq                 2            460    278   \n\n                                              actors_list  \ncount                                                 979  \nunique                                                969  \ntop     [u'Daniel Radcliffe', u'Emma Watson', u'Rupert...  \nfreq                                                    6  "
          },
          "metadata": {}
        }
      ]
    },
    {
      "metadata": {},
      "cell_type": "markdown",
      "source": "## How do I rename columns in pandas DataFrame?"
    },
    {
      "metadata": {
        "trusted": true
      },
      "cell_type": "code",
      "source": "ufo = pd.read_csv('http://bit.ly/uforeports')",
      "execution_count": 19,
      "outputs": []
    },
    {
      "metadata": {
        "trusted": true,
        "scrolled": true
      },
      "cell_type": "code",
      "source": "# Method to return the column names\nufo.columns",
      "execution_count": 20,
      "outputs": [
        {
          "output_type": "execute_result",
          "execution_count": 20,
          "data": {
            "text/plain": "Index(['City', 'Colors Reported', 'Shape Reported', 'State', 'Time'], dtype='object')"
          },
          "metadata": {}
        }
      ]
    },
    {
      "metadata": {
        "trusted": true
      },
      "cell_type": "code",
      "source": "# Method to rename columns\nufo.rename(columns={'Colors Reported':'Colors_Reported', 'Shape Reported':'Shape_Reported'}, inplace=True)",
      "execution_count": 21,
      "outputs": []
    },
    {
      "metadata": {
        "trusted": true
      },
      "cell_type": "code",
      "source": "ufo.columns",
      "execution_count": 22,
      "outputs": [
        {
          "output_type": "execute_result",
          "execution_count": 22,
          "data": {
            "text/plain": "Index(['City', 'Colors_Reported', 'Shape_Reported', 'State', 'Time'], dtype='object')"
          },
          "metadata": {}
        }
      ]
    },
    {
      "metadata": {
        "trusted": true
      },
      "cell_type": "code",
      "source": "ufo_cols = ['city', 'colors reported', 'shapre reported', 'state', 'time']",
      "execution_count": 23,
      "outputs": []
    },
    {
      "metadata": {
        "trusted": true,
        "scrolled": true
      },
      "cell_type": "code",
      "source": "# How to change column names for existing DataFrame\nufo.columns = ufo_cols",
      "execution_count": 24,
      "outputs": []
    },
    {
      "metadata": {
        "trusted": true
      },
      "cell_type": "code",
      "source": "ufo.head()",
      "execution_count": 25,
      "outputs": [
        {
          "output_type": "execute_result",
          "execution_count": 25,
          "data": {
            "text/html": "<div>\n<style scoped>\n    .dataframe tbody tr th:only-of-type {\n        vertical-align: middle;\n    }\n\n    .dataframe tbody tr th {\n        vertical-align: top;\n    }\n\n    .dataframe thead th {\n        text-align: right;\n    }\n</style>\n<table border=\"1\" class=\"dataframe\">\n  <thead>\n    <tr style=\"text-align: right;\">\n      <th></th>\n      <th>city</th>\n      <th>colors reported</th>\n      <th>shapre reported</th>\n      <th>state</th>\n      <th>time</th>\n    </tr>\n  </thead>\n  <tbody>\n    <tr>\n      <th>0</th>\n      <td>Ithaca</td>\n      <td>NaN</td>\n      <td>TRIANGLE</td>\n      <td>NY</td>\n      <td>6/1/1930 22:00</td>\n    </tr>\n    <tr>\n      <th>1</th>\n      <td>Willingboro</td>\n      <td>NaN</td>\n      <td>OTHER</td>\n      <td>NJ</td>\n      <td>6/30/1930 20:00</td>\n    </tr>\n    <tr>\n      <th>2</th>\n      <td>Holyoke</td>\n      <td>NaN</td>\n      <td>OVAL</td>\n      <td>CO</td>\n      <td>2/15/1931 14:00</td>\n    </tr>\n    <tr>\n      <th>3</th>\n      <td>Abilene</td>\n      <td>NaN</td>\n      <td>DISK</td>\n      <td>KS</td>\n      <td>6/1/1931 13:00</td>\n    </tr>\n    <tr>\n      <th>4</th>\n      <td>New York Worlds Fair</td>\n      <td>NaN</td>\n      <td>LIGHT</td>\n      <td>NY</td>\n      <td>4/18/1933 19:00</td>\n    </tr>\n  </tbody>\n</table>\n</div>",
            "text/plain": "                   city colors reported shapre reported state             time\n0                Ithaca             NaN        TRIANGLE    NY   6/1/1930 22:00\n1           Willingboro             NaN           OTHER    NJ  6/30/1930 20:00\n2               Holyoke             NaN            OVAL    CO  2/15/1931 14:00\n3               Abilene             NaN            DISK    KS   6/1/1931 13:00\n4  New York Worlds Fair             NaN           LIGHT    NY  4/18/1933 19:00"
          },
          "metadata": {}
        }
      ]
    },
    {
      "metadata": {
        "trusted": true
      },
      "cell_type": "code",
      "source": "# How to change column names while reading a new DataFrame\nufo = pd.read_csv('http://bit.ly/uforeports', names=ufo_cols, header=0)",
      "execution_count": 26,
      "outputs": []
    },
    {
      "metadata": {
        "trusted": true
      },
      "cell_type": "code",
      "source": "ufo.head()",
      "execution_count": 27,
      "outputs": [
        {
          "output_type": "execute_result",
          "execution_count": 27,
          "data": {
            "text/html": "<div>\n<style scoped>\n    .dataframe tbody tr th:only-of-type {\n        vertical-align: middle;\n    }\n\n    .dataframe tbody tr th {\n        vertical-align: top;\n    }\n\n    .dataframe thead th {\n        text-align: right;\n    }\n</style>\n<table border=\"1\" class=\"dataframe\">\n  <thead>\n    <tr style=\"text-align: right;\">\n      <th></th>\n      <th>city</th>\n      <th>colors reported</th>\n      <th>shapre reported</th>\n      <th>state</th>\n      <th>time</th>\n    </tr>\n  </thead>\n  <tbody>\n    <tr>\n      <th>0</th>\n      <td>Ithaca</td>\n      <td>NaN</td>\n      <td>TRIANGLE</td>\n      <td>NY</td>\n      <td>6/1/1930 22:00</td>\n    </tr>\n    <tr>\n      <th>1</th>\n      <td>Willingboro</td>\n      <td>NaN</td>\n      <td>OTHER</td>\n      <td>NJ</td>\n      <td>6/30/1930 20:00</td>\n    </tr>\n    <tr>\n      <th>2</th>\n      <td>Holyoke</td>\n      <td>NaN</td>\n      <td>OVAL</td>\n      <td>CO</td>\n      <td>2/15/1931 14:00</td>\n    </tr>\n    <tr>\n      <th>3</th>\n      <td>Abilene</td>\n      <td>NaN</td>\n      <td>DISK</td>\n      <td>KS</td>\n      <td>6/1/1931 13:00</td>\n    </tr>\n    <tr>\n      <th>4</th>\n      <td>New York Worlds Fair</td>\n      <td>NaN</td>\n      <td>LIGHT</td>\n      <td>NY</td>\n      <td>4/18/1933 19:00</td>\n    </tr>\n  </tbody>\n</table>\n</div>",
            "text/plain": "                   city colors reported shapre reported state             time\n0                Ithaca             NaN        TRIANGLE    NY   6/1/1930 22:00\n1           Willingboro             NaN           OTHER    NJ  6/30/1930 20:00\n2               Holyoke             NaN            OVAL    CO  2/15/1931 14:00\n3               Abilene             NaN            DISK    KS   6/1/1931 13:00\n4  New York Worlds Fair             NaN           LIGHT    NY  4/18/1933 19:00"
          },
          "metadata": {}
        }
      ]
    },
    {
      "metadata": {
        "trusted": true
      },
      "cell_type": "code",
      "source": "ufo.columns",
      "execution_count": 28,
      "outputs": [
        {
          "output_type": "execute_result",
          "execution_count": 28,
          "data": {
            "text/plain": "Index(['city', 'colors reported', 'shapre reported', 'state', 'time'], dtype='object')"
          },
          "metadata": {}
        }
      ]
    },
    {
      "metadata": {
        "trusted": true
      },
      "cell_type": "code",
      "source": "# How to tweak column names\nufo.columns = ufo.columns.str.replace(' ', '_')",
      "execution_count": 29,
      "outputs": []
    },
    {
      "metadata": {
        "trusted": true
      },
      "cell_type": "code",
      "source": "ufo.columns",
      "execution_count": 30,
      "outputs": [
        {
          "output_type": "execute_result",
          "execution_count": 30,
          "data": {
            "text/plain": "Index(['city', 'colors_reported', 'shapre_reported', 'state', 'time'], dtype='object')"
          },
          "metadata": {}
        }
      ]
    },
    {
      "metadata": {},
      "cell_type": "markdown",
      "source": "## How do I remove columns from a pandas DataFrame?"
    },
    {
      "metadata": {
        "trusted": true
      },
      "cell_type": "code",
      "source": "ufo = pd.read_csv('http://bit.ly/uforeports')",
      "execution_count": 31,
      "outputs": []
    },
    {
      "metadata": {
        "trusted": true
      },
      "cell_type": "code",
      "source": "ufo.head()",
      "execution_count": 32,
      "outputs": [
        {
          "output_type": "execute_result",
          "execution_count": 32,
          "data": {
            "text/html": "<div>\n<style scoped>\n    .dataframe tbody tr th:only-of-type {\n        vertical-align: middle;\n    }\n\n    .dataframe tbody tr th {\n        vertical-align: top;\n    }\n\n    .dataframe thead th {\n        text-align: right;\n    }\n</style>\n<table border=\"1\" class=\"dataframe\">\n  <thead>\n    <tr style=\"text-align: right;\">\n      <th></th>\n      <th>City</th>\n      <th>Colors Reported</th>\n      <th>Shape Reported</th>\n      <th>State</th>\n      <th>Time</th>\n    </tr>\n  </thead>\n  <tbody>\n    <tr>\n      <th>0</th>\n      <td>Ithaca</td>\n      <td>NaN</td>\n      <td>TRIANGLE</td>\n      <td>NY</td>\n      <td>6/1/1930 22:00</td>\n    </tr>\n    <tr>\n      <th>1</th>\n      <td>Willingboro</td>\n      <td>NaN</td>\n      <td>OTHER</td>\n      <td>NJ</td>\n      <td>6/30/1930 20:00</td>\n    </tr>\n    <tr>\n      <th>2</th>\n      <td>Holyoke</td>\n      <td>NaN</td>\n      <td>OVAL</td>\n      <td>CO</td>\n      <td>2/15/1931 14:00</td>\n    </tr>\n    <tr>\n      <th>3</th>\n      <td>Abilene</td>\n      <td>NaN</td>\n      <td>DISK</td>\n      <td>KS</td>\n      <td>6/1/1931 13:00</td>\n    </tr>\n    <tr>\n      <th>4</th>\n      <td>New York Worlds Fair</td>\n      <td>NaN</td>\n      <td>LIGHT</td>\n      <td>NY</td>\n      <td>4/18/1933 19:00</td>\n    </tr>\n  </tbody>\n</table>\n</div>",
            "text/plain": "                   City Colors Reported Shape Reported State             Time\n0                Ithaca             NaN       TRIANGLE    NY   6/1/1930 22:00\n1           Willingboro             NaN          OTHER    NJ  6/30/1930 20:00\n2               Holyoke             NaN           OVAL    CO  2/15/1931 14:00\n3               Abilene             NaN           DISK    KS   6/1/1931 13:00\n4  New York Worlds Fair             NaN          LIGHT    NY  4/18/1933 19:00"
          },
          "metadata": {}
        }
      ]
    },
    {
      "metadata": {
        "trusted": true
      },
      "cell_type": "code",
      "source": "ufo.shape",
      "execution_count": 33,
      "outputs": [
        {
          "output_type": "execute_result",
          "execution_count": 33,
          "data": {
            "text/plain": "(18241, 5)"
          },
          "metadata": {}
        }
      ]
    },
    {
      "metadata": {
        "trusted": true
      },
      "cell_type": "code",
      "source": "# Method to remove entries. Axis=1 means columns.\nufo.drop('Colors Reported', axis=1, inplace=True)",
      "execution_count": 34,
      "outputs": []
    },
    {
      "metadata": {
        "trusted": true
      },
      "cell_type": "code",
      "source": "ufo.head()",
      "execution_count": 35,
      "outputs": [
        {
          "output_type": "execute_result",
          "execution_count": 35,
          "data": {
            "text/html": "<div>\n<style scoped>\n    .dataframe tbody tr th:only-of-type {\n        vertical-align: middle;\n    }\n\n    .dataframe tbody tr th {\n        vertical-align: top;\n    }\n\n    .dataframe thead th {\n        text-align: right;\n    }\n</style>\n<table border=\"1\" class=\"dataframe\">\n  <thead>\n    <tr style=\"text-align: right;\">\n      <th></th>\n      <th>City</th>\n      <th>Shape Reported</th>\n      <th>State</th>\n      <th>Time</th>\n    </tr>\n  </thead>\n  <tbody>\n    <tr>\n      <th>0</th>\n      <td>Ithaca</td>\n      <td>TRIANGLE</td>\n      <td>NY</td>\n      <td>6/1/1930 22:00</td>\n    </tr>\n    <tr>\n      <th>1</th>\n      <td>Willingboro</td>\n      <td>OTHER</td>\n      <td>NJ</td>\n      <td>6/30/1930 20:00</td>\n    </tr>\n    <tr>\n      <th>2</th>\n      <td>Holyoke</td>\n      <td>OVAL</td>\n      <td>CO</td>\n      <td>2/15/1931 14:00</td>\n    </tr>\n    <tr>\n      <th>3</th>\n      <td>Abilene</td>\n      <td>DISK</td>\n      <td>KS</td>\n      <td>6/1/1931 13:00</td>\n    </tr>\n    <tr>\n      <th>4</th>\n      <td>New York Worlds Fair</td>\n      <td>LIGHT</td>\n      <td>NY</td>\n      <td>4/18/1933 19:00</td>\n    </tr>\n  </tbody>\n</table>\n</div>",
            "text/plain": "                   City Shape Reported State             Time\n0                Ithaca       TRIANGLE    NY   6/1/1930 22:00\n1           Willingboro          OTHER    NJ  6/30/1930 20:00\n2               Holyoke           OVAL    CO  2/15/1931 14:00\n3               Abilene           DISK    KS   6/1/1931 13:00\n4  New York Worlds Fair          LIGHT    NY  4/18/1933 19:00"
          },
          "metadata": {}
        }
      ]
    },
    {
      "metadata": {
        "trusted": true
      },
      "cell_type": "code",
      "source": "# To remove more than one entry, insert a list\nufo.drop(['City', 'State'], axis=1, inplace=True)",
      "execution_count": 36,
      "outputs": []
    },
    {
      "metadata": {
        "trusted": true
      },
      "cell_type": "code",
      "source": "ufo.head()",
      "execution_count": 37,
      "outputs": [
        {
          "output_type": "execute_result",
          "execution_count": 37,
          "data": {
            "text/html": "<div>\n<style scoped>\n    .dataframe tbody tr th:only-of-type {\n        vertical-align: middle;\n    }\n\n    .dataframe tbody tr th {\n        vertical-align: top;\n    }\n\n    .dataframe thead th {\n        text-align: right;\n    }\n</style>\n<table border=\"1\" class=\"dataframe\">\n  <thead>\n    <tr style=\"text-align: right;\">\n      <th></th>\n      <th>Shape Reported</th>\n      <th>Time</th>\n    </tr>\n  </thead>\n  <tbody>\n    <tr>\n      <th>0</th>\n      <td>TRIANGLE</td>\n      <td>6/1/1930 22:00</td>\n    </tr>\n    <tr>\n      <th>1</th>\n      <td>OTHER</td>\n      <td>6/30/1930 20:00</td>\n    </tr>\n    <tr>\n      <th>2</th>\n      <td>OVAL</td>\n      <td>2/15/1931 14:00</td>\n    </tr>\n    <tr>\n      <th>3</th>\n      <td>DISK</td>\n      <td>6/1/1931 13:00</td>\n    </tr>\n    <tr>\n      <th>4</th>\n      <td>LIGHT</td>\n      <td>4/18/1933 19:00</td>\n    </tr>\n  </tbody>\n</table>\n</div>",
            "text/plain": "  Shape Reported             Time\n0       TRIANGLE   6/1/1930 22:00\n1          OTHER  6/30/1930 20:00\n2           OVAL  2/15/1931 14:00\n3           DISK   6/1/1931 13:00\n4          LIGHT  4/18/1933 19:00"
          },
          "metadata": {}
        }
      ]
    },
    {
      "metadata": {
        "trusted": true
      },
      "cell_type": "code",
      "source": "# To remove a row, axis=0\nufo.drop([0, 1] , axis=0, inplace=True)",
      "execution_count": 38,
      "outputs": []
    },
    {
      "metadata": {
        "trusted": true
      },
      "cell_type": "code",
      "source": "ufo.head()",
      "execution_count": 39,
      "outputs": [
        {
          "output_type": "execute_result",
          "execution_count": 39,
          "data": {
            "text/html": "<div>\n<style scoped>\n    .dataframe tbody tr th:only-of-type {\n        vertical-align: middle;\n    }\n\n    .dataframe tbody tr th {\n        vertical-align: top;\n    }\n\n    .dataframe thead th {\n        text-align: right;\n    }\n</style>\n<table border=\"1\" class=\"dataframe\">\n  <thead>\n    <tr style=\"text-align: right;\">\n      <th></th>\n      <th>Shape Reported</th>\n      <th>Time</th>\n    </tr>\n  </thead>\n  <tbody>\n    <tr>\n      <th>2</th>\n      <td>OVAL</td>\n      <td>2/15/1931 14:00</td>\n    </tr>\n    <tr>\n      <th>3</th>\n      <td>DISK</td>\n      <td>6/1/1931 13:00</td>\n    </tr>\n    <tr>\n      <th>4</th>\n      <td>LIGHT</td>\n      <td>4/18/1933 19:00</td>\n    </tr>\n    <tr>\n      <th>5</th>\n      <td>DISK</td>\n      <td>9/15/1934 15:30</td>\n    </tr>\n    <tr>\n      <th>6</th>\n      <td>CIRCLE</td>\n      <td>6/15/1935 0:00</td>\n    </tr>\n  </tbody>\n</table>\n</div>",
            "text/plain": "  Shape Reported             Time\n2           OVAL  2/15/1931 14:00\n3           DISK   6/1/1931 13:00\n4          LIGHT  4/18/1933 19:00\n5           DISK  9/15/1934 15:30\n6         CIRCLE   6/15/1935 0:00"
          },
          "metadata": {}
        }
      ]
    },
    {
      "metadata": {
        "trusted": true
      },
      "cell_type": "code",
      "source": "ufo.shape",
      "execution_count": 40,
      "outputs": [
        {
          "output_type": "execute_result",
          "execution_count": 40,
          "data": {
            "text/plain": "(18239, 2)"
          },
          "metadata": {}
        }
      ]
    },
    {
      "metadata": {},
      "cell_type": "markdown",
      "source": "## How do I sor a pandas DataFrame or Series"
    },
    {
      "metadata": {
        "trusted": true
      },
      "cell_type": "code",
      "source": "movies = pd.read_csv('http://bit.ly/imdbratings')",
      "execution_count": 42,
      "outputs": []
    },
    {
      "metadata": {
        "trusted": true
      },
      "cell_type": "code",
      "source": "movies.head()",
      "execution_count": 43,
      "outputs": [
        {
          "output_type": "execute_result",
          "execution_count": 43,
          "data": {
            "text/html": "<div>\n<style scoped>\n    .dataframe tbody tr th:only-of-type {\n        vertical-align: middle;\n    }\n\n    .dataframe tbody tr th {\n        vertical-align: top;\n    }\n\n    .dataframe thead th {\n        text-align: right;\n    }\n</style>\n<table border=\"1\" class=\"dataframe\">\n  <thead>\n    <tr style=\"text-align: right;\">\n      <th></th>\n      <th>star_rating</th>\n      <th>title</th>\n      <th>content_rating</th>\n      <th>genre</th>\n      <th>duration</th>\n      <th>actors_list</th>\n    </tr>\n  </thead>\n  <tbody>\n    <tr>\n      <th>0</th>\n      <td>9.3</td>\n      <td>The Shawshank Redemption</td>\n      <td>R</td>\n      <td>Crime</td>\n      <td>142</td>\n      <td>[u'Tim Robbins', u'Morgan Freeman', u'Bob Gunt...</td>\n    </tr>\n    <tr>\n      <th>1</th>\n      <td>9.2</td>\n      <td>The Godfather</td>\n      <td>R</td>\n      <td>Crime</td>\n      <td>175</td>\n      <td>[u'Marlon Brando', u'Al Pacino', u'James Caan']</td>\n    </tr>\n    <tr>\n      <th>2</th>\n      <td>9.1</td>\n      <td>The Godfather: Part II</td>\n      <td>R</td>\n      <td>Crime</td>\n      <td>200</td>\n      <td>[u'Al Pacino', u'Robert De Niro', u'Robert Duv...</td>\n    </tr>\n    <tr>\n      <th>3</th>\n      <td>9.0</td>\n      <td>The Dark Knight</td>\n      <td>PG-13</td>\n      <td>Action</td>\n      <td>152</td>\n      <td>[u'Christian Bale', u'Heath Ledger', u'Aaron E...</td>\n    </tr>\n    <tr>\n      <th>4</th>\n      <td>8.9</td>\n      <td>Pulp Fiction</td>\n      <td>R</td>\n      <td>Crime</td>\n      <td>154</td>\n      <td>[u'John Travolta', u'Uma Thurman', u'Samuel L....</td>\n    </tr>\n  </tbody>\n</table>\n</div>",
            "text/plain": "   star_rating                     title content_rating   genre  duration  \\\n0          9.3  The Shawshank Redemption              R   Crime       142   \n1          9.2             The Godfather              R   Crime       175   \n2          9.1    The Godfather: Part II              R   Crime       200   \n3          9.0           The Dark Knight          PG-13  Action       152   \n4          8.9              Pulp Fiction              R   Crime       154   \n\n                                         actors_list  \n0  [u'Tim Robbins', u'Morgan Freeman', u'Bob Gunt...  \n1    [u'Marlon Brando', u'Al Pacino', u'James Caan']  \n2  [u'Al Pacino', u'Robert De Niro', u'Robert Duv...  \n3  [u'Christian Bale', u'Heath Ledger', u'Aaron E...  \n4  [u'John Travolta', u'Uma Thurman', u'Samuel L....  "
          },
          "metadata": {}
        }
      ]
    },
    {
      "metadata": {
        "trusted": true
      },
      "cell_type": "code",
      "source": "# Method to return the column sorted\nmovies['title'].sort_values(ascending=False)",
      "execution_count": 47,
      "outputs": [
        {
          "output_type": "execute_result",
          "execution_count": 47,
          "data": {
            "text/plain": "864                                  [Rec]\n526                                   Zulu\n615                             Zombieland\n677                                 Zodiac\n955                       Zero Dark Thirty\n535                                  Zelig\n280                     Young Frankenstein\n96                                 Yojimbo\n235                                Yip Man\n403                             Ying xiong\n695                      Y Tu Mama Tambien\n871                                     X2\n532                     X-Men: First Class\n248             X-Men: Days of Future Past\n954                                  X-Men\n518                         Wreck-It Ralph\n970                            Wonder Boys\n65             Witness for the Prosecution\n920                                Witness\n483                           Withnail & I\n270                        Wings of Desire\n497    Willy Wonka & the Chocolate Factory\n127                      Wild Strawberries\n219        Who's Afraid of Virginia Woolf?\n669                Who Framed Roger Rabbit\n33                                Whiplash\n649                      Where Eagles Dare\n719                When Harry Met Sally...\n562            What's Eating Gilbert Grape\n207       What Ever Happened to Baby Jane?\n                      ...                 \n426                              A Prophet\n865                        A Perfect World\n869              A Nightmare on Elm Street\n883                  A History of Violence\n612                     A Hard Day's Night\n276                   A Fistful of Dollars\n750                    A Fish Called Wanda\n716                         A Few Good Men\n86                      A Clockwork Orange\n266                      A Christmas Story\n571                           A Bronx Tale\n941                       A Bridge Too Far\n170                       A Beautiful Mind\n203                                  8 1/2\n597                                  50/50\n824                                     42\n427           4 Months, 3 Weeks and 2 Days\n555                           3:10 to Yuma\n570                                    300\n225                                 3-Iron\n60                                3 Idiots\n708                       28 Days Later...\n624                              25th Hour\n596                               21 Grams\n910                                   2046\n110                  2001: A Space Odyssey\n698                              127 Hours\n201                       12 Years a Slave\n5                             12 Angry Men\n542                   (500) Days of Summer\nName: title, Length: 979, dtype: object"
          },
          "metadata": {}
        }
      ]
    },
    {
      "metadata": {
        "trusted": true
      },
      "cell_type": "code",
      "source": "# Method return the DataFrame sorted by a single column\nmovies.sort_values('title')",
      "execution_count": 49,
      "outputs": [
        {
          "output_type": "execute_result",
          "execution_count": 49,
          "data": {
            "text/html": "<div>\n<style scoped>\n    .dataframe tbody tr th:only-of-type {\n        vertical-align: middle;\n    }\n\n    .dataframe tbody tr th {\n        vertical-align: top;\n    }\n\n    .dataframe thead th {\n        text-align: right;\n    }\n</style>\n<table border=\"1\" class=\"dataframe\">\n  <thead>\n    <tr style=\"text-align: right;\">\n      <th></th>\n      <th>star_rating</th>\n      <th>title</th>\n      <th>content_rating</th>\n      <th>genre</th>\n      <th>duration</th>\n      <th>actors_list</th>\n    </tr>\n  </thead>\n  <tbody>\n    <tr>\n      <th>542</th>\n      <td>7.8</td>\n      <td>(500) Days of Summer</td>\n      <td>PG-13</td>\n      <td>Comedy</td>\n      <td>95</td>\n      <td>[u'Zooey Deschanel', u'Joseph Gordon-Levitt', ...</td>\n    </tr>\n    <tr>\n      <th>5</th>\n      <td>8.9</td>\n      <td>12 Angry Men</td>\n      <td>NOT RATED</td>\n      <td>Drama</td>\n      <td>96</td>\n      <td>[u'Henry Fonda', u'Lee J. Cobb', u'Martin Bals...</td>\n    </tr>\n    <tr>\n      <th>201</th>\n      <td>8.1</td>\n      <td>12 Years a Slave</td>\n      <td>R</td>\n      <td>Biography</td>\n      <td>134</td>\n      <td>[u'Chiwetel Ejiofor', u'Michael Kenneth Willia...</td>\n    </tr>\n    <tr>\n      <th>698</th>\n      <td>7.6</td>\n      <td>127 Hours</td>\n      <td>R</td>\n      <td>Adventure</td>\n      <td>94</td>\n      <td>[u'James Franco', u'Amber Tamblyn', u'Kate Mara']</td>\n    </tr>\n    <tr>\n      <th>110</th>\n      <td>8.3</td>\n      <td>2001: A Space Odyssey</td>\n      <td>G</td>\n      <td>Mystery</td>\n      <td>160</td>\n      <td>[u'Keir Dullea', u'Gary Lockwood', u'William S...</td>\n    </tr>\n    <tr>\n      <th>910</th>\n      <td>7.5</td>\n      <td>2046</td>\n      <td>R</td>\n      <td>Drama</td>\n      <td>129</td>\n      <td>[u'Tony Chiu Wai Leung', u'Ziyi Zhang', u'Faye...</td>\n    </tr>\n    <tr>\n      <th>596</th>\n      <td>7.7</td>\n      <td>21 Grams</td>\n      <td>R</td>\n      <td>Crime</td>\n      <td>124</td>\n      <td>[u'Sean Penn', u'Benicio Del Toro', u'Naomi Wa...</td>\n    </tr>\n    <tr>\n      <th>624</th>\n      <td>7.7</td>\n      <td>25th Hour</td>\n      <td>R</td>\n      <td>Crime</td>\n      <td>135</td>\n      <td>[u'Edward Norton', u'Barry Pepper', u'Philip S...</td>\n    </tr>\n    <tr>\n      <th>708</th>\n      <td>7.6</td>\n      <td>28 Days Later...</td>\n      <td>R</td>\n      <td>Horror</td>\n      <td>113</td>\n      <td>[u'Cillian Murphy', u'Naomie Harris', u'Christ...</td>\n    </tr>\n    <tr>\n      <th>60</th>\n      <td>8.5</td>\n      <td>3 Idiots</td>\n      <td>PG-13</td>\n      <td>Comedy</td>\n      <td>170</td>\n      <td>[u'Aamir Khan', u'Madhavan', u'Mona Singh']</td>\n    </tr>\n    <tr>\n      <th>225</th>\n      <td>8.1</td>\n      <td>3-Iron</td>\n      <td>R</td>\n      <td>Crime</td>\n      <td>88</td>\n      <td>[u'Seung-yeon Lee', u'Hyun-kyoon Lee', u'Hyuk-...</td>\n    </tr>\n    <tr>\n      <th>570</th>\n      <td>7.8</td>\n      <td>300</td>\n      <td>R</td>\n      <td>Action</td>\n      <td>117</td>\n      <td>[u'Gerard Butler', u'Lena Headey', u'David Wen...</td>\n    </tr>\n    <tr>\n      <th>555</th>\n      <td>7.8</td>\n      <td>3:10 to Yuma</td>\n      <td>R</td>\n      <td>Adventure</td>\n      <td>122</td>\n      <td>[u'Russell Crowe', u'Christian Bale', u'Ben Fo...</td>\n    </tr>\n    <tr>\n      <th>427</th>\n      <td>7.9</td>\n      <td>4 Months, 3 Weeks and 2 Days</td>\n      <td>NOT RATED</td>\n      <td>Drama</td>\n      <td>113</td>\n      <td>[u'Anamaria Marinca', u'Vlad Ivanov', u'Laura ...</td>\n    </tr>\n    <tr>\n      <th>824</th>\n      <td>7.5</td>\n      <td>42</td>\n      <td>PG-13</td>\n      <td>Biography</td>\n      <td>128</td>\n      <td>[u'Chadwick Boseman', u'T.R. Knight', u'Harris...</td>\n    </tr>\n    <tr>\n      <th>597</th>\n      <td>7.7</td>\n      <td>50/50</td>\n      <td>R</td>\n      <td>Comedy</td>\n      <td>100</td>\n      <td>[u'Joseph Gordon-Levitt', u'Seth Rogen', u'Ann...</td>\n    </tr>\n    <tr>\n      <th>203</th>\n      <td>8.1</td>\n      <td>8 1/2</td>\n      <td>NOT RATED</td>\n      <td>Drama</td>\n      <td>138</td>\n      <td>[u'Marcello Mastroianni', u'Anouk Aim\\xe9e', u...</td>\n    </tr>\n    <tr>\n      <th>170</th>\n      <td>8.2</td>\n      <td>A Beautiful Mind</td>\n      <td>PG-13</td>\n      <td>Biography</td>\n      <td>135</td>\n      <td>[u'Russell Crowe', u'Ed Harris', u'Jennifer Co...</td>\n    </tr>\n    <tr>\n      <th>941</th>\n      <td>7.4</td>\n      <td>A Bridge Too Far</td>\n      <td>PG</td>\n      <td>Drama</td>\n      <td>175</td>\n      <td>[u'Sean Connery', u\"Ryan O'Neal\", u'Michael Ca...</td>\n    </tr>\n    <tr>\n      <th>571</th>\n      <td>7.8</td>\n      <td>A Bronx Tale</td>\n      <td>R</td>\n      <td>Crime</td>\n      <td>121</td>\n      <td>[u'Robert De Niro', u'Chazz Palminteri', u'Lil...</td>\n    </tr>\n    <tr>\n      <th>266</th>\n      <td>8.1</td>\n      <td>A Christmas Story</td>\n      <td>PG</td>\n      <td>Comedy</td>\n      <td>94</td>\n      <td>[u'Peter Billingsley', u'Melinda Dillon', u'Da...</td>\n    </tr>\n    <tr>\n      <th>86</th>\n      <td>8.4</td>\n      <td>A Clockwork Orange</td>\n      <td>X</td>\n      <td>Crime</td>\n      <td>136</td>\n      <td>[u'Malcolm McDowell', u'Patrick Magee', u'Mich...</td>\n    </tr>\n    <tr>\n      <th>716</th>\n      <td>7.6</td>\n      <td>A Few Good Men</td>\n      <td>R</td>\n      <td>Drama</td>\n      <td>138</td>\n      <td>[u'Tom Cruise', u'Jack Nicholson', u'Demi Moore']</td>\n    </tr>\n    <tr>\n      <th>750</th>\n      <td>7.6</td>\n      <td>A Fish Called Wanda</td>\n      <td>R</td>\n      <td>Comedy</td>\n      <td>108</td>\n      <td>[u'John Cleese', u'Jamie Lee Curtis', u'Kevin ...</td>\n    </tr>\n    <tr>\n      <th>276</th>\n      <td>8.1</td>\n      <td>A Fistful of Dollars</td>\n      <td>R</td>\n      <td>Action</td>\n      <td>99</td>\n      <td>[u'Clint Eastwood', u'Gian Maria Volont\\xe9', ...</td>\n    </tr>\n    <tr>\n      <th>612</th>\n      <td>7.7</td>\n      <td>A Hard Day's Night</td>\n      <td>APPROVED</td>\n      <td>Comedy</td>\n      <td>87</td>\n      <td>[u'John Lennon', u'Paul McCartney', u'George H...</td>\n    </tr>\n    <tr>\n      <th>883</th>\n      <td>7.5</td>\n      <td>A History of Violence</td>\n      <td>R</td>\n      <td>Crime</td>\n      <td>96</td>\n      <td>[u'Viggo Mortensen', u'Maria Bello', u'Ed Harr...</td>\n    </tr>\n    <tr>\n      <th>869</th>\n      <td>7.5</td>\n      <td>A Nightmare on Elm Street</td>\n      <td>R</td>\n      <td>Horror</td>\n      <td>91</td>\n      <td>[u'Heather Langenkamp', u'Johnny Depp', u'Robe...</td>\n    </tr>\n    <tr>\n      <th>865</th>\n      <td>7.5</td>\n      <td>A Perfect World</td>\n      <td>PG-13</td>\n      <td>Crime</td>\n      <td>138</td>\n      <td>[u'Kevin Costner', u'Clint Eastwood', u'Laura ...</td>\n    </tr>\n    <tr>\n      <th>426</th>\n      <td>7.9</td>\n      <td>A Prophet</td>\n      <td>R</td>\n      <td>Crime</td>\n      <td>155</td>\n      <td>[u'Tahar Rahim', u'Niels Arestrup', u'Adel Ben...</td>\n    </tr>\n    <tr>\n      <th>...</th>\n      <td>...</td>\n      <td>...</td>\n      <td>...</td>\n      <td>...</td>\n      <td>...</td>\n      <td>...</td>\n    </tr>\n    <tr>\n      <th>207</th>\n      <td>8.1</td>\n      <td>What Ever Happened to Baby Jane?</td>\n      <td>APPROVED</td>\n      <td>Drama</td>\n      <td>134</td>\n      <td>[u'Bette Davis', u'Joan Crawford', u'Victor Bu...</td>\n    </tr>\n    <tr>\n      <th>562</th>\n      <td>7.8</td>\n      <td>What's Eating Gilbert Grape</td>\n      <td>PG-13</td>\n      <td>Drama</td>\n      <td>118</td>\n      <td>[u'Johnny Depp', u'Leonardo DiCaprio', u'Julie...</td>\n    </tr>\n    <tr>\n      <th>719</th>\n      <td>7.6</td>\n      <td>When Harry Met Sally...</td>\n      <td>R</td>\n      <td>Comedy</td>\n      <td>96</td>\n      <td>[u'Billy Crystal', u'Meg Ryan', u'Carrie Fisher']</td>\n    </tr>\n    <tr>\n      <th>649</th>\n      <td>7.7</td>\n      <td>Where Eagles Dare</td>\n      <td>NaN</td>\n      <td>Action</td>\n      <td>158</td>\n      <td>[u'Richard Burton', u'Clint Eastwood', u'Mary ...</td>\n    </tr>\n    <tr>\n      <th>33</th>\n      <td>8.6</td>\n      <td>Whiplash</td>\n      <td>R</td>\n      <td>Drama</td>\n      <td>107</td>\n      <td>[u'Miles Teller', u'J.K. Simmons', u'Melissa B...</td>\n    </tr>\n    <tr>\n      <th>669</th>\n      <td>7.7</td>\n      <td>Who Framed Roger Rabbit</td>\n      <td>PG</td>\n      <td>Animation</td>\n      <td>104</td>\n      <td>[u'Bob Hoskins', u'Christopher Lloyd', u'Joann...</td>\n    </tr>\n    <tr>\n      <th>219</th>\n      <td>8.1</td>\n      <td>Who's Afraid of Virginia Woolf?</td>\n      <td>TV-MA</td>\n      <td>Drama</td>\n      <td>131</td>\n      <td>[u'Elizabeth Taylor', u'Richard Burton', u'Geo...</td>\n    </tr>\n    <tr>\n      <th>127</th>\n      <td>8.3</td>\n      <td>Wild Strawberries</td>\n      <td>UNRATED</td>\n      <td>Drama</td>\n      <td>91</td>\n      <td>[u'Victor Sj\\xf6str\\xf6m', u'Bibi Andersson', ...</td>\n    </tr>\n    <tr>\n      <th>497</th>\n      <td>7.8</td>\n      <td>Willy Wonka &amp; the Chocolate Factory</td>\n      <td>G</td>\n      <td>Family</td>\n      <td>100</td>\n      <td>[u'Gene Wilder', u'Jack Albertson', u'Peter Os...</td>\n    </tr>\n    <tr>\n      <th>270</th>\n      <td>8.1</td>\n      <td>Wings of Desire</td>\n      <td>PG-13</td>\n      <td>Drama</td>\n      <td>128</td>\n      <td>[u'Bruno Ganz', u'Solveig Dommartin', u'Otto S...</td>\n    </tr>\n    <tr>\n      <th>483</th>\n      <td>7.8</td>\n      <td>Withnail &amp; I</td>\n      <td>R</td>\n      <td>Comedy</td>\n      <td>107</td>\n      <td>[u'Richard E. Grant', u'Paul McGann', u'Richar...</td>\n    </tr>\n    <tr>\n      <th>920</th>\n      <td>7.5</td>\n      <td>Witness</td>\n      <td>R</td>\n      <td>Crime</td>\n      <td>112</td>\n      <td>[u'Harrison Ford', u'Kelly McGillis', u'Lukas ...</td>\n    </tr>\n    <tr>\n      <th>65</th>\n      <td>8.4</td>\n      <td>Witness for the Prosecution</td>\n      <td>APPROVED</td>\n      <td>Crime</td>\n      <td>116</td>\n      <td>[u'Tyrone Power', u'Marlene Dietrich', u'Charl...</td>\n    </tr>\n    <tr>\n      <th>970</th>\n      <td>7.4</td>\n      <td>Wonder Boys</td>\n      <td>R</td>\n      <td>Drama</td>\n      <td>107</td>\n      <td>[u'Michael Douglas', u'Tobey Maguire', u'Franc...</td>\n    </tr>\n    <tr>\n      <th>518</th>\n      <td>7.8</td>\n      <td>Wreck-It Ralph</td>\n      <td>PG</td>\n      <td>Animation</td>\n      <td>101</td>\n      <td>[u'John C. Reilly', u'Jack McBrayer', u'Jane L...</td>\n    </tr>\n    <tr>\n      <th>954</th>\n      <td>7.4</td>\n      <td>X-Men</td>\n      <td>PG-13</td>\n      <td>Action</td>\n      <td>104</td>\n      <td>[u'Patrick Stewart', u'Hugh Jackman', u'Ian Mc...</td>\n    </tr>\n    <tr>\n      <th>248</th>\n      <td>8.1</td>\n      <td>X-Men: Days of Future Past</td>\n      <td>PG-13</td>\n      <td>Action</td>\n      <td>131</td>\n      <td>[u'Patrick Stewart', u'Ian McKellen', u'Hugh J...</td>\n    </tr>\n    <tr>\n      <th>532</th>\n      <td>7.8</td>\n      <td>X-Men: First Class</td>\n      <td>PG-13</td>\n      <td>Action</td>\n      <td>132</td>\n      <td>[u'James McAvoy', u'Michael Fassbender', u'Jen...</td>\n    </tr>\n    <tr>\n      <th>871</th>\n      <td>7.5</td>\n      <td>X2</td>\n      <td>PG-13</td>\n      <td>Action</td>\n      <td>134</td>\n      <td>[u'Patrick Stewart', u'Hugh Jackman', u'Halle ...</td>\n    </tr>\n    <tr>\n      <th>695</th>\n      <td>7.7</td>\n      <td>Y Tu Mama Tambien</td>\n      <td>R</td>\n      <td>Drama</td>\n      <td>106</td>\n      <td>[u'Maribel Verd\\xfa', u'Gael Garc\\xeda Bernal'...</td>\n    </tr>\n    <tr>\n      <th>403</th>\n      <td>7.9</td>\n      <td>Ying xiong</td>\n      <td>PG-13</td>\n      <td>Action</td>\n      <td>99</td>\n      <td>[u'Jet Li', u'Tony Chiu Wai Leung', u'Maggie C...</td>\n    </tr>\n    <tr>\n      <th>235</th>\n      <td>8.1</td>\n      <td>Yip Man</td>\n      <td>R</td>\n      <td>Action</td>\n      <td>106</td>\n      <td>[u'Donnie Yen', u'Simon Yam', u'Siu-Wong Fan']</td>\n    </tr>\n    <tr>\n      <th>96</th>\n      <td>8.4</td>\n      <td>Yojimbo</td>\n      <td>UNRATED</td>\n      <td>Action</td>\n      <td>110</td>\n      <td>[u'Toshir\\xf4 Mifune', u'Eijir\\xf4 T\\xf4no', u...</td>\n    </tr>\n    <tr>\n      <th>280</th>\n      <td>8.1</td>\n      <td>Young Frankenstein</td>\n      <td>PG</td>\n      <td>Comedy</td>\n      <td>106</td>\n      <td>[u'Gene Wilder', u'Madeline Kahn', u'Marty Fel...</td>\n    </tr>\n    <tr>\n      <th>535</th>\n      <td>7.8</td>\n      <td>Zelig</td>\n      <td>PG</td>\n      <td>Comedy</td>\n      <td>79</td>\n      <td>[u'Woody Allen', u'Mia Farrow', u'Patrick Horg...</td>\n    </tr>\n    <tr>\n      <th>955</th>\n      <td>7.4</td>\n      <td>Zero Dark Thirty</td>\n      <td>R</td>\n      <td>Drama</td>\n      <td>157</td>\n      <td>[u'Jessica Chastain', u'Joel Edgerton', u'Chri...</td>\n    </tr>\n    <tr>\n      <th>677</th>\n      <td>7.7</td>\n      <td>Zodiac</td>\n      <td>R</td>\n      <td>Crime</td>\n      <td>157</td>\n      <td>[u'Jake Gyllenhaal', u'Robert Downey Jr.', u'M...</td>\n    </tr>\n    <tr>\n      <th>615</th>\n      <td>7.7</td>\n      <td>Zombieland</td>\n      <td>R</td>\n      <td>Comedy</td>\n      <td>88</td>\n      <td>[u'Jesse Eisenberg', u'Emma Stone', u'Woody Ha...</td>\n    </tr>\n    <tr>\n      <th>526</th>\n      <td>7.8</td>\n      <td>Zulu</td>\n      <td>UNRATED</td>\n      <td>Drama</td>\n      <td>138</td>\n      <td>[u'Stanley Baker', u'Jack Hawkins', u'Ulla Jac...</td>\n    </tr>\n    <tr>\n      <th>864</th>\n      <td>7.5</td>\n      <td>[Rec]</td>\n      <td>R</td>\n      <td>Horror</td>\n      <td>78</td>\n      <td>[u'Manuela Velasco', u'Ferran Terraza', u'Jorg...</td>\n    </tr>\n  </tbody>\n</table>\n<p>979 rows × 6 columns</p>\n</div>",
            "text/plain": "     star_rating                                title content_rating  \\\n542          7.8                 (500) Days of Summer          PG-13   \n5            8.9                         12 Angry Men      NOT RATED   \n201          8.1                     12 Years a Slave              R   \n698          7.6                            127 Hours              R   \n110          8.3                2001: A Space Odyssey              G   \n910          7.5                                 2046              R   \n596          7.7                             21 Grams              R   \n624          7.7                            25th Hour              R   \n708          7.6                     28 Days Later...              R   \n60           8.5                             3 Idiots          PG-13   \n225          8.1                               3-Iron              R   \n570          7.8                                  300              R   \n555          7.8                         3:10 to Yuma              R   \n427          7.9         4 Months, 3 Weeks and 2 Days      NOT RATED   \n824          7.5                                   42          PG-13   \n597          7.7                                50/50              R   \n203          8.1                                8 1/2      NOT RATED   \n170          8.2                     A Beautiful Mind          PG-13   \n941          7.4                     A Bridge Too Far             PG   \n571          7.8                         A Bronx Tale              R   \n266          8.1                    A Christmas Story             PG   \n86           8.4                   A Clockwork Orange              X   \n716          7.6                       A Few Good Men              R   \n750          7.6                  A Fish Called Wanda              R   \n276          8.1                 A Fistful of Dollars              R   \n612          7.7                   A Hard Day's Night       APPROVED   \n883          7.5                A History of Violence              R   \n869          7.5            A Nightmare on Elm Street              R   \n865          7.5                      A Perfect World          PG-13   \n426          7.9                            A Prophet              R   \n..           ...                                  ...            ...   \n207          8.1     What Ever Happened to Baby Jane?       APPROVED   \n562          7.8          What's Eating Gilbert Grape          PG-13   \n719          7.6              When Harry Met Sally...              R   \n649          7.7                    Where Eagles Dare            NaN   \n33           8.6                             Whiplash              R   \n669          7.7              Who Framed Roger Rabbit             PG   \n219          8.1      Who's Afraid of Virginia Woolf?          TV-MA   \n127          8.3                    Wild Strawberries        UNRATED   \n497          7.8  Willy Wonka & the Chocolate Factory              G   \n270          8.1                      Wings of Desire          PG-13   \n483          7.8                         Withnail & I              R   \n920          7.5                              Witness              R   \n65           8.4          Witness for the Prosecution       APPROVED   \n970          7.4                          Wonder Boys              R   \n518          7.8                       Wreck-It Ralph             PG   \n954          7.4                                X-Men          PG-13   \n248          8.1           X-Men: Days of Future Past          PG-13   \n532          7.8                   X-Men: First Class          PG-13   \n871          7.5                                   X2          PG-13   \n695          7.7                    Y Tu Mama Tambien              R   \n403          7.9                           Ying xiong          PG-13   \n235          8.1                              Yip Man              R   \n96           8.4                              Yojimbo        UNRATED   \n280          8.1                   Young Frankenstein             PG   \n535          7.8                                Zelig             PG   \n955          7.4                     Zero Dark Thirty              R   \n677          7.7                               Zodiac              R   \n615          7.7                           Zombieland              R   \n526          7.8                                 Zulu        UNRATED   \n864          7.5                                [Rec]              R   \n\n         genre  duration                                        actors_list  \n542     Comedy        95  [u'Zooey Deschanel', u'Joseph Gordon-Levitt', ...  \n5        Drama        96  [u'Henry Fonda', u'Lee J. Cobb', u'Martin Bals...  \n201  Biography       134  [u'Chiwetel Ejiofor', u'Michael Kenneth Willia...  \n698  Adventure        94  [u'James Franco', u'Amber Tamblyn', u'Kate Mara']  \n110    Mystery       160  [u'Keir Dullea', u'Gary Lockwood', u'William S...  \n910      Drama       129  [u'Tony Chiu Wai Leung', u'Ziyi Zhang', u'Faye...  \n596      Crime       124  [u'Sean Penn', u'Benicio Del Toro', u'Naomi Wa...  \n624      Crime       135  [u'Edward Norton', u'Barry Pepper', u'Philip S...  \n708     Horror       113  [u'Cillian Murphy', u'Naomie Harris', u'Christ...  \n60      Comedy       170        [u'Aamir Khan', u'Madhavan', u'Mona Singh']  \n225      Crime        88  [u'Seung-yeon Lee', u'Hyun-kyoon Lee', u'Hyuk-...  \n570     Action       117  [u'Gerard Butler', u'Lena Headey', u'David Wen...  \n555  Adventure       122  [u'Russell Crowe', u'Christian Bale', u'Ben Fo...  \n427      Drama       113  [u'Anamaria Marinca', u'Vlad Ivanov', u'Laura ...  \n824  Biography       128  [u'Chadwick Boseman', u'T.R. Knight', u'Harris...  \n597     Comedy       100  [u'Joseph Gordon-Levitt', u'Seth Rogen', u'Ann...  \n203      Drama       138  [u'Marcello Mastroianni', u'Anouk Aim\\xe9e', u...  \n170  Biography       135  [u'Russell Crowe', u'Ed Harris', u'Jennifer Co...  \n941      Drama       175  [u'Sean Connery', u\"Ryan O'Neal\", u'Michael Ca...  \n571      Crime       121  [u'Robert De Niro', u'Chazz Palminteri', u'Lil...  \n266     Comedy        94  [u'Peter Billingsley', u'Melinda Dillon', u'Da...  \n86       Crime       136  [u'Malcolm McDowell', u'Patrick Magee', u'Mich...  \n716      Drama       138  [u'Tom Cruise', u'Jack Nicholson', u'Demi Moore']  \n750     Comedy       108  [u'John Cleese', u'Jamie Lee Curtis', u'Kevin ...  \n276     Action        99  [u'Clint Eastwood', u'Gian Maria Volont\\xe9', ...  \n612     Comedy        87  [u'John Lennon', u'Paul McCartney', u'George H...  \n883      Crime        96  [u'Viggo Mortensen', u'Maria Bello', u'Ed Harr...  \n869     Horror        91  [u'Heather Langenkamp', u'Johnny Depp', u'Robe...  \n865      Crime       138  [u'Kevin Costner', u'Clint Eastwood', u'Laura ...  \n426      Crime       155  [u'Tahar Rahim', u'Niels Arestrup', u'Adel Ben...  \n..         ...       ...                                                ...  \n207      Drama       134  [u'Bette Davis', u'Joan Crawford', u'Victor Bu...  \n562      Drama       118  [u'Johnny Depp', u'Leonardo DiCaprio', u'Julie...  \n719     Comedy        96  [u'Billy Crystal', u'Meg Ryan', u'Carrie Fisher']  \n649     Action       158  [u'Richard Burton', u'Clint Eastwood', u'Mary ...  \n33       Drama       107  [u'Miles Teller', u'J.K. Simmons', u'Melissa B...  \n669  Animation       104  [u'Bob Hoskins', u'Christopher Lloyd', u'Joann...  \n219      Drama       131  [u'Elizabeth Taylor', u'Richard Burton', u'Geo...  \n127      Drama        91  [u'Victor Sj\\xf6str\\xf6m', u'Bibi Andersson', ...  \n497     Family       100  [u'Gene Wilder', u'Jack Albertson', u'Peter Os...  \n270      Drama       128  [u'Bruno Ganz', u'Solveig Dommartin', u'Otto S...  \n483     Comedy       107  [u'Richard E. Grant', u'Paul McGann', u'Richar...  \n920      Crime       112  [u'Harrison Ford', u'Kelly McGillis', u'Lukas ...  \n65       Crime       116  [u'Tyrone Power', u'Marlene Dietrich', u'Charl...  \n970      Drama       107  [u'Michael Douglas', u'Tobey Maguire', u'Franc...  \n518  Animation       101  [u'John C. Reilly', u'Jack McBrayer', u'Jane L...  \n954     Action       104  [u'Patrick Stewart', u'Hugh Jackman', u'Ian Mc...  \n248     Action       131  [u'Patrick Stewart', u'Ian McKellen', u'Hugh J...  \n532     Action       132  [u'James McAvoy', u'Michael Fassbender', u'Jen...  \n871     Action       134  [u'Patrick Stewart', u'Hugh Jackman', u'Halle ...  \n695      Drama       106  [u'Maribel Verd\\xfa', u'Gael Garc\\xeda Bernal'...  \n403     Action        99  [u'Jet Li', u'Tony Chiu Wai Leung', u'Maggie C...  \n235     Action       106     [u'Donnie Yen', u'Simon Yam', u'Siu-Wong Fan']  \n96      Action       110  [u'Toshir\\xf4 Mifune', u'Eijir\\xf4 T\\xf4no', u...  \n280     Comedy       106  [u'Gene Wilder', u'Madeline Kahn', u'Marty Fel...  \n535     Comedy        79  [u'Woody Allen', u'Mia Farrow', u'Patrick Horg...  \n955      Drama       157  [u'Jessica Chastain', u'Joel Edgerton', u'Chri...  \n677      Crime       157  [u'Jake Gyllenhaal', u'Robert Downey Jr.', u'M...  \n615     Comedy        88  [u'Jesse Eisenberg', u'Emma Stone', u'Woody Ha...  \n526      Drama       138  [u'Stanley Baker', u'Jack Hawkins', u'Ulla Jac...  \n864     Horror        78  [u'Manuela Velasco', u'Ferran Terraza', u'Jorg...  \n\n[979 rows x 6 columns]"
          },
          "metadata": {}
        }
      ]
    },
    {
      "metadata": {
        "trusted": true
      },
      "cell_type": "code",
      "source": "# Sorting more than one column, passes in a list\nmovies.sort_values(['content_rating', 'duration'])",
      "execution_count": 52,
      "outputs": [
        {
          "output_type": "execute_result",
          "execution_count": 52,
          "data": {
            "text/html": "<div>\n<style scoped>\n    .dataframe tbody tr th:only-of-type {\n        vertical-align: middle;\n    }\n\n    .dataframe tbody tr th {\n        vertical-align: top;\n    }\n\n    .dataframe thead th {\n        text-align: right;\n    }\n</style>\n<table border=\"1\" class=\"dataframe\">\n  <thead>\n    <tr style=\"text-align: right;\">\n      <th></th>\n      <th>star_rating</th>\n      <th>title</th>\n      <th>content_rating</th>\n      <th>genre</th>\n      <th>duration</th>\n      <th>actors_list</th>\n    </tr>\n  </thead>\n  <tbody>\n    <tr>\n      <th>713</th>\n      <td>7.6</td>\n      <td>The Jungle Book</td>\n      <td>APPROVED</td>\n      <td>Animation</td>\n      <td>78</td>\n      <td>[u'Phil Harris', u'Sebastian Cabot', u'Louis P...</td>\n    </tr>\n    <tr>\n      <th>513</th>\n      <td>7.8</td>\n      <td>Invasion of the Body Snatchers</td>\n      <td>APPROVED</td>\n      <td>Horror</td>\n      <td>80</td>\n      <td>[u'Kevin McCarthy', u'Dana Wynter', u'Larry Ga...</td>\n    </tr>\n    <tr>\n      <th>272</th>\n      <td>8.1</td>\n      <td>The Killing</td>\n      <td>APPROVED</td>\n      <td>Crime</td>\n      <td>85</td>\n      <td>[u'Sterling Hayden', u'Coleen Gray', u'Vince E...</td>\n    </tr>\n    <tr>\n      <th>703</th>\n      <td>7.6</td>\n      <td>Dracula</td>\n      <td>APPROVED</td>\n      <td>Horror</td>\n      <td>85</td>\n      <td>[u'Bela Lugosi', u'Helen Chandler', u'David Ma...</td>\n    </tr>\n    <tr>\n      <th>612</th>\n      <td>7.7</td>\n      <td>A Hard Day's Night</td>\n      <td>APPROVED</td>\n      <td>Comedy</td>\n      <td>87</td>\n      <td>[u'John Lennon', u'Paul McCartney', u'George H...</td>\n    </tr>\n    <tr>\n      <th>58</th>\n      <td>8.5</td>\n      <td>Paths of Glory</td>\n      <td>APPROVED</td>\n      <td>Drama</td>\n      <td>88</td>\n      <td>[u'Kirk Douglas', u'Ralph Meeker', u'Adolphe M...</td>\n    </tr>\n    <tr>\n      <th>210</th>\n      <td>8.1</td>\n      <td>Laura</td>\n      <td>APPROVED</td>\n      <td>Film-Noir</td>\n      <td>88</td>\n      <td>[u'Gene Tierney', u'Dana Andrews', u'Clifton W...</td>\n    </tr>\n    <tr>\n      <th>656</th>\n      <td>7.7</td>\n      <td>Snow White and the Seven Dwarfs</td>\n      <td>APPROVED</td>\n      <td>Animation</td>\n      <td>88</td>\n      <td>[u'Adriana Caselotti', u'Harry Stockwell', u'L...</td>\n    </tr>\n    <tr>\n      <th>844</th>\n      <td>7.5</td>\n      <td>Pinocchio</td>\n      <td>APPROVED</td>\n      <td>Animation</td>\n      <td>88</td>\n      <td>[u'Dickie Jones', u'Christian Rub', u'Mel Blanc']</td>\n    </tr>\n    <tr>\n      <th>233</th>\n      <td>8.1</td>\n      <td>The Night of the Hunter</td>\n      <td>APPROVED</td>\n      <td>Crime</td>\n      <td>92</td>\n      <td>[u'Robert Mitchum', u'Shelley Winters', u'Lill...</td>\n    </tr>\n    <tr>\n      <th>287</th>\n      <td>8.1</td>\n      <td>His Girl Friday</td>\n      <td>APPROVED</td>\n      <td>Comedy</td>\n      <td>92</td>\n      <td>[u'Cary Grant', u'Rosalind Russell', u'Ralph B...</td>\n    </tr>\n    <tr>\n      <th>484</th>\n      <td>7.8</td>\n      <td>The Day the Earth Stood Still</td>\n      <td>APPROVED</td>\n      <td>Sci-Fi</td>\n      <td>92</td>\n      <td>[u'Michael Rennie', u'Patricia Neal', u'Hugh M...</td>\n    </tr>\n    <tr>\n      <th>451</th>\n      <td>7.9</td>\n      <td>Miracle on 34th Street</td>\n      <td>APPROVED</td>\n      <td>Comedy</td>\n      <td>96</td>\n      <td>[u'Edmund Gwenn', u\"Maureen O'Hara\", u'John Pa...</td>\n    </tr>\n    <tr>\n      <th>229</th>\n      <td>8.1</td>\n      <td>Strangers on a Train</td>\n      <td>APPROVED</td>\n      <td>Crime</td>\n      <td>101</td>\n      <td>[u'Farley Granger', u'Robert Walker', u'Ruth R...</td>\n    </tr>\n    <tr>\n      <th>237</th>\n      <td>8.1</td>\n      <td>Notorious</td>\n      <td>APPROVED</td>\n      <td>Drama</td>\n      <td>101</td>\n      <td>[u'Cary Grant', u'Ingrid Bergman', u'Claude Ra...</td>\n    </tr>\n    <tr>\n      <th>521</th>\n      <td>7.8</td>\n      <td>Belle de Jour</td>\n      <td>APPROVED</td>\n      <td>Drama</td>\n      <td>101</td>\n      <td>[u'Catherine Deneuve', u'Jean Sorel', u'Michel...</td>\n    </tr>\n    <tr>\n      <th>285</th>\n      <td>8.1</td>\n      <td>Bringing Up Baby</td>\n      <td>APPROVED</td>\n      <td>Comedy</td>\n      <td>102</td>\n      <td>[u'Katharine Hepburn', u'Cary Grant', u'Charle...</td>\n    </tr>\n    <tr>\n      <th>94</th>\n      <td>8.4</td>\n      <td>Singin' in the Rain</td>\n      <td>APPROVED</td>\n      <td>Comedy</td>\n      <td>103</td>\n      <td>[u'Gene Kelly', u\"Donald O'Connor\", u'Debbie R...</td>\n    </tr>\n    <tr>\n      <th>575</th>\n      <td>7.8</td>\n      <td>Kramer vs. Kramer</td>\n      <td>APPROVED</td>\n      <td>Drama</td>\n      <td>105</td>\n      <td>[u'Dustin Hoffman', u'Meryl Streep', u'Jane Al...</td>\n    </tr>\n    <tr>\n      <th>298</th>\n      <td>8.0</td>\n      <td>The Graduate</td>\n      <td>APPROVED</td>\n      <td>Comedy</td>\n      <td>106</td>\n      <td>[u'Dustin Hoffman', u'Anne Bancroft', u'Kathar...</td>\n    </tr>\n    <tr>\n      <th>866</th>\n      <td>7.5</td>\n      <td>To Catch a Thief</td>\n      <td>APPROVED</td>\n      <td>Mystery</td>\n      <td>106</td>\n      <td>[u'Cary Grant', u'Grace Kelly', u'Jessie Royce...</td>\n    </tr>\n    <tr>\n      <th>230</th>\n      <td>8.1</td>\n      <td>Cat on a Hot Tin Roof</td>\n      <td>APPROVED</td>\n      <td>Drama</td>\n      <td>108</td>\n      <td>[u'Elizabeth Taylor', u'Paul Newman', u'Burl I...</td>\n    </tr>\n    <tr>\n      <th>350</th>\n      <td>8.0</td>\n      <td>Shadow of a Doubt</td>\n      <td>APPROVED</td>\n      <td>Thriller</td>\n      <td>108</td>\n      <td>[u'Teresa Wright', u'Joseph Cotten', u'Macdona...</td>\n    </tr>\n    <tr>\n      <th>329</th>\n      <td>8.0</td>\n      <td>In the Heat of the Night</td>\n      <td>APPROVED</td>\n      <td>Crime</td>\n      <td>109</td>\n      <td>[u'Sidney Poitier', u'Rod Steiger', u'Warren O...</td>\n    </tr>\n    <tr>\n      <th>563</th>\n      <td>7.8</td>\n      <td>Goldfinger</td>\n      <td>APPROVED</td>\n      <td>Action</td>\n      <td>110</td>\n      <td>[u'Sean Connery', u'Gert Fr\\xf6be', u'Honor Bl...</td>\n    </tr>\n    <tr>\n      <th>410</th>\n      <td>7.9</td>\n      <td>Bonnie and Clyde</td>\n      <td>APPROVED</td>\n      <td>Biography</td>\n      <td>111</td>\n      <td>[u'Warren Beatty', u'Faye Dunaway', u'Michael ...</td>\n    </tr>\n    <tr>\n      <th>38</th>\n      <td>8.6</td>\n      <td>Rear Window</td>\n      <td>APPROVED</td>\n      <td>Mystery</td>\n      <td>112</td>\n      <td>[u'James Stewart', u'Grace Kelly', u'Wendell C...</td>\n    </tr>\n    <tr>\n      <th>253</th>\n      <td>8.1</td>\n      <td>The Big Sleep</td>\n      <td>APPROVED</td>\n      <td>Crime</td>\n      <td>114</td>\n      <td>[u'Humphrey Bogart', u'Lauren Bacall', u'John ...</td>\n    </tr>\n    <tr>\n      <th>896</th>\n      <td>7.5</td>\n      <td>From Russia with Love</td>\n      <td>APPROVED</td>\n      <td>Action</td>\n      <td>115</td>\n      <td>[u'Sean Connery', u'Robert Shaw', u'Lotte Lenya']</td>\n    </tr>\n    <tr>\n      <th>65</th>\n      <td>8.4</td>\n      <td>Witness for the Prosecution</td>\n      <td>APPROVED</td>\n      <td>Crime</td>\n      <td>116</td>\n      <td>[u'Tyrone Power', u'Marlene Dietrich', u'Charl...</td>\n    </tr>\n    <tr>\n      <th>...</th>\n      <td>...</td>\n      <td>...</td>\n      <td>...</td>\n      <td>...</td>\n      <td>...</td>\n      <td>...</td>\n    </tr>\n    <tr>\n      <th>652</th>\n      <td>7.7</td>\n      <td>This Is England</td>\n      <td>UNRATED</td>\n      <td>Crime</td>\n      <td>101</td>\n      <td>[u'Thomas Turgoose', u'Stephen Graham', u'Jo H...</td>\n    </tr>\n    <tr>\n      <th>144</th>\n      <td>8.2</td>\n      <td>It Happened One Night</td>\n      <td>UNRATED</td>\n      <td>Comedy</td>\n      <td>105</td>\n      <td>[u'Clark Gable', u'Claudette Colbert', u'Walte...</td>\n    </tr>\n    <tr>\n      <th>291</th>\n      <td>8.1</td>\n      <td>The Return</td>\n      <td>UNRATED</td>\n      <td>Drama</td>\n      <td>105</td>\n      <td>[u'Vladimir Garin', u'Ivan Dobronravov', u'Kon...</td>\n    </tr>\n    <tr>\n      <th>523</th>\n      <td>7.8</td>\n      <td>Repulsion</td>\n      <td>UNRATED</td>\n      <td>Drama</td>\n      <td>105</td>\n      <td>[u'Catherine Deneuve', u'Ian Hendry', u'John F...</td>\n    </tr>\n    <tr>\n      <th>123</th>\n      <td>8.3</td>\n      <td>The General</td>\n      <td>UNRATED</td>\n      <td>Action</td>\n      <td>107</td>\n      <td>[u'Buster Keaton', u'Marion Mack', u'Glen Cave...</td>\n    </tr>\n    <tr>\n      <th>472</th>\n      <td>7.8</td>\n      <td>Guess Who's Coming to Dinner</td>\n      <td>UNRATED</td>\n      <td>Comedy</td>\n      <td>108</td>\n      <td>[u'Spencer Tracy', u'Sidney Poitier', u'Kathar...</td>\n    </tr>\n    <tr>\n      <th>757</th>\n      <td>7.6</td>\n      <td>Funny Games</td>\n      <td>UNRATED</td>\n      <td>Crime</td>\n      <td>108</td>\n      <td>[u'Susanne Lothar', u'Ulrich M\\xfche', u'Arno ...</td>\n    </tr>\n    <tr>\n      <th>96</th>\n      <td>8.4</td>\n      <td>Yojimbo</td>\n      <td>UNRATED</td>\n      <td>Action</td>\n      <td>110</td>\n      <td>[u'Toshir\\xf4 Mifune', u'Eijir\\xf4 T\\xf4no', u...</td>\n    </tr>\n    <tr>\n      <th>687</th>\n      <td>7.7</td>\n      <td>Spellbound</td>\n      <td>UNRATED</td>\n      <td>Film-Noir</td>\n      <td>111</td>\n      <td>[u'Ingrid Bergman', u'Gregory Peck', u'Michael...</td>\n    </tr>\n    <tr>\n      <th>582</th>\n      <td>7.8</td>\n      <td>Sabrina</td>\n      <td>UNRATED</td>\n      <td>Comedy</td>\n      <td>113</td>\n      <td>[u'Humphrey Bogart', u'Audrey Hepburn', u'Will...</td>\n    </tr>\n    <tr>\n      <th>823</th>\n      <td>7.5</td>\n      <td>Straw Dogs</td>\n      <td>UNRATED</td>\n      <td>Crime</td>\n      <td>113</td>\n      <td>[u'Dustin Hoffman', u'Susan George', u'Peter V...</td>\n    </tr>\n    <tr>\n      <th>239</th>\n      <td>8.1</td>\n      <td>Elite Squad: The Enemy Within</td>\n      <td>UNRATED</td>\n      <td>Action</td>\n      <td>115</td>\n      <td>[u'Wagner Moura', u'Irandhir Santos', u'Andr\\x...</td>\n    </tr>\n    <tr>\n      <th>161</th>\n      <td>8.2</td>\n      <td>Diabolique</td>\n      <td>UNRATED</td>\n      <td>Horror</td>\n      <td>116</td>\n      <td>[u'Simone Signoret', u'V\\xe9ra Clouzot', u'Pau...</td>\n    </tr>\n    <tr>\n      <th>317</th>\n      <td>8.0</td>\n      <td>Dawn of the Dead</td>\n      <td>UNRATED</td>\n      <td>Horror</td>\n      <td>127</td>\n      <td>[u'David Emge', u'Ken Foree', u'Scott H. Reini...</td>\n    </tr>\n    <tr>\n      <th>802</th>\n      <td>7.6</td>\n      <td>Tell No One</td>\n      <td>UNRATED</td>\n      <td>Crime</td>\n      <td>131</td>\n      <td>[u'Fran\\xe7ois Cluzet', u'Marie-Jos\\xe9e Croze...</td>\n    </tr>\n    <tr>\n      <th>217</th>\n      <td>8.1</td>\n      <td>Memories of Murder</td>\n      <td>UNRATED</td>\n      <td>Crime</td>\n      <td>132</td>\n      <td>[u'Kang-ho Song', u'Sang-kyung Kim', u'Roe-ha ...</td>\n    </tr>\n    <tr>\n      <th>262</th>\n      <td>8.1</td>\n      <td>The Hustler</td>\n      <td>UNRATED</td>\n      <td>Drama</td>\n      <td>134</td>\n      <td>[u'Paul Newman', u'Jackie Gleason', u'Piper La...</td>\n    </tr>\n    <tr>\n      <th>289</th>\n      <td>8.1</td>\n      <td>All Quiet on the Western Front</td>\n      <td>UNRATED</td>\n      <td>Drama</td>\n      <td>136</td>\n      <td>[u'Lew Ayres', u'Louis Wolheim', u'John Wray']</td>\n    </tr>\n    <tr>\n      <th>526</th>\n      <td>7.8</td>\n      <td>Zulu</td>\n      <td>UNRATED</td>\n      <td>Drama</td>\n      <td>138</td>\n      <td>[u'Stanley Baker', u'Jack Hawkins', u'Ulla Jac...</td>\n    </tr>\n    <tr>\n      <th>730</th>\n      <td>7.6</td>\n      <td>West Side Story</td>\n      <td>UNRATED</td>\n      <td>Crime</td>\n      <td>152</td>\n      <td>[u'Natalie Wood', u'George Chakiris', u'Richar...</td>\n    </tr>\n    <tr>\n      <th>257</th>\n      <td>8.1</td>\n      <td>Anatomy of a Murder</td>\n      <td>UNRATED</td>\n      <td>Crime</td>\n      <td>160</td>\n      <td>[u'James Stewart', u'Lee Remick', u'Ben Gazzara']</td>\n    </tr>\n    <tr>\n      <th>120</th>\n      <td>8.3</td>\n      <td>The Great Escape</td>\n      <td>UNRATED</td>\n      <td>Adventure</td>\n      <td>172</td>\n      <td>[u'Steve McQueen', u'James Garner', u'Richard ...</td>\n    </tr>\n    <tr>\n      <th>17</th>\n      <td>8.7</td>\n      <td>Seven Samurai</td>\n      <td>UNRATED</td>\n      <td>Drama</td>\n      <td>207</td>\n      <td>[u'Toshir\\xf4 Mifune', u'Takashi Shimura', u'K...</td>\n    </tr>\n    <tr>\n      <th>486</th>\n      <td>7.8</td>\n      <td>Evil Dead II</td>\n      <td>X</td>\n      <td>Comedy</td>\n      <td>84</td>\n      <td>[u'Bruce Campbell', u'Sarah Berry', u'Dan Hicks']</td>\n    </tr>\n    <tr>\n      <th>913</th>\n      <td>7.5</td>\n      <td>Suspiria</td>\n      <td>X</td>\n      <td>Horror</td>\n      <td>92</td>\n      <td>[u'Jessica Harper', u'Stefania Casini', u'Flav...</td>\n    </tr>\n    <tr>\n      <th>387</th>\n      <td>8.0</td>\n      <td>Midnight Cowboy</td>\n      <td>X</td>\n      <td>Drama</td>\n      <td>113</td>\n      <td>[u'Dustin Hoffman', u'Jon Voight', u'Sylvia Mi...</td>\n    </tr>\n    <tr>\n      <th>86</th>\n      <td>8.4</td>\n      <td>A Clockwork Orange</td>\n      <td>X</td>\n      <td>Crime</td>\n      <td>136</td>\n      <td>[u'Malcolm McDowell', u'Patrick Magee', u'Mich...</td>\n    </tr>\n    <tr>\n      <th>187</th>\n      <td>8.2</td>\n      <td>Butch Cassidy and the Sundance Kid</td>\n      <td>NaN</td>\n      <td>Biography</td>\n      <td>110</td>\n      <td>[u'Paul Newman', u'Robert Redford', u'Katharin...</td>\n    </tr>\n    <tr>\n      <th>936</th>\n      <td>7.4</td>\n      <td>True Grit</td>\n      <td>NaN</td>\n      <td>Adventure</td>\n      <td>128</td>\n      <td>[u'John Wayne', u'Kim Darby', u'Glen Campbell']</td>\n    </tr>\n    <tr>\n      <th>649</th>\n      <td>7.7</td>\n      <td>Where Eagles Dare</td>\n      <td>NaN</td>\n      <td>Action</td>\n      <td>158</td>\n      <td>[u'Richard Burton', u'Clint Eastwood', u'Mary ...</td>\n    </tr>\n  </tbody>\n</table>\n<p>979 rows × 6 columns</p>\n</div>",
            "text/plain": "     star_rating                               title content_rating  \\\n713          7.6                     The Jungle Book       APPROVED   \n513          7.8      Invasion of the Body Snatchers       APPROVED   \n272          8.1                         The Killing       APPROVED   \n703          7.6                             Dracula       APPROVED   \n612          7.7                  A Hard Day's Night       APPROVED   \n58           8.5                      Paths of Glory       APPROVED   \n210          8.1                               Laura       APPROVED   \n656          7.7     Snow White and the Seven Dwarfs       APPROVED   \n844          7.5                           Pinocchio       APPROVED   \n233          8.1             The Night of the Hunter       APPROVED   \n287          8.1                     His Girl Friday       APPROVED   \n484          7.8       The Day the Earth Stood Still       APPROVED   \n451          7.9              Miracle on 34th Street       APPROVED   \n229          8.1                Strangers on a Train       APPROVED   \n237          8.1                           Notorious       APPROVED   \n521          7.8                       Belle de Jour       APPROVED   \n285          8.1                    Bringing Up Baby       APPROVED   \n94           8.4                 Singin' in the Rain       APPROVED   \n575          7.8                   Kramer vs. Kramer       APPROVED   \n298          8.0                        The Graduate       APPROVED   \n866          7.5                    To Catch a Thief       APPROVED   \n230          8.1               Cat on a Hot Tin Roof       APPROVED   \n350          8.0                   Shadow of a Doubt       APPROVED   \n329          8.0            In the Heat of the Night       APPROVED   \n563          7.8                          Goldfinger       APPROVED   \n410          7.9                    Bonnie and Clyde       APPROVED   \n38           8.6                         Rear Window       APPROVED   \n253          8.1                       The Big Sleep       APPROVED   \n896          7.5               From Russia with Love       APPROVED   \n65           8.4         Witness for the Prosecution       APPROVED   \n..           ...                                 ...            ...   \n652          7.7                     This Is England        UNRATED   \n144          8.2               It Happened One Night        UNRATED   \n291          8.1                          The Return        UNRATED   \n523          7.8                           Repulsion        UNRATED   \n123          8.3                         The General        UNRATED   \n472          7.8        Guess Who's Coming to Dinner        UNRATED   \n757          7.6                         Funny Games        UNRATED   \n96           8.4                             Yojimbo        UNRATED   \n687          7.7                          Spellbound        UNRATED   \n582          7.8                             Sabrina        UNRATED   \n823          7.5                          Straw Dogs        UNRATED   \n239          8.1       Elite Squad: The Enemy Within        UNRATED   \n161          8.2                          Diabolique        UNRATED   \n317          8.0                    Dawn of the Dead        UNRATED   \n802          7.6                         Tell No One        UNRATED   \n217          8.1                  Memories of Murder        UNRATED   \n262          8.1                         The Hustler        UNRATED   \n289          8.1      All Quiet on the Western Front        UNRATED   \n526          7.8                                Zulu        UNRATED   \n730          7.6                     West Side Story        UNRATED   \n257          8.1                 Anatomy of a Murder        UNRATED   \n120          8.3                    The Great Escape        UNRATED   \n17           8.7                       Seven Samurai        UNRATED   \n486          7.8                        Evil Dead II              X   \n913          7.5                            Suspiria              X   \n387          8.0                     Midnight Cowboy              X   \n86           8.4                  A Clockwork Orange              X   \n187          8.2  Butch Cassidy and the Sundance Kid            NaN   \n936          7.4                           True Grit            NaN   \n649          7.7                   Where Eagles Dare            NaN   \n\n         genre  duration                                        actors_list  \n713  Animation        78  [u'Phil Harris', u'Sebastian Cabot', u'Louis P...  \n513     Horror        80  [u'Kevin McCarthy', u'Dana Wynter', u'Larry Ga...  \n272      Crime        85  [u'Sterling Hayden', u'Coleen Gray', u'Vince E...  \n703     Horror        85  [u'Bela Lugosi', u'Helen Chandler', u'David Ma...  \n612     Comedy        87  [u'John Lennon', u'Paul McCartney', u'George H...  \n58       Drama        88  [u'Kirk Douglas', u'Ralph Meeker', u'Adolphe M...  \n210  Film-Noir        88  [u'Gene Tierney', u'Dana Andrews', u'Clifton W...  \n656  Animation        88  [u'Adriana Caselotti', u'Harry Stockwell', u'L...  \n844  Animation        88  [u'Dickie Jones', u'Christian Rub', u'Mel Blanc']  \n233      Crime        92  [u'Robert Mitchum', u'Shelley Winters', u'Lill...  \n287     Comedy        92  [u'Cary Grant', u'Rosalind Russell', u'Ralph B...  \n484     Sci-Fi        92  [u'Michael Rennie', u'Patricia Neal', u'Hugh M...  \n451     Comedy        96  [u'Edmund Gwenn', u\"Maureen O'Hara\", u'John Pa...  \n229      Crime       101  [u'Farley Granger', u'Robert Walker', u'Ruth R...  \n237      Drama       101  [u'Cary Grant', u'Ingrid Bergman', u'Claude Ra...  \n521      Drama       101  [u'Catherine Deneuve', u'Jean Sorel', u'Michel...  \n285     Comedy       102  [u'Katharine Hepburn', u'Cary Grant', u'Charle...  \n94      Comedy       103  [u'Gene Kelly', u\"Donald O'Connor\", u'Debbie R...  \n575      Drama       105  [u'Dustin Hoffman', u'Meryl Streep', u'Jane Al...  \n298     Comedy       106  [u'Dustin Hoffman', u'Anne Bancroft', u'Kathar...  \n866    Mystery       106  [u'Cary Grant', u'Grace Kelly', u'Jessie Royce...  \n230      Drama       108  [u'Elizabeth Taylor', u'Paul Newman', u'Burl I...  \n350   Thriller       108  [u'Teresa Wright', u'Joseph Cotten', u'Macdona...  \n329      Crime       109  [u'Sidney Poitier', u'Rod Steiger', u'Warren O...  \n563     Action       110  [u'Sean Connery', u'Gert Fr\\xf6be', u'Honor Bl...  \n410  Biography       111  [u'Warren Beatty', u'Faye Dunaway', u'Michael ...  \n38     Mystery       112  [u'James Stewart', u'Grace Kelly', u'Wendell C...  \n253      Crime       114  [u'Humphrey Bogart', u'Lauren Bacall', u'John ...  \n896     Action       115  [u'Sean Connery', u'Robert Shaw', u'Lotte Lenya']  \n65       Crime       116  [u'Tyrone Power', u'Marlene Dietrich', u'Charl...  \n..         ...       ...                                                ...  \n652      Crime       101  [u'Thomas Turgoose', u'Stephen Graham', u'Jo H...  \n144     Comedy       105  [u'Clark Gable', u'Claudette Colbert', u'Walte...  \n291      Drama       105  [u'Vladimir Garin', u'Ivan Dobronravov', u'Kon...  \n523      Drama       105  [u'Catherine Deneuve', u'Ian Hendry', u'John F...  \n123     Action       107  [u'Buster Keaton', u'Marion Mack', u'Glen Cave...  \n472     Comedy       108  [u'Spencer Tracy', u'Sidney Poitier', u'Kathar...  \n757      Crime       108  [u'Susanne Lothar', u'Ulrich M\\xfche', u'Arno ...  \n96      Action       110  [u'Toshir\\xf4 Mifune', u'Eijir\\xf4 T\\xf4no', u...  \n687  Film-Noir       111  [u'Ingrid Bergman', u'Gregory Peck', u'Michael...  \n582     Comedy       113  [u'Humphrey Bogart', u'Audrey Hepburn', u'Will...  \n823      Crime       113  [u'Dustin Hoffman', u'Susan George', u'Peter V...  \n239     Action       115  [u'Wagner Moura', u'Irandhir Santos', u'Andr\\x...  \n161     Horror       116  [u'Simone Signoret', u'V\\xe9ra Clouzot', u'Pau...  \n317     Horror       127  [u'David Emge', u'Ken Foree', u'Scott H. Reini...  \n802      Crime       131  [u'Fran\\xe7ois Cluzet', u'Marie-Jos\\xe9e Croze...  \n217      Crime       132  [u'Kang-ho Song', u'Sang-kyung Kim', u'Roe-ha ...  \n262      Drama       134  [u'Paul Newman', u'Jackie Gleason', u'Piper La...  \n289      Drama       136     [u'Lew Ayres', u'Louis Wolheim', u'John Wray']  \n526      Drama       138  [u'Stanley Baker', u'Jack Hawkins', u'Ulla Jac...  \n730      Crime       152  [u'Natalie Wood', u'George Chakiris', u'Richar...  \n257      Crime       160  [u'James Stewart', u'Lee Remick', u'Ben Gazzara']  \n120  Adventure       172  [u'Steve McQueen', u'James Garner', u'Richard ...  \n17       Drama       207  [u'Toshir\\xf4 Mifune', u'Takashi Shimura', u'K...  \n486     Comedy        84  [u'Bruce Campbell', u'Sarah Berry', u'Dan Hicks']  \n913     Horror        92  [u'Jessica Harper', u'Stefania Casini', u'Flav...  \n387      Drama       113  [u'Dustin Hoffman', u'Jon Voight', u'Sylvia Mi...  \n86       Crime       136  [u'Malcolm McDowell', u'Patrick Magee', u'Mich...  \n187  Biography       110  [u'Paul Newman', u'Robert Redford', u'Katharin...  \n936  Adventure       128    [u'John Wayne', u'Kim Darby', u'Glen Campbell']  \n649     Action       158  [u'Richard Burton', u'Clint Eastwood', u'Mary ...  \n\n[979 rows x 6 columns]"
          },
          "metadata": {}
        }
      ]
    }
  ],
  "metadata": {
    "kernelspec": {
      "name": "python36",
      "display_name": "Python 3.6",
      "language": "python"
    },
    "language_info": {
      "mimetype": "text/x-python",
      "nbconvert_exporter": "python",
      "name": "python",
      "pygments_lexer": "ipython3",
      "version": "3.6.6",
      "file_extension": ".py",
      "codemirror_mode": {
        "version": 3,
        "name": "ipython"
      }
    }
  },
  "nbformat": 4,
  "nbformat_minor": 2
}