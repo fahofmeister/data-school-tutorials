{
  "cells": [
    {
      "metadata": {
        "collapsed": true
      },
      "cell_type": "markdown",
      "source": [
        "# Pandas (Part 1)"
      ]
    },
    {
      "metadata": {},
      "cell_type": "markdown",
      "source": [
        "It's a little messy, but each section is the material covered in one video. Hope I can understand this in the future.\n",
        "\n",
        "**Update 2021-02-20:** I decided use one notebook for every 10 videos. "
      ]
    },
    {
      "metadata": {},
      "cell_type": "markdown",
      "source": [
        "## How do I read a tabular data into pandas?"
      ]
    },
    {
      "metadata": {
        "trusted": true
      },
      "cell_type": "code",
      "source": [
        "import pandas as pd"
      ],
      "execution_count": 2,
      "outputs": []
    },
    {
      "metadata": {
        "trusted": true
      },
      "cell_type": "code",
      "source": [
        "# Method to read tables\n",
        "orders = pd.read_table('http://bit.ly/chiporders')"
      ],
      "execution_count": 3,
      "outputs": []
    },
    {
      "metadata": {
        "trusted": true
      },
      "cell_type": "code",
      "source": [
        "# Method to show the first five rows\n",
        "orders.head()"
      ],
      "execution_count": 4,
      "outputs": [
        {
          "output_type": "execute_result",
          "data": {
            "text/plain": [
              "   order_id  quantity                              item_name  \\\n",
              "0         1         1           Chips and Fresh Tomato Salsa   \n",
              "1         1         1                                   Izze   \n",
              "2         1         1                       Nantucket Nectar   \n",
              "3         1         1  Chips and Tomatillo-Green Chili Salsa   \n",
              "4         2         2                           Chicken Bowl   \n",
              "\n",
              "                                  choice_description item_price  \n",
              "0                                                NaN     $2.39   \n",
              "1                                       [Clementine]     $3.39   \n",
              "2                                            [Apple]     $3.39   \n",
              "3                                                NaN     $2.39   \n",
              "4  [Tomatillo-Red Chili Salsa (Hot), [Black Beans...    $16.98   "
            ],
            "text/html": "<div>\n<style scoped>\n    .dataframe tbody tr th:only-of-type {\n        vertical-align: middle;\n    }\n\n    .dataframe tbody tr th {\n        vertical-align: top;\n    }\n\n    .dataframe thead th {\n        text-align: right;\n    }\n</style>\n<table border=\"1\" class=\"dataframe\">\n  <thead>\n    <tr style=\"text-align: right;\">\n      <th></th>\n      <th>order_id</th>\n      <th>quantity</th>\n      <th>item_name</th>\n      <th>choice_description</th>\n      <th>item_price</th>\n    </tr>\n  </thead>\n  <tbody>\n    <tr>\n      <th>0</th>\n      <td>1</td>\n      <td>1</td>\n      <td>Chips and Fresh Tomato Salsa</td>\n      <td>NaN</td>\n      <td>$2.39</td>\n    </tr>\n    <tr>\n      <th>1</th>\n      <td>1</td>\n      <td>1</td>\n      <td>Izze</td>\n      <td>[Clementine]</td>\n      <td>$3.39</td>\n    </tr>\n    <tr>\n      <th>2</th>\n      <td>1</td>\n      <td>1</td>\n      <td>Nantucket Nectar</td>\n      <td>[Apple]</td>\n      <td>$3.39</td>\n    </tr>\n    <tr>\n      <th>3</th>\n      <td>1</td>\n      <td>1</td>\n      <td>Chips and Tomatillo-Green Chili Salsa</td>\n      <td>NaN</td>\n      <td>$2.39</td>\n    </tr>\n    <tr>\n      <th>4</th>\n      <td>2</td>\n      <td>2</td>\n      <td>Chicken Bowl</td>\n      <td>[Tomatillo-Red Chili Salsa (Hot), [Black Beans...</td>\n      <td>$16.98</td>\n    </tr>\n  </tbody>\n</table>\n</div>"
          },
          "metadata": {},
          "execution_count": 4
        }
      ]
    },
    {
      "metadata": {
        "trusted": true
      },
      "cell_type": "code",
      "source": [
        "# How to define columns names in DataFrames without header information and a custom separator\n",
        "user_cols = ['user_id', 'age', 'gender', 'occupation', 'zip_code']\n",
        "users = pd.read_table('http://bit.ly/movieusers', sep='|', header=None, names=user_cols)"
      ],
      "execution_count": 5,
      "outputs": []
    },
    {
      "metadata": {
        "trusted": true
      },
      "cell_type": "code",
      "source": [
        "users.head()"
      ],
      "execution_count": 6,
      "outputs": [
        {
          "output_type": "execute_result",
          "data": {
            "text/plain": [
              "   user_id  age gender  occupation zip_code\n",
              "0        1   24      M  technician    85711\n",
              "1        2   53      F       other    94043\n",
              "2        3   23      M      writer    32067\n",
              "3        4   24      M  technician    43537\n",
              "4        5   33      F       other    15213"
            ],
            "text/html": "<div>\n<style scoped>\n    .dataframe tbody tr th:only-of-type {\n        vertical-align: middle;\n    }\n\n    .dataframe tbody tr th {\n        vertical-align: top;\n    }\n\n    .dataframe thead th {\n        text-align: right;\n    }\n</style>\n<table border=\"1\" class=\"dataframe\">\n  <thead>\n    <tr style=\"text-align: right;\">\n      <th></th>\n      <th>user_id</th>\n      <th>age</th>\n      <th>gender</th>\n      <th>occupation</th>\n      <th>zip_code</th>\n    </tr>\n  </thead>\n  <tbody>\n    <tr>\n      <th>0</th>\n      <td>1</td>\n      <td>24</td>\n      <td>M</td>\n      <td>technician</td>\n      <td>85711</td>\n    </tr>\n    <tr>\n      <th>1</th>\n      <td>2</td>\n      <td>53</td>\n      <td>F</td>\n      <td>other</td>\n      <td>94043</td>\n    </tr>\n    <tr>\n      <th>2</th>\n      <td>3</td>\n      <td>23</td>\n      <td>M</td>\n      <td>writer</td>\n      <td>32067</td>\n    </tr>\n    <tr>\n      <th>3</th>\n      <td>4</td>\n      <td>24</td>\n      <td>M</td>\n      <td>technician</td>\n      <td>43537</td>\n    </tr>\n    <tr>\n      <th>4</th>\n      <td>5</td>\n      <td>33</td>\n      <td>F</td>\n      <td>other</td>\n      <td>15213</td>\n    </tr>\n  </tbody>\n</table>\n</div>"
          },
          "metadata": {},
          "execution_count": 6
        }
      ]
    },
    {
      "metadata": {},
      "cell_type": "markdown",
      "source": [
        "## How do I select a pandas Series from a DataFrame?"
      ]
    },
    {
      "metadata": {
        "trusted": true
      },
      "cell_type": "code",
      "source": [
        "ufo = pd.read_csv('http://bit.ly/uforeports')"
      ],
      "execution_count": 7,
      "outputs": []
    },
    {
      "metadata": {
        "trusted": true
      },
      "cell_type": "code",
      "source": [
        "# ufo is a DataFrame\n",
        "type(ufo)"
      ],
      "execution_count": 8,
      "outputs": [
        {
          "output_type": "execute_result",
          "data": {
            "text/plain": [
              "pandas.core.frame.DataFrame"
            ]
          },
          "metadata": {},
          "execution_count": 8
        }
      ]
    },
    {
      "metadata": {
        "trusted": true
      },
      "cell_type": "code",
      "source": [
        "ufo.head()"
      ],
      "execution_count": 9,
      "outputs": [
        {
          "output_type": "execute_result",
          "data": {
            "text/plain": [
              "                   City Colors Reported Shape Reported State             Time\n",
              "0                Ithaca             NaN       TRIANGLE    NY   6/1/1930 22:00\n",
              "1           Willingboro             NaN          OTHER    NJ  6/30/1930 20:00\n",
              "2               Holyoke             NaN           OVAL    CO  2/15/1931 14:00\n",
              "3               Abilene             NaN           DISK    KS   6/1/1931 13:00\n",
              "4  New York Worlds Fair             NaN          LIGHT    NY  4/18/1933 19:00"
            ],
            "text/html": "<div>\n<style scoped>\n    .dataframe tbody tr th:only-of-type {\n        vertical-align: middle;\n    }\n\n    .dataframe tbody tr th {\n        vertical-align: top;\n    }\n\n    .dataframe thead th {\n        text-align: right;\n    }\n</style>\n<table border=\"1\" class=\"dataframe\">\n  <thead>\n    <tr style=\"text-align: right;\">\n      <th></th>\n      <th>City</th>\n      <th>Colors Reported</th>\n      <th>Shape Reported</th>\n      <th>State</th>\n      <th>Time</th>\n    </tr>\n  </thead>\n  <tbody>\n    <tr>\n      <th>0</th>\n      <td>Ithaca</td>\n      <td>NaN</td>\n      <td>TRIANGLE</td>\n      <td>NY</td>\n      <td>6/1/1930 22:00</td>\n    </tr>\n    <tr>\n      <th>1</th>\n      <td>Willingboro</td>\n      <td>NaN</td>\n      <td>OTHER</td>\n      <td>NJ</td>\n      <td>6/30/1930 20:00</td>\n    </tr>\n    <tr>\n      <th>2</th>\n      <td>Holyoke</td>\n      <td>NaN</td>\n      <td>OVAL</td>\n      <td>CO</td>\n      <td>2/15/1931 14:00</td>\n    </tr>\n    <tr>\n      <th>3</th>\n      <td>Abilene</td>\n      <td>NaN</td>\n      <td>DISK</td>\n      <td>KS</td>\n      <td>6/1/1931 13:00</td>\n    </tr>\n    <tr>\n      <th>4</th>\n      <td>New York Worlds Fair</td>\n      <td>NaN</td>\n      <td>LIGHT</td>\n      <td>NY</td>\n      <td>4/18/1933 19:00</td>\n    </tr>\n  </tbody>\n</table>\n</div>"
          },
          "metadata": {},
          "execution_count": 9
        }
      ]
    },
    {
      "metadata": {
        "trusted": true
      },
      "cell_type": "code",
      "source": [
        "# And each column is treated as a Series\n",
        "type(ufo['City'])"
      ],
      "execution_count": 10,
      "outputs": [
        {
          "output_type": "execute_result",
          "data": {
            "text/plain": [
              "pandas.core.series.Series"
            ]
          },
          "metadata": {},
          "execution_count": 10
        }
      ]
    },
    {
      "metadata": {
        "trusted": true
      },
      "cell_type": "code",
      "source": [
        "# How to create a new column in a DataFrame\n",
        "ufo['Location'] = ufo.City + ', ' + ufo.State"
      ],
      "execution_count": 11,
      "outputs": []
    },
    {
      "metadata": {
        "trusted": true
      },
      "cell_type": "code",
      "source": [
        "ufo.head()"
      ],
      "execution_count": 12,
      "outputs": [
        {
          "output_type": "execute_result",
          "data": {
            "text/plain": [
              "                   City Colors Reported Shape Reported State             Time  \\\n",
              "0                Ithaca             NaN       TRIANGLE    NY   6/1/1930 22:00   \n",
              "1           Willingboro             NaN          OTHER    NJ  6/30/1930 20:00   \n",
              "2               Holyoke             NaN           OVAL    CO  2/15/1931 14:00   \n",
              "3               Abilene             NaN           DISK    KS   6/1/1931 13:00   \n",
              "4  New York Worlds Fair             NaN          LIGHT    NY  4/18/1933 19:00   \n",
              "\n",
              "                   Location  \n",
              "0                Ithaca, NY  \n",
              "1           Willingboro, NJ  \n",
              "2               Holyoke, CO  \n",
              "3               Abilene, KS  \n",
              "4  New York Worlds Fair, NY  "
            ],
            "text/html": "<div>\n<style scoped>\n    .dataframe tbody tr th:only-of-type {\n        vertical-align: middle;\n    }\n\n    .dataframe tbody tr th {\n        vertical-align: top;\n    }\n\n    .dataframe thead th {\n        text-align: right;\n    }\n</style>\n<table border=\"1\" class=\"dataframe\">\n  <thead>\n    <tr style=\"text-align: right;\">\n      <th></th>\n      <th>City</th>\n      <th>Colors Reported</th>\n      <th>Shape Reported</th>\n      <th>State</th>\n      <th>Time</th>\n      <th>Location</th>\n    </tr>\n  </thead>\n  <tbody>\n    <tr>\n      <th>0</th>\n      <td>Ithaca</td>\n      <td>NaN</td>\n      <td>TRIANGLE</td>\n      <td>NY</td>\n      <td>6/1/1930 22:00</td>\n      <td>Ithaca, NY</td>\n    </tr>\n    <tr>\n      <th>1</th>\n      <td>Willingboro</td>\n      <td>NaN</td>\n      <td>OTHER</td>\n      <td>NJ</td>\n      <td>6/30/1930 20:00</td>\n      <td>Willingboro, NJ</td>\n    </tr>\n    <tr>\n      <th>2</th>\n      <td>Holyoke</td>\n      <td>NaN</td>\n      <td>OVAL</td>\n      <td>CO</td>\n      <td>2/15/1931 14:00</td>\n      <td>Holyoke, CO</td>\n    </tr>\n    <tr>\n      <th>3</th>\n      <td>Abilene</td>\n      <td>NaN</td>\n      <td>DISK</td>\n      <td>KS</td>\n      <td>6/1/1931 13:00</td>\n      <td>Abilene, KS</td>\n    </tr>\n    <tr>\n      <th>4</th>\n      <td>New York Worlds Fair</td>\n      <td>NaN</td>\n      <td>LIGHT</td>\n      <td>NY</td>\n      <td>4/18/1933 19:00</td>\n      <td>New York Worlds Fair, NY</td>\n    </tr>\n  </tbody>\n</table>\n</div>"
          },
          "metadata": {},
          "execution_count": 12
        }
      ]
    },
    {
      "metadata": {},
      "cell_type": "markdown",
      "source": [
        "## Why do some pandas command end with parentheses?"
      ]
    },
    {
      "metadata": {
        "trusted": true
      },
      "cell_type": "code",
      "source": [
        "# Method to read CSV files (just like read_table defining a separator)\n",
        "movies = pd.read_csv('http://bit.ly/imdbratings')"
      ],
      "execution_count": 13,
      "outputs": []
    },
    {
      "metadata": {
        "trusted": true
      },
      "cell_type": "code",
      "source": [
        "movies.head()"
      ],
      "execution_count": 14,
      "outputs": [
        {
          "output_type": "execute_result",
          "data": {
            "text/plain": [
              "   star_rating                     title content_rating   genre  duration  \\\n",
              "0          9.3  The Shawshank Redemption              R   Crime       142   \n",
              "1          9.2             The Godfather              R   Crime       175   \n",
              "2          9.1    The Godfather: Part II              R   Crime       200   \n",
              "3          9.0           The Dark Knight          PG-13  Action       152   \n",
              "4          8.9              Pulp Fiction              R   Crime       154   \n",
              "\n",
              "                                         actors_list  \n",
              "0  [u'Tim Robbins', u'Morgan Freeman', u'Bob Gunt...  \n",
              "1    [u'Marlon Brando', u'Al Pacino', u'James Caan']  \n",
              "2  [u'Al Pacino', u'Robert De Niro', u'Robert Duv...  \n",
              "3  [u'Christian Bale', u'Heath Ledger', u'Aaron E...  \n",
              "4  [u'John Travolta', u'Uma Thurman', u'Samuel L....  "
            ],
            "text/html": "<div>\n<style scoped>\n    .dataframe tbody tr th:only-of-type {\n        vertical-align: middle;\n    }\n\n    .dataframe tbody tr th {\n        vertical-align: top;\n    }\n\n    .dataframe thead th {\n        text-align: right;\n    }\n</style>\n<table border=\"1\" class=\"dataframe\">\n  <thead>\n    <tr style=\"text-align: right;\">\n      <th></th>\n      <th>star_rating</th>\n      <th>title</th>\n      <th>content_rating</th>\n      <th>genre</th>\n      <th>duration</th>\n      <th>actors_list</th>\n    </tr>\n  </thead>\n  <tbody>\n    <tr>\n      <th>0</th>\n      <td>9.3</td>\n      <td>The Shawshank Redemption</td>\n      <td>R</td>\n      <td>Crime</td>\n      <td>142</td>\n      <td>[u'Tim Robbins', u'Morgan Freeman', u'Bob Gunt...</td>\n    </tr>\n    <tr>\n      <th>1</th>\n      <td>9.2</td>\n      <td>The Godfather</td>\n      <td>R</td>\n      <td>Crime</td>\n      <td>175</td>\n      <td>[u'Marlon Brando', u'Al Pacino', u'James Caan']</td>\n    </tr>\n    <tr>\n      <th>2</th>\n      <td>9.1</td>\n      <td>The Godfather: Part II</td>\n      <td>R</td>\n      <td>Crime</td>\n      <td>200</td>\n      <td>[u'Al Pacino', u'Robert De Niro', u'Robert Duv...</td>\n    </tr>\n    <tr>\n      <th>3</th>\n      <td>9.0</td>\n      <td>The Dark Knight</td>\n      <td>PG-13</td>\n      <td>Action</td>\n      <td>152</td>\n      <td>[u'Christian Bale', u'Heath Ledger', u'Aaron E...</td>\n    </tr>\n    <tr>\n      <th>4</th>\n      <td>8.9</td>\n      <td>Pulp Fiction</td>\n      <td>R</td>\n      <td>Crime</td>\n      <td>154</td>\n      <td>[u'John Travolta', u'Uma Thurman', u'Samuel L....</td>\n    </tr>\n  </tbody>\n</table>\n</div>"
          },
          "metadata": {},
          "execution_count": 14
        }
      ]
    },
    {
      "metadata": {
        "trusted": true
      },
      "cell_type": "code",
      "source": [
        "# Method to perform statistics in all numeric columns\n",
        "movies.describe()"
      ],
      "execution_count": 15,
      "outputs": [
        {
          "output_type": "execute_result",
          "data": {
            "text/plain": [
              "       star_rating    duration\n",
              "count   979.000000  979.000000\n",
              "mean      7.889785  120.979571\n",
              "std       0.336069   26.218010\n",
              "min       7.400000   64.000000\n",
              "25%       7.600000  102.000000\n",
              "50%       7.800000  117.000000\n",
              "75%       8.100000  134.000000\n",
              "max       9.300000  242.000000"
            ],
            "text/html": "<div>\n<style scoped>\n    .dataframe tbody tr th:only-of-type {\n        vertical-align: middle;\n    }\n\n    .dataframe tbody tr th {\n        vertical-align: top;\n    }\n\n    .dataframe thead th {\n        text-align: right;\n    }\n</style>\n<table border=\"1\" class=\"dataframe\">\n  <thead>\n    <tr style=\"text-align: right;\">\n      <th></th>\n      <th>star_rating</th>\n      <th>duration</th>\n    </tr>\n  </thead>\n  <tbody>\n    <tr>\n      <th>count</th>\n      <td>979.000000</td>\n      <td>979.000000</td>\n    </tr>\n    <tr>\n      <th>mean</th>\n      <td>7.889785</td>\n      <td>120.979571</td>\n    </tr>\n    <tr>\n      <th>std</th>\n      <td>0.336069</td>\n      <td>26.218010</td>\n    </tr>\n    <tr>\n      <th>min</th>\n      <td>7.400000</td>\n      <td>64.000000</td>\n    </tr>\n    <tr>\n      <th>25%</th>\n      <td>7.600000</td>\n      <td>102.000000</td>\n    </tr>\n    <tr>\n      <th>50%</th>\n      <td>7.800000</td>\n      <td>117.000000</td>\n    </tr>\n    <tr>\n      <th>75%</th>\n      <td>8.100000</td>\n      <td>134.000000</td>\n    </tr>\n    <tr>\n      <th>max</th>\n      <td>9.300000</td>\n      <td>242.000000</td>\n    </tr>\n  </tbody>\n</table>\n</div>"
          },
          "metadata": {},
          "execution_count": 15
        }
      ]
    },
    {
      "metadata": {
        "trusted": true
      },
      "cell_type": "code",
      "source": [
        "# Method to show the number of rows and columns\n",
        "movies.shape"
      ],
      "execution_count": 16,
      "outputs": [
        {
          "output_type": "execute_result",
          "data": {
            "text/plain": [
              "(979, 6)"
            ]
          },
          "metadata": {},
          "execution_count": 16
        }
      ]
    },
    {
      "metadata": {
        "trusted": true
      },
      "cell_type": "code",
      "source": [
        "# Method to show each column data type\n",
        "movies.dtypes"
      ],
      "execution_count": 17,
      "outputs": [
        {
          "output_type": "execute_result",
          "data": {
            "text/plain": [
              "star_rating       float64\n",
              "title              object\n",
              "content_rating     object\n",
              "genre              object\n",
              "duration            int64\n",
              "actors_list        object\n",
              "dtype: object"
            ]
          },
          "metadata": {},
          "execution_count": 17
        }
      ]
    },
    {
      "metadata": {
        "trusted": true
      },
      "cell_type": "code",
      "source": [
        "type(movies)"
      ],
      "execution_count": 18,
      "outputs": [
        {
          "output_type": "execute_result",
          "data": {
            "text/plain": [
              "pandas.core.frame.DataFrame"
            ]
          },
          "metadata": {},
          "execution_count": 18
        }
      ]
    },
    {
      "metadata": {
        "trusted": true
      },
      "cell_type": "code",
      "source": [
        "# With an argument, performs statistics on the columns with that data type\n",
        "movies.describe(include=['object'])"
      ],
      "execution_count": 19,
      "outputs": [
        {
          "output_type": "execute_result",
          "data": {
            "text/plain": [
              "            title content_rating  genre  \\\n",
              "count         979            976    979   \n",
              "unique        975             12     16   \n",
              "top     True Grit              R  Drama   \n",
              "freq            2            460    278   \n",
              "\n",
              "                                              actors_list  \n",
              "count                                                 979  \n",
              "unique                                                969  \n",
              "top     [u'Daniel Radcliffe', u'Emma Watson', u'Rupert...  \n",
              "freq                                                    6  "
            ],
            "text/html": "<div>\n<style scoped>\n    .dataframe tbody tr th:only-of-type {\n        vertical-align: middle;\n    }\n\n    .dataframe tbody tr th {\n        vertical-align: top;\n    }\n\n    .dataframe thead th {\n        text-align: right;\n    }\n</style>\n<table border=\"1\" class=\"dataframe\">\n  <thead>\n    <tr style=\"text-align: right;\">\n      <th></th>\n      <th>title</th>\n      <th>content_rating</th>\n      <th>genre</th>\n      <th>actors_list</th>\n    </tr>\n  </thead>\n  <tbody>\n    <tr>\n      <th>count</th>\n      <td>979</td>\n      <td>976</td>\n      <td>979</td>\n      <td>979</td>\n    </tr>\n    <tr>\n      <th>unique</th>\n      <td>975</td>\n      <td>12</td>\n      <td>16</td>\n      <td>969</td>\n    </tr>\n    <tr>\n      <th>top</th>\n      <td>True Grit</td>\n      <td>R</td>\n      <td>Drama</td>\n      <td>[u'Daniel Radcliffe', u'Emma Watson', u'Rupert...</td>\n    </tr>\n    <tr>\n      <th>freq</th>\n      <td>2</td>\n      <td>460</td>\n      <td>278</td>\n      <td>6</td>\n    </tr>\n  </tbody>\n</table>\n</div>"
          },
          "metadata": {},
          "execution_count": 19
        }
      ]
    },
    {
      "metadata": {},
      "cell_type": "markdown",
      "source": [
        "## How do I rename columns in pandas DataFrame?"
      ]
    },
    {
      "metadata": {
        "trusted": true
      },
      "cell_type": "code",
      "source": [
        "ufo = pd.read_csv('http://bit.ly/uforeports')"
      ],
      "execution_count": 20,
      "outputs": []
    },
    {
      "metadata": {
        "trusted": true,
        "scrolled": true
      },
      "cell_type": "code",
      "source": [
        "# Method to return the column names\n",
        "ufo.columns"
      ],
      "execution_count": 21,
      "outputs": [
        {
          "output_type": "execute_result",
          "data": {
            "text/plain": [
              "Index(['City', 'Colors Reported', 'Shape Reported', 'State', 'Time'], dtype='object')"
            ]
          },
          "metadata": {},
          "execution_count": 21
        }
      ]
    },
    {
      "metadata": {
        "trusted": true
      },
      "cell_type": "code",
      "source": [
        "# Method to rename columns\n",
        "ufo.rename(columns={'Colors Reported':'Colors_Reported', 'Shape Reported':'Shape_Reported'}, inplace=True)"
      ],
      "execution_count": 22,
      "outputs": []
    },
    {
      "metadata": {
        "trusted": true
      },
      "cell_type": "code",
      "source": [
        "ufo.columns"
      ],
      "execution_count": 23,
      "outputs": [
        {
          "output_type": "execute_result",
          "data": {
            "text/plain": [
              "Index(['City', 'Colors_Reported', 'Shape_Reported', 'State', 'Time'], dtype='object')"
            ]
          },
          "metadata": {},
          "execution_count": 23
        }
      ]
    },
    {
      "metadata": {
        "trusted": true
      },
      "cell_type": "code",
      "source": [
        "ufo_cols = ['city', 'colors reported', 'shapre reported', 'state', 'time']"
      ],
      "execution_count": 24,
      "outputs": []
    },
    {
      "metadata": {
        "trusted": true,
        "scrolled": true
      },
      "cell_type": "code",
      "source": [
        "# How to change column names for existing DataFrame\n",
        "ufo.columns = ufo_cols"
      ],
      "execution_count": 25,
      "outputs": []
    },
    {
      "metadata": {
        "trusted": true
      },
      "cell_type": "code",
      "source": [
        "ufo.head()"
      ],
      "execution_count": 26,
      "outputs": [
        {
          "output_type": "execute_result",
          "data": {
            "text/plain": [
              "                   city colors reported shapre reported state             time\n",
              "0                Ithaca             NaN        TRIANGLE    NY   6/1/1930 22:00\n",
              "1           Willingboro             NaN           OTHER    NJ  6/30/1930 20:00\n",
              "2               Holyoke             NaN            OVAL    CO  2/15/1931 14:00\n",
              "3               Abilene             NaN            DISK    KS   6/1/1931 13:00\n",
              "4  New York Worlds Fair             NaN           LIGHT    NY  4/18/1933 19:00"
            ],
            "text/html": "<div>\n<style scoped>\n    .dataframe tbody tr th:only-of-type {\n        vertical-align: middle;\n    }\n\n    .dataframe tbody tr th {\n        vertical-align: top;\n    }\n\n    .dataframe thead th {\n        text-align: right;\n    }\n</style>\n<table border=\"1\" class=\"dataframe\">\n  <thead>\n    <tr style=\"text-align: right;\">\n      <th></th>\n      <th>city</th>\n      <th>colors reported</th>\n      <th>shapre reported</th>\n      <th>state</th>\n      <th>time</th>\n    </tr>\n  </thead>\n  <tbody>\n    <tr>\n      <th>0</th>\n      <td>Ithaca</td>\n      <td>NaN</td>\n      <td>TRIANGLE</td>\n      <td>NY</td>\n      <td>6/1/1930 22:00</td>\n    </tr>\n    <tr>\n      <th>1</th>\n      <td>Willingboro</td>\n      <td>NaN</td>\n      <td>OTHER</td>\n      <td>NJ</td>\n      <td>6/30/1930 20:00</td>\n    </tr>\n    <tr>\n      <th>2</th>\n      <td>Holyoke</td>\n      <td>NaN</td>\n      <td>OVAL</td>\n      <td>CO</td>\n      <td>2/15/1931 14:00</td>\n    </tr>\n    <tr>\n      <th>3</th>\n      <td>Abilene</td>\n      <td>NaN</td>\n      <td>DISK</td>\n      <td>KS</td>\n      <td>6/1/1931 13:00</td>\n    </tr>\n    <tr>\n      <th>4</th>\n      <td>New York Worlds Fair</td>\n      <td>NaN</td>\n      <td>LIGHT</td>\n      <td>NY</td>\n      <td>4/18/1933 19:00</td>\n    </tr>\n  </tbody>\n</table>\n</div>"
          },
          "metadata": {},
          "execution_count": 26
        }
      ]
    },
    {
      "metadata": {
        "trusted": true
      },
      "cell_type": "code",
      "source": [
        "# How to change column names while reading a new DataFrame\n",
        "ufo = pd.read_csv('http://bit.ly/uforeports', names=ufo_cols, header=0)"
      ],
      "execution_count": 27,
      "outputs": []
    },
    {
      "metadata": {
        "trusted": true
      },
      "cell_type": "code",
      "source": [
        "ufo.head()"
      ],
      "execution_count": 28,
      "outputs": [
        {
          "output_type": "execute_result",
          "data": {
            "text/plain": [
              "                   city colors reported shapre reported state             time\n",
              "0                Ithaca             NaN        TRIANGLE    NY   6/1/1930 22:00\n",
              "1           Willingboro             NaN           OTHER    NJ  6/30/1930 20:00\n",
              "2               Holyoke             NaN            OVAL    CO  2/15/1931 14:00\n",
              "3               Abilene             NaN            DISK    KS   6/1/1931 13:00\n",
              "4  New York Worlds Fair             NaN           LIGHT    NY  4/18/1933 19:00"
            ],
            "text/html": "<div>\n<style scoped>\n    .dataframe tbody tr th:only-of-type {\n        vertical-align: middle;\n    }\n\n    .dataframe tbody tr th {\n        vertical-align: top;\n    }\n\n    .dataframe thead th {\n        text-align: right;\n    }\n</style>\n<table border=\"1\" class=\"dataframe\">\n  <thead>\n    <tr style=\"text-align: right;\">\n      <th></th>\n      <th>city</th>\n      <th>colors reported</th>\n      <th>shapre reported</th>\n      <th>state</th>\n      <th>time</th>\n    </tr>\n  </thead>\n  <tbody>\n    <tr>\n      <th>0</th>\n      <td>Ithaca</td>\n      <td>NaN</td>\n      <td>TRIANGLE</td>\n      <td>NY</td>\n      <td>6/1/1930 22:00</td>\n    </tr>\n    <tr>\n      <th>1</th>\n      <td>Willingboro</td>\n      <td>NaN</td>\n      <td>OTHER</td>\n      <td>NJ</td>\n      <td>6/30/1930 20:00</td>\n    </tr>\n    <tr>\n      <th>2</th>\n      <td>Holyoke</td>\n      <td>NaN</td>\n      <td>OVAL</td>\n      <td>CO</td>\n      <td>2/15/1931 14:00</td>\n    </tr>\n    <tr>\n      <th>3</th>\n      <td>Abilene</td>\n      <td>NaN</td>\n      <td>DISK</td>\n      <td>KS</td>\n      <td>6/1/1931 13:00</td>\n    </tr>\n    <tr>\n      <th>4</th>\n      <td>New York Worlds Fair</td>\n      <td>NaN</td>\n      <td>LIGHT</td>\n      <td>NY</td>\n      <td>4/18/1933 19:00</td>\n    </tr>\n  </tbody>\n</table>\n</div>"
          },
          "metadata": {},
          "execution_count": 28
        }
      ]
    },
    {
      "metadata": {
        "trusted": true
      },
      "cell_type": "code",
      "source": [
        "ufo.columns"
      ],
      "execution_count": 29,
      "outputs": [
        {
          "output_type": "execute_result",
          "data": {
            "text/plain": [
              "Index(['city', 'colors reported', 'shapre reported', 'state', 'time'], dtype='object')"
            ]
          },
          "metadata": {},
          "execution_count": 29
        }
      ]
    },
    {
      "metadata": {
        "trusted": true
      },
      "cell_type": "code",
      "source": [
        "# How to tweak column names\n",
        "ufo.columns = ufo.columns.str.replace(' ', '_')"
      ],
      "execution_count": 30,
      "outputs": []
    },
    {
      "metadata": {
        "trusted": true
      },
      "cell_type": "code",
      "source": [
        "ufo.columns"
      ],
      "execution_count": 31,
      "outputs": [
        {
          "output_type": "execute_result",
          "data": {
            "text/plain": [
              "Index(['city', 'colors_reported', 'shapre_reported', 'state', 'time'], dtype='object')"
            ]
          },
          "metadata": {},
          "execution_count": 31
        }
      ]
    },
    {
      "metadata": {},
      "cell_type": "markdown",
      "source": [
        "## How do I remove columns from a pandas DataFrame?"
      ]
    },
    {
      "metadata": {
        "trusted": true
      },
      "cell_type": "code",
      "source": [
        "ufo = pd.read_csv('http://bit.ly/uforeports')"
      ],
      "execution_count": 32,
      "outputs": []
    },
    {
      "metadata": {
        "trusted": true
      },
      "cell_type": "code",
      "source": [
        "ufo.head()"
      ],
      "execution_count": 33,
      "outputs": [
        {
          "output_type": "execute_result",
          "data": {
            "text/plain": [
              "                   City Colors Reported Shape Reported State             Time\n",
              "0                Ithaca             NaN       TRIANGLE    NY   6/1/1930 22:00\n",
              "1           Willingboro             NaN          OTHER    NJ  6/30/1930 20:00\n",
              "2               Holyoke             NaN           OVAL    CO  2/15/1931 14:00\n",
              "3               Abilene             NaN           DISK    KS   6/1/1931 13:00\n",
              "4  New York Worlds Fair             NaN          LIGHT    NY  4/18/1933 19:00"
            ],
            "text/html": "<div>\n<style scoped>\n    .dataframe tbody tr th:only-of-type {\n        vertical-align: middle;\n    }\n\n    .dataframe tbody tr th {\n        vertical-align: top;\n    }\n\n    .dataframe thead th {\n        text-align: right;\n    }\n</style>\n<table border=\"1\" class=\"dataframe\">\n  <thead>\n    <tr style=\"text-align: right;\">\n      <th></th>\n      <th>City</th>\n      <th>Colors Reported</th>\n      <th>Shape Reported</th>\n      <th>State</th>\n      <th>Time</th>\n    </tr>\n  </thead>\n  <tbody>\n    <tr>\n      <th>0</th>\n      <td>Ithaca</td>\n      <td>NaN</td>\n      <td>TRIANGLE</td>\n      <td>NY</td>\n      <td>6/1/1930 22:00</td>\n    </tr>\n    <tr>\n      <th>1</th>\n      <td>Willingboro</td>\n      <td>NaN</td>\n      <td>OTHER</td>\n      <td>NJ</td>\n      <td>6/30/1930 20:00</td>\n    </tr>\n    <tr>\n      <th>2</th>\n      <td>Holyoke</td>\n      <td>NaN</td>\n      <td>OVAL</td>\n      <td>CO</td>\n      <td>2/15/1931 14:00</td>\n    </tr>\n    <tr>\n      <th>3</th>\n      <td>Abilene</td>\n      <td>NaN</td>\n      <td>DISK</td>\n      <td>KS</td>\n      <td>6/1/1931 13:00</td>\n    </tr>\n    <tr>\n      <th>4</th>\n      <td>New York Worlds Fair</td>\n      <td>NaN</td>\n      <td>LIGHT</td>\n      <td>NY</td>\n      <td>4/18/1933 19:00</td>\n    </tr>\n  </tbody>\n</table>\n</div>"
          },
          "metadata": {},
          "execution_count": 33
        }
      ]
    },
    {
      "metadata": {
        "trusted": true
      },
      "cell_type": "code",
      "source": [
        "ufo.shape"
      ],
      "execution_count": 34,
      "outputs": [
        {
          "output_type": "execute_result",
          "data": {
            "text/plain": [
              "(18241, 5)"
            ]
          },
          "metadata": {},
          "execution_count": 34
        }
      ]
    },
    {
      "metadata": {
        "trusted": true
      },
      "cell_type": "code",
      "source": [
        "# Method to remove entries. Axis=1 means columns.\n",
        "ufo.drop('Colors Reported', axis=1, inplace=True)"
      ],
      "execution_count": 35,
      "outputs": []
    },
    {
      "metadata": {
        "trusted": true
      },
      "cell_type": "code",
      "source": [
        "ufo.head()"
      ],
      "execution_count": 36,
      "outputs": [
        {
          "output_type": "execute_result",
          "data": {
            "text/plain": [
              "                   City Shape Reported State             Time\n",
              "0                Ithaca       TRIANGLE    NY   6/1/1930 22:00\n",
              "1           Willingboro          OTHER    NJ  6/30/1930 20:00\n",
              "2               Holyoke           OVAL    CO  2/15/1931 14:00\n",
              "3               Abilene           DISK    KS   6/1/1931 13:00\n",
              "4  New York Worlds Fair          LIGHT    NY  4/18/1933 19:00"
            ],
            "text/html": "<div>\n<style scoped>\n    .dataframe tbody tr th:only-of-type {\n        vertical-align: middle;\n    }\n\n    .dataframe tbody tr th {\n        vertical-align: top;\n    }\n\n    .dataframe thead th {\n        text-align: right;\n    }\n</style>\n<table border=\"1\" class=\"dataframe\">\n  <thead>\n    <tr style=\"text-align: right;\">\n      <th></th>\n      <th>City</th>\n      <th>Shape Reported</th>\n      <th>State</th>\n      <th>Time</th>\n    </tr>\n  </thead>\n  <tbody>\n    <tr>\n      <th>0</th>\n      <td>Ithaca</td>\n      <td>TRIANGLE</td>\n      <td>NY</td>\n      <td>6/1/1930 22:00</td>\n    </tr>\n    <tr>\n      <th>1</th>\n      <td>Willingboro</td>\n      <td>OTHER</td>\n      <td>NJ</td>\n      <td>6/30/1930 20:00</td>\n    </tr>\n    <tr>\n      <th>2</th>\n      <td>Holyoke</td>\n      <td>OVAL</td>\n      <td>CO</td>\n      <td>2/15/1931 14:00</td>\n    </tr>\n    <tr>\n      <th>3</th>\n      <td>Abilene</td>\n      <td>DISK</td>\n      <td>KS</td>\n      <td>6/1/1931 13:00</td>\n    </tr>\n    <tr>\n      <th>4</th>\n      <td>New York Worlds Fair</td>\n      <td>LIGHT</td>\n      <td>NY</td>\n      <td>4/18/1933 19:00</td>\n    </tr>\n  </tbody>\n</table>\n</div>"
          },
          "metadata": {},
          "execution_count": 36
        }
      ]
    },
    {
      "metadata": {
        "trusted": true
      },
      "cell_type": "code",
      "source": [
        "# To remove more than one entry, insert a list\n",
        "ufo.drop(['City', 'State'], axis=1, inplace=True)"
      ],
      "execution_count": 37,
      "outputs": []
    },
    {
      "metadata": {
        "trusted": true
      },
      "cell_type": "code",
      "source": [
        "ufo.head()"
      ],
      "execution_count": 38,
      "outputs": [
        {
          "output_type": "execute_result",
          "data": {
            "text/plain": [
              "  Shape Reported             Time\n",
              "0       TRIANGLE   6/1/1930 22:00\n",
              "1          OTHER  6/30/1930 20:00\n",
              "2           OVAL  2/15/1931 14:00\n",
              "3           DISK   6/1/1931 13:00\n",
              "4          LIGHT  4/18/1933 19:00"
            ],
            "text/html": "<div>\n<style scoped>\n    .dataframe tbody tr th:only-of-type {\n        vertical-align: middle;\n    }\n\n    .dataframe tbody tr th {\n        vertical-align: top;\n    }\n\n    .dataframe thead th {\n        text-align: right;\n    }\n</style>\n<table border=\"1\" class=\"dataframe\">\n  <thead>\n    <tr style=\"text-align: right;\">\n      <th></th>\n      <th>Shape Reported</th>\n      <th>Time</th>\n    </tr>\n  </thead>\n  <tbody>\n    <tr>\n      <th>0</th>\n      <td>TRIANGLE</td>\n      <td>6/1/1930 22:00</td>\n    </tr>\n    <tr>\n      <th>1</th>\n      <td>OTHER</td>\n      <td>6/30/1930 20:00</td>\n    </tr>\n    <tr>\n      <th>2</th>\n      <td>OVAL</td>\n      <td>2/15/1931 14:00</td>\n    </tr>\n    <tr>\n      <th>3</th>\n      <td>DISK</td>\n      <td>6/1/1931 13:00</td>\n    </tr>\n    <tr>\n      <th>4</th>\n      <td>LIGHT</td>\n      <td>4/18/1933 19:00</td>\n    </tr>\n  </tbody>\n</table>\n</div>"
          },
          "metadata": {},
          "execution_count": 38
        }
      ]
    },
    {
      "metadata": {
        "trusted": true
      },
      "cell_type": "code",
      "source": [
        "# To remove a row, axis=0\n",
        "ufo.drop([0, 1] , axis=0, inplace=True)"
      ],
      "execution_count": 39,
      "outputs": []
    },
    {
      "metadata": {
        "trusted": true
      },
      "cell_type": "code",
      "source": [
        "ufo.head()"
      ],
      "execution_count": 40,
      "outputs": [
        {
          "output_type": "execute_result",
          "data": {
            "text/plain": [
              "  Shape Reported             Time\n",
              "2           OVAL  2/15/1931 14:00\n",
              "3           DISK   6/1/1931 13:00\n",
              "4          LIGHT  4/18/1933 19:00\n",
              "5           DISK  9/15/1934 15:30\n",
              "6         CIRCLE   6/15/1935 0:00"
            ],
            "text/html": "<div>\n<style scoped>\n    .dataframe tbody tr th:only-of-type {\n        vertical-align: middle;\n    }\n\n    .dataframe tbody tr th {\n        vertical-align: top;\n    }\n\n    .dataframe thead th {\n        text-align: right;\n    }\n</style>\n<table border=\"1\" class=\"dataframe\">\n  <thead>\n    <tr style=\"text-align: right;\">\n      <th></th>\n      <th>Shape Reported</th>\n      <th>Time</th>\n    </tr>\n  </thead>\n  <tbody>\n    <tr>\n      <th>2</th>\n      <td>OVAL</td>\n      <td>2/15/1931 14:00</td>\n    </tr>\n    <tr>\n      <th>3</th>\n      <td>DISK</td>\n      <td>6/1/1931 13:00</td>\n    </tr>\n    <tr>\n      <th>4</th>\n      <td>LIGHT</td>\n      <td>4/18/1933 19:00</td>\n    </tr>\n    <tr>\n      <th>5</th>\n      <td>DISK</td>\n      <td>9/15/1934 15:30</td>\n    </tr>\n    <tr>\n      <th>6</th>\n      <td>CIRCLE</td>\n      <td>6/15/1935 0:00</td>\n    </tr>\n  </tbody>\n</table>\n</div>"
          },
          "metadata": {},
          "execution_count": 40
        }
      ]
    },
    {
      "metadata": {
        "trusted": true
      },
      "cell_type": "code",
      "source": [
        "ufo.shape"
      ],
      "execution_count": 41,
      "outputs": [
        {
          "output_type": "execute_result",
          "data": {
            "text/plain": [
              "(18239, 2)"
            ]
          },
          "metadata": {},
          "execution_count": 41
        }
      ]
    },
    {
      "metadata": {},
      "cell_type": "markdown",
      "source": [
        "## How do I sort a pandas DataFrame or Series"
      ]
    },
    {
      "metadata": {
        "trusted": true
      },
      "cell_type": "code",
      "source": [
        "movies = pd.read_csv('http://bit.ly/imdbratings')"
      ],
      "execution_count": 42,
      "outputs": []
    },
    {
      "metadata": {
        "trusted": true
      },
      "cell_type": "code",
      "source": [
        "movies.head()"
      ],
      "execution_count": 43,
      "outputs": [
        {
          "output_type": "execute_result",
          "data": {
            "text/plain": [
              "   star_rating                     title content_rating   genre  duration  \\\n",
              "0          9.3  The Shawshank Redemption              R   Crime       142   \n",
              "1          9.2             The Godfather              R   Crime       175   \n",
              "2          9.1    The Godfather: Part II              R   Crime       200   \n",
              "3          9.0           The Dark Knight          PG-13  Action       152   \n",
              "4          8.9              Pulp Fiction              R   Crime       154   \n",
              "\n",
              "                                         actors_list  \n",
              "0  [u'Tim Robbins', u'Morgan Freeman', u'Bob Gunt...  \n",
              "1    [u'Marlon Brando', u'Al Pacino', u'James Caan']  \n",
              "2  [u'Al Pacino', u'Robert De Niro', u'Robert Duv...  \n",
              "3  [u'Christian Bale', u'Heath Ledger', u'Aaron E...  \n",
              "4  [u'John Travolta', u'Uma Thurman', u'Samuel L....  "
            ],
            "text/html": "<div>\n<style scoped>\n    .dataframe tbody tr th:only-of-type {\n        vertical-align: middle;\n    }\n\n    .dataframe tbody tr th {\n        vertical-align: top;\n    }\n\n    .dataframe thead th {\n        text-align: right;\n    }\n</style>\n<table border=\"1\" class=\"dataframe\">\n  <thead>\n    <tr style=\"text-align: right;\">\n      <th></th>\n      <th>star_rating</th>\n      <th>title</th>\n      <th>content_rating</th>\n      <th>genre</th>\n      <th>duration</th>\n      <th>actors_list</th>\n    </tr>\n  </thead>\n  <tbody>\n    <tr>\n      <th>0</th>\n      <td>9.3</td>\n      <td>The Shawshank Redemption</td>\n      <td>R</td>\n      <td>Crime</td>\n      <td>142</td>\n      <td>[u'Tim Robbins', u'Morgan Freeman', u'Bob Gunt...</td>\n    </tr>\n    <tr>\n      <th>1</th>\n      <td>9.2</td>\n      <td>The Godfather</td>\n      <td>R</td>\n      <td>Crime</td>\n      <td>175</td>\n      <td>[u'Marlon Brando', u'Al Pacino', u'James Caan']</td>\n    </tr>\n    <tr>\n      <th>2</th>\n      <td>9.1</td>\n      <td>The Godfather: Part II</td>\n      <td>R</td>\n      <td>Crime</td>\n      <td>200</td>\n      <td>[u'Al Pacino', u'Robert De Niro', u'Robert Duv...</td>\n    </tr>\n    <tr>\n      <th>3</th>\n      <td>9.0</td>\n      <td>The Dark Knight</td>\n      <td>PG-13</td>\n      <td>Action</td>\n      <td>152</td>\n      <td>[u'Christian Bale', u'Heath Ledger', u'Aaron E...</td>\n    </tr>\n    <tr>\n      <th>4</th>\n      <td>8.9</td>\n      <td>Pulp Fiction</td>\n      <td>R</td>\n      <td>Crime</td>\n      <td>154</td>\n      <td>[u'John Travolta', u'Uma Thurman', u'Samuel L....</td>\n    </tr>\n  </tbody>\n</table>\n</div>"
          },
          "metadata": {},
          "execution_count": 43
        }
      ]
    },
    {
      "metadata": {
        "trusted": true
      },
      "cell_type": "code",
      "source": [
        "# Method to return the column sorted\n",
        "movies['title'].sort_values(ascending=False)"
      ],
      "execution_count": 44,
      "outputs": [
        {
          "output_type": "execute_result",
          "data": {
            "text/plain": [
              "864                    [Rec]\n",
              "526                     Zulu\n",
              "615               Zombieland\n",
              "677                   Zodiac\n",
              "955         Zero Dark Thirty\n",
              "               ...          \n",
              "110    2001: A Space Odyssey\n",
              "698                127 Hours\n",
              "201         12 Years a Slave\n",
              "5               12 Angry Men\n",
              "542     (500) Days of Summer\n",
              "Name: title, Length: 979, dtype: object"
            ]
          },
          "metadata": {},
          "execution_count": 44
        }
      ]
    },
    {
      "metadata": {
        "trusted": true
      },
      "cell_type": "code",
      "source": [
        "# Method return the DataFrame sorted by a single column\n",
        "movies.sort_values('title')"
      ],
      "execution_count": 45,
      "outputs": [
        {
          "output_type": "execute_result",
          "data": {
            "text/plain": [
              "     star_rating                  title content_rating      genre  duration  \\\n",
              "542          7.8   (500) Days of Summer          PG-13     Comedy        95   \n",
              "5            8.9           12 Angry Men      NOT RATED      Drama        96   \n",
              "201          8.1       12 Years a Slave              R  Biography       134   \n",
              "698          7.6              127 Hours              R  Adventure        94   \n",
              "110          8.3  2001: A Space Odyssey              G    Mystery       160   \n",
              "..           ...                    ...            ...        ...       ...   \n",
              "955          7.4       Zero Dark Thirty              R      Drama       157   \n",
              "677          7.7                 Zodiac              R      Crime       157   \n",
              "615          7.7             Zombieland              R     Comedy        88   \n",
              "526          7.8                   Zulu        UNRATED      Drama       138   \n",
              "864          7.5                  [Rec]              R     Horror        78   \n",
              "\n",
              "                                           actors_list  \n",
              "542  [u'Zooey Deschanel', u'Joseph Gordon-Levitt', ...  \n",
              "5    [u'Henry Fonda', u'Lee J. Cobb', u'Martin Bals...  \n",
              "201  [u'Chiwetel Ejiofor', u'Michael Kenneth Willia...  \n",
              "698  [u'James Franco', u'Amber Tamblyn', u'Kate Mara']  \n",
              "110  [u'Keir Dullea', u'Gary Lockwood', u'William S...  \n",
              "..                                                 ...  \n",
              "955  [u'Jessica Chastain', u'Joel Edgerton', u'Chri...  \n",
              "677  [u'Jake Gyllenhaal', u'Robert Downey Jr.', u'M...  \n",
              "615  [u'Jesse Eisenberg', u'Emma Stone', u'Woody Ha...  \n",
              "526  [u'Stanley Baker', u'Jack Hawkins', u'Ulla Jac...  \n",
              "864  [u'Manuela Velasco', u'Ferran Terraza', u'Jorg...  \n",
              "\n",
              "[979 rows x 6 columns]"
            ],
            "text/html": "<div>\n<style scoped>\n    .dataframe tbody tr th:only-of-type {\n        vertical-align: middle;\n    }\n\n    .dataframe tbody tr th {\n        vertical-align: top;\n    }\n\n    .dataframe thead th {\n        text-align: right;\n    }\n</style>\n<table border=\"1\" class=\"dataframe\">\n  <thead>\n    <tr style=\"text-align: right;\">\n      <th></th>\n      <th>star_rating</th>\n      <th>title</th>\n      <th>content_rating</th>\n      <th>genre</th>\n      <th>duration</th>\n      <th>actors_list</th>\n    </tr>\n  </thead>\n  <tbody>\n    <tr>\n      <th>542</th>\n      <td>7.8</td>\n      <td>(500) Days of Summer</td>\n      <td>PG-13</td>\n      <td>Comedy</td>\n      <td>95</td>\n      <td>[u'Zooey Deschanel', u'Joseph Gordon-Levitt', ...</td>\n    </tr>\n    <tr>\n      <th>5</th>\n      <td>8.9</td>\n      <td>12 Angry Men</td>\n      <td>NOT RATED</td>\n      <td>Drama</td>\n      <td>96</td>\n      <td>[u'Henry Fonda', u'Lee J. Cobb', u'Martin Bals...</td>\n    </tr>\n    <tr>\n      <th>201</th>\n      <td>8.1</td>\n      <td>12 Years a Slave</td>\n      <td>R</td>\n      <td>Biography</td>\n      <td>134</td>\n      <td>[u'Chiwetel Ejiofor', u'Michael Kenneth Willia...</td>\n    </tr>\n    <tr>\n      <th>698</th>\n      <td>7.6</td>\n      <td>127 Hours</td>\n      <td>R</td>\n      <td>Adventure</td>\n      <td>94</td>\n      <td>[u'James Franco', u'Amber Tamblyn', u'Kate Mara']</td>\n    </tr>\n    <tr>\n      <th>110</th>\n      <td>8.3</td>\n      <td>2001: A Space Odyssey</td>\n      <td>G</td>\n      <td>Mystery</td>\n      <td>160</td>\n      <td>[u'Keir Dullea', u'Gary Lockwood', u'William S...</td>\n    </tr>\n    <tr>\n      <th>...</th>\n      <td>...</td>\n      <td>...</td>\n      <td>...</td>\n      <td>...</td>\n      <td>...</td>\n      <td>...</td>\n    </tr>\n    <tr>\n      <th>955</th>\n      <td>7.4</td>\n      <td>Zero Dark Thirty</td>\n      <td>R</td>\n      <td>Drama</td>\n      <td>157</td>\n      <td>[u'Jessica Chastain', u'Joel Edgerton', u'Chri...</td>\n    </tr>\n    <tr>\n      <th>677</th>\n      <td>7.7</td>\n      <td>Zodiac</td>\n      <td>R</td>\n      <td>Crime</td>\n      <td>157</td>\n      <td>[u'Jake Gyllenhaal', u'Robert Downey Jr.', u'M...</td>\n    </tr>\n    <tr>\n      <th>615</th>\n      <td>7.7</td>\n      <td>Zombieland</td>\n      <td>R</td>\n      <td>Comedy</td>\n      <td>88</td>\n      <td>[u'Jesse Eisenberg', u'Emma Stone', u'Woody Ha...</td>\n    </tr>\n    <tr>\n      <th>526</th>\n      <td>7.8</td>\n      <td>Zulu</td>\n      <td>UNRATED</td>\n      <td>Drama</td>\n      <td>138</td>\n      <td>[u'Stanley Baker', u'Jack Hawkins', u'Ulla Jac...</td>\n    </tr>\n    <tr>\n      <th>864</th>\n      <td>7.5</td>\n      <td>[Rec]</td>\n      <td>R</td>\n      <td>Horror</td>\n      <td>78</td>\n      <td>[u'Manuela Velasco', u'Ferran Terraza', u'Jorg...</td>\n    </tr>\n  </tbody>\n</table>\n<p>979 rows × 6 columns</p>\n</div>"
          },
          "metadata": {},
          "execution_count": 45
        }
      ]
    },
    {
      "metadata": {
        "trusted": true
      },
      "cell_type": "code",
      "source": [
        "# Sorting more than one column, passes in a list\n",
        "movies.sort_values(['content_rating', 'duration'])"
      ],
      "execution_count": 46,
      "outputs": [
        {
          "output_type": "execute_result",
          "data": {
            "text/plain": [
              "     star_rating                               title content_rating  \\\n",
              "713          7.6                     The Jungle Book       APPROVED   \n",
              "513          7.8      Invasion of the Body Snatchers       APPROVED   \n",
              "272          8.1                         The Killing       APPROVED   \n",
              "703          7.6                             Dracula       APPROVED   \n",
              "612          7.7                  A Hard Day's Night       APPROVED   \n",
              "..           ...                                 ...            ...   \n",
              "387          8.0                     Midnight Cowboy              X   \n",
              "86           8.4                  A Clockwork Orange              X   \n",
              "187          8.2  Butch Cassidy and the Sundance Kid            NaN   \n",
              "936          7.4                           True Grit            NaN   \n",
              "649          7.7                   Where Eagles Dare            NaN   \n",
              "\n",
              "         genre  duration                                        actors_list  \n",
              "713  Animation        78  [u'Phil Harris', u'Sebastian Cabot', u'Louis P...  \n",
              "513     Horror        80  [u'Kevin McCarthy', u'Dana Wynter', u'Larry Ga...  \n",
              "272      Crime        85  [u'Sterling Hayden', u'Coleen Gray', u'Vince E...  \n",
              "703     Horror        85  [u'Bela Lugosi', u'Helen Chandler', u'David Ma...  \n",
              "612     Comedy        87  [u'John Lennon', u'Paul McCartney', u'George H...  \n",
              "..         ...       ...                                                ...  \n",
              "387      Drama       113  [u'Dustin Hoffman', u'Jon Voight', u'Sylvia Mi...  \n",
              "86       Crime       136  [u'Malcolm McDowell', u'Patrick Magee', u'Mich...  \n",
              "187  Biography       110  [u'Paul Newman', u'Robert Redford', u'Katharin...  \n",
              "936  Adventure       128    [u'John Wayne', u'Kim Darby', u'Glen Campbell']  \n",
              "649     Action       158  [u'Richard Burton', u'Clint Eastwood', u'Mary ...  \n",
              "\n",
              "[979 rows x 6 columns]"
            ],
            "text/html": "<div>\n<style scoped>\n    .dataframe tbody tr th:only-of-type {\n        vertical-align: middle;\n    }\n\n    .dataframe tbody tr th {\n        vertical-align: top;\n    }\n\n    .dataframe thead th {\n        text-align: right;\n    }\n</style>\n<table border=\"1\" class=\"dataframe\">\n  <thead>\n    <tr style=\"text-align: right;\">\n      <th></th>\n      <th>star_rating</th>\n      <th>title</th>\n      <th>content_rating</th>\n      <th>genre</th>\n      <th>duration</th>\n      <th>actors_list</th>\n    </tr>\n  </thead>\n  <tbody>\n    <tr>\n      <th>713</th>\n      <td>7.6</td>\n      <td>The Jungle Book</td>\n      <td>APPROVED</td>\n      <td>Animation</td>\n      <td>78</td>\n      <td>[u'Phil Harris', u'Sebastian Cabot', u'Louis P...</td>\n    </tr>\n    <tr>\n      <th>513</th>\n      <td>7.8</td>\n      <td>Invasion of the Body Snatchers</td>\n      <td>APPROVED</td>\n      <td>Horror</td>\n      <td>80</td>\n      <td>[u'Kevin McCarthy', u'Dana Wynter', u'Larry Ga...</td>\n    </tr>\n    <tr>\n      <th>272</th>\n      <td>8.1</td>\n      <td>The Killing</td>\n      <td>APPROVED</td>\n      <td>Crime</td>\n      <td>85</td>\n      <td>[u'Sterling Hayden', u'Coleen Gray', u'Vince E...</td>\n    </tr>\n    <tr>\n      <th>703</th>\n      <td>7.6</td>\n      <td>Dracula</td>\n      <td>APPROVED</td>\n      <td>Horror</td>\n      <td>85</td>\n      <td>[u'Bela Lugosi', u'Helen Chandler', u'David Ma...</td>\n    </tr>\n    <tr>\n      <th>612</th>\n      <td>7.7</td>\n      <td>A Hard Day's Night</td>\n      <td>APPROVED</td>\n      <td>Comedy</td>\n      <td>87</td>\n      <td>[u'John Lennon', u'Paul McCartney', u'George H...</td>\n    </tr>\n    <tr>\n      <th>...</th>\n      <td>...</td>\n      <td>...</td>\n      <td>...</td>\n      <td>...</td>\n      <td>...</td>\n      <td>...</td>\n    </tr>\n    <tr>\n      <th>387</th>\n      <td>8.0</td>\n      <td>Midnight Cowboy</td>\n      <td>X</td>\n      <td>Drama</td>\n      <td>113</td>\n      <td>[u'Dustin Hoffman', u'Jon Voight', u'Sylvia Mi...</td>\n    </tr>\n    <tr>\n      <th>86</th>\n      <td>8.4</td>\n      <td>A Clockwork Orange</td>\n      <td>X</td>\n      <td>Crime</td>\n      <td>136</td>\n      <td>[u'Malcolm McDowell', u'Patrick Magee', u'Mich...</td>\n    </tr>\n    <tr>\n      <th>187</th>\n      <td>8.2</td>\n      <td>Butch Cassidy and the Sundance Kid</td>\n      <td>NaN</td>\n      <td>Biography</td>\n      <td>110</td>\n      <td>[u'Paul Newman', u'Robert Redford', u'Katharin...</td>\n    </tr>\n    <tr>\n      <th>936</th>\n      <td>7.4</td>\n      <td>True Grit</td>\n      <td>NaN</td>\n      <td>Adventure</td>\n      <td>128</td>\n      <td>[u'John Wayne', u'Kim Darby', u'Glen Campbell']</td>\n    </tr>\n    <tr>\n      <th>649</th>\n      <td>7.7</td>\n      <td>Where Eagles Dare</td>\n      <td>NaN</td>\n      <td>Action</td>\n      <td>158</td>\n      <td>[u'Richard Burton', u'Clint Eastwood', u'Mary ...</td>\n    </tr>\n  </tbody>\n</table>\n<p>979 rows × 6 columns</p>\n</div>"
          },
          "metadata": {},
          "execution_count": 46
        }
      ]
    },
    {
      "source": [
        "## How do I filter rows of a pandas DataFrame by column value?"
      ],
      "cell_type": "markdown",
      "metadata": {}
    },
    {
      "cell_type": "code",
      "execution_count": 47,
      "metadata": {},
      "outputs": [],
      "source": [
        "movies = pd.read_csv('http://bit.ly/imdbratings')"
      ]
    },
    {
      "cell_type": "code",
      "execution_count": 48,
      "metadata": {},
      "outputs": [
        {
          "output_type": "execute_result",
          "data": {
            "text/plain": [
              "   star_rating                     title content_rating   genre  duration  \\\n",
              "0          9.3  The Shawshank Redemption              R   Crime       142   \n",
              "1          9.2             The Godfather              R   Crime       175   \n",
              "2          9.1    The Godfather: Part II              R   Crime       200   \n",
              "3          9.0           The Dark Knight          PG-13  Action       152   \n",
              "4          8.9              Pulp Fiction              R   Crime       154   \n",
              "\n",
              "                                         actors_list  \n",
              "0  [u'Tim Robbins', u'Morgan Freeman', u'Bob Gunt...  \n",
              "1    [u'Marlon Brando', u'Al Pacino', u'James Caan']  \n",
              "2  [u'Al Pacino', u'Robert De Niro', u'Robert Duv...  \n",
              "3  [u'Christian Bale', u'Heath Ledger', u'Aaron E...  \n",
              "4  [u'John Travolta', u'Uma Thurman', u'Samuel L....  "
            ],
            "text/html": "<div>\n<style scoped>\n    .dataframe tbody tr th:only-of-type {\n        vertical-align: middle;\n    }\n\n    .dataframe tbody tr th {\n        vertical-align: top;\n    }\n\n    .dataframe thead th {\n        text-align: right;\n    }\n</style>\n<table border=\"1\" class=\"dataframe\">\n  <thead>\n    <tr style=\"text-align: right;\">\n      <th></th>\n      <th>star_rating</th>\n      <th>title</th>\n      <th>content_rating</th>\n      <th>genre</th>\n      <th>duration</th>\n      <th>actors_list</th>\n    </tr>\n  </thead>\n  <tbody>\n    <tr>\n      <th>0</th>\n      <td>9.3</td>\n      <td>The Shawshank Redemption</td>\n      <td>R</td>\n      <td>Crime</td>\n      <td>142</td>\n      <td>[u'Tim Robbins', u'Morgan Freeman', u'Bob Gunt...</td>\n    </tr>\n    <tr>\n      <th>1</th>\n      <td>9.2</td>\n      <td>The Godfather</td>\n      <td>R</td>\n      <td>Crime</td>\n      <td>175</td>\n      <td>[u'Marlon Brando', u'Al Pacino', u'James Caan']</td>\n    </tr>\n    <tr>\n      <th>2</th>\n      <td>9.1</td>\n      <td>The Godfather: Part II</td>\n      <td>R</td>\n      <td>Crime</td>\n      <td>200</td>\n      <td>[u'Al Pacino', u'Robert De Niro', u'Robert Duv...</td>\n    </tr>\n    <tr>\n      <th>3</th>\n      <td>9.0</td>\n      <td>The Dark Knight</td>\n      <td>PG-13</td>\n      <td>Action</td>\n      <td>152</td>\n      <td>[u'Christian Bale', u'Heath Ledger', u'Aaron E...</td>\n    </tr>\n    <tr>\n      <th>4</th>\n      <td>8.9</td>\n      <td>Pulp Fiction</td>\n      <td>R</td>\n      <td>Crime</td>\n      <td>154</td>\n      <td>[u'John Travolta', u'Uma Thurman', u'Samuel L....</td>\n    </tr>\n  </tbody>\n</table>\n</div>"
          },
          "metadata": {},
          "execution_count": 48
        }
      ],
      "source": [
        "movies.head()"
      ]
    },
    {
      "cell_type": "code",
      "execution_count": 49,
      "metadata": {},
      "outputs": [
        {
          "output_type": "execute_result",
          "data": {
            "text/plain": [
              "(979, 6)"
            ]
          },
          "metadata": {},
          "execution_count": 49
        }
      ],
      "source": [
        "movies.shape"
      ]
    },
    {
      "cell_type": "code",
      "execution_count": 50,
      "metadata": {},
      "outputs": [],
      "source": [
        "# Step by step process of filtering a dataframe (just for explanation)\n",
        "booleans = []\n",
        "for length in movies.duration:\n",
        "    if length >= 200:\n",
        "        booleans.append(True)\n",
        "    else:\n",
        "        booleans.append(False)"
      ]
    },
    {
      "cell_type": "code",
      "execution_count": 51,
      "metadata": {},
      "outputs": [
        {
          "output_type": "execute_result",
          "data": {
            "text/plain": [
              "[False, False, True, False, False]"
            ]
          },
          "metadata": {},
          "execution_count": 51
        }
      ],
      "source": [
        "# Just checking the 5 first elements\n",
        "booleans[0:5]"
      ]
    },
    {
      "cell_type": "code",
      "execution_count": 52,
      "metadata": {},
      "outputs": [
        {
          "output_type": "execute_result",
          "data": {
            "text/plain": [
              "979"
            ]
          },
          "metadata": {},
          "execution_count": 52
        }
      ],
      "source": [
        "# Checking if the list has a length compatible with the dataframe\n",
        "len(booleans)"
      ]
    },
    {
      "cell_type": "code",
      "execution_count": 53,
      "metadata": {},
      "outputs": [],
      "source": [
        "# Converting the list into a panda series\n",
        "is_long = pd.Series(booleans)"
      ]
    },
    {
      "cell_type": "code",
      "execution_count": 54,
      "metadata": {},
      "outputs": [
        {
          "output_type": "execute_result",
          "data": {
            "text/plain": [
              "0    False\n",
              "1    False\n",
              "2     True\n",
              "3    False\n",
              "4    False\n",
              "dtype: bool"
            ]
          },
          "metadata": {},
          "execution_count": 54
        }
      ],
      "source": [
        "# Now the series methods applies\n",
        "is_long.head()"
      ]
    },
    {
      "cell_type": "code",
      "execution_count": 55,
      "metadata": {},
      "outputs": [
        {
          "output_type": "execute_result",
          "data": {
            "text/plain": [
              "     star_rating                                          title  \\\n",
              "2            9.1                         The Godfather: Part II   \n",
              "7            8.9  The Lord of the Rings: The Return of the King   \n",
              "17           8.7                                  Seven Samurai   \n",
              "78           8.4                    Once Upon a Time in America   \n",
              "85           8.4                             Lawrence of Arabia   \n",
              "142          8.3              Lagaan: Once Upon a Time in India   \n",
              "157          8.2                             Gone with the Wind   \n",
              "204          8.1                                        Ben-Hur   \n",
              "445          7.9                           The Ten Commandments   \n",
              "476          7.8                                         Hamlet   \n",
              "630          7.7                                      Malcolm X   \n",
              "767          7.6                It's a Mad, Mad, Mad, Mad World   \n",
              "\n",
              "    content_rating      genre  duration  \\\n",
              "2                R      Crime       200   \n",
              "7            PG-13  Adventure       201   \n",
              "17         UNRATED      Drama       207   \n",
              "78               R      Crime       229   \n",
              "85              PG  Adventure       216   \n",
              "142             PG  Adventure       224   \n",
              "157              G      Drama       238   \n",
              "204              G  Adventure       212   \n",
              "445       APPROVED  Adventure       220   \n",
              "476          PG-13      Drama       242   \n",
              "630          PG-13  Biography       202   \n",
              "767       APPROVED     Action       205   \n",
              "\n",
              "                                           actors_list  \n",
              "2    [u'Al Pacino', u'Robert De Niro', u'Robert Duv...  \n",
              "7    [u'Elijah Wood', u'Viggo Mortensen', u'Ian McK...  \n",
              "17   [u'Toshir\\xf4 Mifune', u'Takashi Shimura', u'K...  \n",
              "78   [u'Robert De Niro', u'James Woods', u'Elizabet...  \n",
              "85   [u\"Peter O'Toole\", u'Alec Guinness', u'Anthony...  \n",
              "142  [u'Aamir Khan', u'Gracy Singh', u'Rachel Shell...  \n",
              "157  [u'Clark Gable', u'Vivien Leigh', u'Thomas Mit...  \n",
              "204  [u'Charlton Heston', u'Jack Hawkins', u'Stephe...  \n",
              "445  [u'Charlton Heston', u'Yul Brynner', u'Anne Ba...  \n",
              "476  [u'Kenneth Branagh', u'Julie Christie', u'Dere...  \n",
              "630  [u'Denzel Washington', u'Angela Bassett', u'De...  \n",
              "767  [u'Spencer Tracy', u'Milton Berle', u'Ethel Me...  "
            ],
            "text/html": "<div>\n<style scoped>\n    .dataframe tbody tr th:only-of-type {\n        vertical-align: middle;\n    }\n\n    .dataframe tbody tr th {\n        vertical-align: top;\n    }\n\n    .dataframe thead th {\n        text-align: right;\n    }\n</style>\n<table border=\"1\" class=\"dataframe\">\n  <thead>\n    <tr style=\"text-align: right;\">\n      <th></th>\n      <th>star_rating</th>\n      <th>title</th>\n      <th>content_rating</th>\n      <th>genre</th>\n      <th>duration</th>\n      <th>actors_list</th>\n    </tr>\n  </thead>\n  <tbody>\n    <tr>\n      <th>2</th>\n      <td>9.1</td>\n      <td>The Godfather: Part II</td>\n      <td>R</td>\n      <td>Crime</td>\n      <td>200</td>\n      <td>[u'Al Pacino', u'Robert De Niro', u'Robert Duv...</td>\n    </tr>\n    <tr>\n      <th>7</th>\n      <td>8.9</td>\n      <td>The Lord of the Rings: The Return of the King</td>\n      <td>PG-13</td>\n      <td>Adventure</td>\n      <td>201</td>\n      <td>[u'Elijah Wood', u'Viggo Mortensen', u'Ian McK...</td>\n    </tr>\n    <tr>\n      <th>17</th>\n      <td>8.7</td>\n      <td>Seven Samurai</td>\n      <td>UNRATED</td>\n      <td>Drama</td>\n      <td>207</td>\n      <td>[u'Toshir\\xf4 Mifune', u'Takashi Shimura', u'K...</td>\n    </tr>\n    <tr>\n      <th>78</th>\n      <td>8.4</td>\n      <td>Once Upon a Time in America</td>\n      <td>R</td>\n      <td>Crime</td>\n      <td>229</td>\n      <td>[u'Robert De Niro', u'James Woods', u'Elizabet...</td>\n    </tr>\n    <tr>\n      <th>85</th>\n      <td>8.4</td>\n      <td>Lawrence of Arabia</td>\n      <td>PG</td>\n      <td>Adventure</td>\n      <td>216</td>\n      <td>[u\"Peter O'Toole\", u'Alec Guinness', u'Anthony...</td>\n    </tr>\n    <tr>\n      <th>142</th>\n      <td>8.3</td>\n      <td>Lagaan: Once Upon a Time in India</td>\n      <td>PG</td>\n      <td>Adventure</td>\n      <td>224</td>\n      <td>[u'Aamir Khan', u'Gracy Singh', u'Rachel Shell...</td>\n    </tr>\n    <tr>\n      <th>157</th>\n      <td>8.2</td>\n      <td>Gone with the Wind</td>\n      <td>G</td>\n      <td>Drama</td>\n      <td>238</td>\n      <td>[u'Clark Gable', u'Vivien Leigh', u'Thomas Mit...</td>\n    </tr>\n    <tr>\n      <th>204</th>\n      <td>8.1</td>\n      <td>Ben-Hur</td>\n      <td>G</td>\n      <td>Adventure</td>\n      <td>212</td>\n      <td>[u'Charlton Heston', u'Jack Hawkins', u'Stephe...</td>\n    </tr>\n    <tr>\n      <th>445</th>\n      <td>7.9</td>\n      <td>The Ten Commandments</td>\n      <td>APPROVED</td>\n      <td>Adventure</td>\n      <td>220</td>\n      <td>[u'Charlton Heston', u'Yul Brynner', u'Anne Ba...</td>\n    </tr>\n    <tr>\n      <th>476</th>\n      <td>7.8</td>\n      <td>Hamlet</td>\n      <td>PG-13</td>\n      <td>Drama</td>\n      <td>242</td>\n      <td>[u'Kenneth Branagh', u'Julie Christie', u'Dere...</td>\n    </tr>\n    <tr>\n      <th>630</th>\n      <td>7.7</td>\n      <td>Malcolm X</td>\n      <td>PG-13</td>\n      <td>Biography</td>\n      <td>202</td>\n      <td>[u'Denzel Washington', u'Angela Bassett', u'De...</td>\n    </tr>\n    <tr>\n      <th>767</th>\n      <td>7.6</td>\n      <td>It's a Mad, Mad, Mad, Mad World</td>\n      <td>APPROVED</td>\n      <td>Action</td>\n      <td>205</td>\n      <td>[u'Spencer Tracy', u'Milton Berle', u'Ethel Me...</td>\n    </tr>\n  </tbody>\n</table>\n</div>"
          },
          "metadata": {},
          "execution_count": 55
        }
      ],
      "source": [
        "# Only showing the movies longer than 200 minutes\n",
        "movies[is_long]"
      ]
    },
    {
      "cell_type": "code",
      "execution_count": 56,
      "metadata": {},
      "outputs": [
        {
          "output_type": "execute_result",
          "data": {
            "text/plain": [
              "0    False\n",
              "1    False\n",
              "2     True\n",
              "3    False\n",
              "4    False\n",
              "Name: duration, dtype: bool"
            ]
          },
          "metadata": {},
          "execution_count": 56
        }
      ],
      "source": [
        "# Instead of using a for loop, a simple line may do the same work\n",
        "is_long = movies.duration >= 200\n",
        "is_long.head()"
      ]
    },
    {
      "cell_type": "code",
      "execution_count": 57,
      "metadata": {},
      "outputs": [
        {
          "output_type": "execute_result",
          "data": {
            "text/plain": [
              "     star_rating                                          title  \\\n",
              "2            9.1                         The Godfather: Part II   \n",
              "7            8.9  The Lord of the Rings: The Return of the King   \n",
              "17           8.7                                  Seven Samurai   \n",
              "78           8.4                    Once Upon a Time in America   \n",
              "85           8.4                             Lawrence of Arabia   \n",
              "142          8.3              Lagaan: Once Upon a Time in India   \n",
              "157          8.2                             Gone with the Wind   \n",
              "204          8.1                                        Ben-Hur   \n",
              "445          7.9                           The Ten Commandments   \n",
              "476          7.8                                         Hamlet   \n",
              "630          7.7                                      Malcolm X   \n",
              "767          7.6                It's a Mad, Mad, Mad, Mad World   \n",
              "\n",
              "    content_rating      genre  duration  \\\n",
              "2                R      Crime       200   \n",
              "7            PG-13  Adventure       201   \n",
              "17         UNRATED      Drama       207   \n",
              "78               R      Crime       229   \n",
              "85              PG  Adventure       216   \n",
              "142             PG  Adventure       224   \n",
              "157              G      Drama       238   \n",
              "204              G  Adventure       212   \n",
              "445       APPROVED  Adventure       220   \n",
              "476          PG-13      Drama       242   \n",
              "630          PG-13  Biography       202   \n",
              "767       APPROVED     Action       205   \n",
              "\n",
              "                                           actors_list  \n",
              "2    [u'Al Pacino', u'Robert De Niro', u'Robert Duv...  \n",
              "7    [u'Elijah Wood', u'Viggo Mortensen', u'Ian McK...  \n",
              "17   [u'Toshir\\xf4 Mifune', u'Takashi Shimura', u'K...  \n",
              "78   [u'Robert De Niro', u'James Woods', u'Elizabet...  \n",
              "85   [u\"Peter O'Toole\", u'Alec Guinness', u'Anthony...  \n",
              "142  [u'Aamir Khan', u'Gracy Singh', u'Rachel Shell...  \n",
              "157  [u'Clark Gable', u'Vivien Leigh', u'Thomas Mit...  \n",
              "204  [u'Charlton Heston', u'Jack Hawkins', u'Stephe...  \n",
              "445  [u'Charlton Heston', u'Yul Brynner', u'Anne Ba...  \n",
              "476  [u'Kenneth Branagh', u'Julie Christie', u'Dere...  \n",
              "630  [u'Denzel Washington', u'Angela Bassett', u'De...  \n",
              "767  [u'Spencer Tracy', u'Milton Berle', u'Ethel Me...  "
            ],
            "text/html": "<div>\n<style scoped>\n    .dataframe tbody tr th:only-of-type {\n        vertical-align: middle;\n    }\n\n    .dataframe tbody tr th {\n        vertical-align: top;\n    }\n\n    .dataframe thead th {\n        text-align: right;\n    }\n</style>\n<table border=\"1\" class=\"dataframe\">\n  <thead>\n    <tr style=\"text-align: right;\">\n      <th></th>\n      <th>star_rating</th>\n      <th>title</th>\n      <th>content_rating</th>\n      <th>genre</th>\n      <th>duration</th>\n      <th>actors_list</th>\n    </tr>\n  </thead>\n  <tbody>\n    <tr>\n      <th>2</th>\n      <td>9.1</td>\n      <td>The Godfather: Part II</td>\n      <td>R</td>\n      <td>Crime</td>\n      <td>200</td>\n      <td>[u'Al Pacino', u'Robert De Niro', u'Robert Duv...</td>\n    </tr>\n    <tr>\n      <th>7</th>\n      <td>8.9</td>\n      <td>The Lord of the Rings: The Return of the King</td>\n      <td>PG-13</td>\n      <td>Adventure</td>\n      <td>201</td>\n      <td>[u'Elijah Wood', u'Viggo Mortensen', u'Ian McK...</td>\n    </tr>\n    <tr>\n      <th>17</th>\n      <td>8.7</td>\n      <td>Seven Samurai</td>\n      <td>UNRATED</td>\n      <td>Drama</td>\n      <td>207</td>\n      <td>[u'Toshir\\xf4 Mifune', u'Takashi Shimura', u'K...</td>\n    </tr>\n    <tr>\n      <th>78</th>\n      <td>8.4</td>\n      <td>Once Upon a Time in America</td>\n      <td>R</td>\n      <td>Crime</td>\n      <td>229</td>\n      <td>[u'Robert De Niro', u'James Woods', u'Elizabet...</td>\n    </tr>\n    <tr>\n      <th>85</th>\n      <td>8.4</td>\n      <td>Lawrence of Arabia</td>\n      <td>PG</td>\n      <td>Adventure</td>\n      <td>216</td>\n      <td>[u\"Peter O'Toole\", u'Alec Guinness', u'Anthony...</td>\n    </tr>\n    <tr>\n      <th>142</th>\n      <td>8.3</td>\n      <td>Lagaan: Once Upon a Time in India</td>\n      <td>PG</td>\n      <td>Adventure</td>\n      <td>224</td>\n      <td>[u'Aamir Khan', u'Gracy Singh', u'Rachel Shell...</td>\n    </tr>\n    <tr>\n      <th>157</th>\n      <td>8.2</td>\n      <td>Gone with the Wind</td>\n      <td>G</td>\n      <td>Drama</td>\n      <td>238</td>\n      <td>[u'Clark Gable', u'Vivien Leigh', u'Thomas Mit...</td>\n    </tr>\n    <tr>\n      <th>204</th>\n      <td>8.1</td>\n      <td>Ben-Hur</td>\n      <td>G</td>\n      <td>Adventure</td>\n      <td>212</td>\n      <td>[u'Charlton Heston', u'Jack Hawkins', u'Stephe...</td>\n    </tr>\n    <tr>\n      <th>445</th>\n      <td>7.9</td>\n      <td>The Ten Commandments</td>\n      <td>APPROVED</td>\n      <td>Adventure</td>\n      <td>220</td>\n      <td>[u'Charlton Heston', u'Yul Brynner', u'Anne Ba...</td>\n    </tr>\n    <tr>\n      <th>476</th>\n      <td>7.8</td>\n      <td>Hamlet</td>\n      <td>PG-13</td>\n      <td>Drama</td>\n      <td>242</td>\n      <td>[u'Kenneth Branagh', u'Julie Christie', u'Dere...</td>\n    </tr>\n    <tr>\n      <th>630</th>\n      <td>7.7</td>\n      <td>Malcolm X</td>\n      <td>PG-13</td>\n      <td>Biography</td>\n      <td>202</td>\n      <td>[u'Denzel Washington', u'Angela Bassett', u'De...</td>\n    </tr>\n    <tr>\n      <th>767</th>\n      <td>7.6</td>\n      <td>It's a Mad, Mad, Mad, Mad World</td>\n      <td>APPROVED</td>\n      <td>Action</td>\n      <td>205</td>\n      <td>[u'Spencer Tracy', u'Milton Berle', u'Ethel Me...</td>\n    </tr>\n  </tbody>\n</table>\n</div>"
          },
          "metadata": {},
          "execution_count": 57
        }
      ],
      "source": [
        "# Nevertheless, the straightforward filter\n",
        "movies[movies.duration >= 200]"
      ]
    },
    {
      "cell_type": "code",
      "execution_count": 59,
      "metadata": {},
      "outputs": [
        {
          "output_type": "execute_result",
          "data": {
            "text/plain": [
              "2          Crime\n",
              "7      Adventure\n",
              "17         Drama\n",
              "78         Crime\n",
              "85     Adventure\n",
              "142    Adventure\n",
              "157        Drama\n",
              "204    Adventure\n",
              "445    Adventure\n",
              "476        Drama\n",
              "630    Biography\n",
              "767       Action\n",
              "Name: genre, dtype: object"
            ]
          },
          "metadata": {},
          "execution_count": 59
        }
      ],
      "source": [
        "# If just one column is required, a few methods can be used\n",
        "movies[movies.duration >= 200].genre"
      ]
    },
    {
      "cell_type": "code",
      "execution_count": 61,
      "metadata": {},
      "outputs": [
        {
          "output_type": "execute_result",
          "data": {
            "text/plain": [
              "2          Crime\n",
              "7      Adventure\n",
              "17         Drama\n",
              "78         Crime\n",
              "85     Adventure\n",
              "142    Adventure\n",
              "157        Drama\n",
              "204    Adventure\n",
              "445    Adventure\n",
              "476        Drama\n",
              "630    Biography\n",
              "767       Action\n",
              "Name: genre, dtype: object"
            ]
          },
          "metadata": {},
          "execution_count": 61
        }
      ],
      "source": [
        "# Or with bracket notation\n",
        "movies[movies.duration >= 200]['genre']"
      ]
    },
    {
      "cell_type": "code",
      "execution_count": 62,
      "metadata": {},
      "outputs": [
        {
          "output_type": "execute_result",
          "data": {
            "text/plain": [
              "2          Crime\n",
              "7      Adventure\n",
              "17         Drama\n",
              "78         Crime\n",
              "85     Adventure\n",
              "142    Adventure\n",
              "157        Drama\n",
              "204    Adventure\n",
              "445    Adventure\n",
              "476        Drama\n",
              "630    Biography\n",
              "767       Action\n",
              "Name: genre, dtype: object"
            ]
          },
          "metadata": {},
          "execution_count": 62
        }
      ],
      "source": [
        "# But the best practice is to use .loc\n",
        "movies.loc[movies.duration >= 200, 'genre']"
      ]
    },
    {
      "source": [
        "## How do I apply multiple filter criteria to a pandas DataFrame?"
      ],
      "cell_type": "markdown",
      "metadata": {}
    },
    {
      "cell_type": "code",
      "execution_count": 63,
      "metadata": {},
      "outputs": [],
      "source": [
        "movies = pd.read_csv('http://bit.ly/imdbratings')"
      ]
    },
    {
      "cell_type": "code",
      "execution_count": 64,
      "metadata": {},
      "outputs": [
        {
          "output_type": "execute_result",
          "data": {
            "text/plain": [
              "   star_rating                     title content_rating   genre  duration  \\\n",
              "0          9.3  The Shawshank Redemption              R   Crime       142   \n",
              "1          9.2             The Godfather              R   Crime       175   \n",
              "2          9.1    The Godfather: Part II              R   Crime       200   \n",
              "3          9.0           The Dark Knight          PG-13  Action       152   \n",
              "4          8.9              Pulp Fiction              R   Crime       154   \n",
              "\n",
              "                                         actors_list  \n",
              "0  [u'Tim Robbins', u'Morgan Freeman', u'Bob Gunt...  \n",
              "1    [u'Marlon Brando', u'Al Pacino', u'James Caan']  \n",
              "2  [u'Al Pacino', u'Robert De Niro', u'Robert Duv...  \n",
              "3  [u'Christian Bale', u'Heath Ledger', u'Aaron E...  \n",
              "4  [u'John Travolta', u'Uma Thurman', u'Samuel L....  "
            ],
            "text/html": "<div>\n<style scoped>\n    .dataframe tbody tr th:only-of-type {\n        vertical-align: middle;\n    }\n\n    .dataframe tbody tr th {\n        vertical-align: top;\n    }\n\n    .dataframe thead th {\n        text-align: right;\n    }\n</style>\n<table border=\"1\" class=\"dataframe\">\n  <thead>\n    <tr style=\"text-align: right;\">\n      <th></th>\n      <th>star_rating</th>\n      <th>title</th>\n      <th>content_rating</th>\n      <th>genre</th>\n      <th>duration</th>\n      <th>actors_list</th>\n    </tr>\n  </thead>\n  <tbody>\n    <tr>\n      <th>0</th>\n      <td>9.3</td>\n      <td>The Shawshank Redemption</td>\n      <td>R</td>\n      <td>Crime</td>\n      <td>142</td>\n      <td>[u'Tim Robbins', u'Morgan Freeman', u'Bob Gunt...</td>\n    </tr>\n    <tr>\n      <th>1</th>\n      <td>9.2</td>\n      <td>The Godfather</td>\n      <td>R</td>\n      <td>Crime</td>\n      <td>175</td>\n      <td>[u'Marlon Brando', u'Al Pacino', u'James Caan']</td>\n    </tr>\n    <tr>\n      <th>2</th>\n      <td>9.1</td>\n      <td>The Godfather: Part II</td>\n      <td>R</td>\n      <td>Crime</td>\n      <td>200</td>\n      <td>[u'Al Pacino', u'Robert De Niro', u'Robert Duv...</td>\n    </tr>\n    <tr>\n      <th>3</th>\n      <td>9.0</td>\n      <td>The Dark Knight</td>\n      <td>PG-13</td>\n      <td>Action</td>\n      <td>152</td>\n      <td>[u'Christian Bale', u'Heath Ledger', u'Aaron E...</td>\n    </tr>\n    <tr>\n      <th>4</th>\n      <td>8.9</td>\n      <td>Pulp Fiction</td>\n      <td>R</td>\n      <td>Crime</td>\n      <td>154</td>\n      <td>[u'John Travolta', u'Uma Thurman', u'Samuel L....</td>\n    </tr>\n  </tbody>\n</table>\n</div>"
          },
          "metadata": {},
          "execution_count": 64
        }
      ],
      "source": [
        "movies.head()"
      ]
    },
    {
      "cell_type": "code",
      "execution_count": 66,
      "metadata": {},
      "outputs": [
        {
          "output_type": "execute_result",
          "data": {
            "text/plain": [
              "     star_rating               title content_rating  genre  duration  \\\n",
              "17           8.7       Seven Samurai        UNRATED  Drama       207   \n",
              "157          8.2  Gone with the Wind              G  Drama       238   \n",
              "476          7.8              Hamlet          PG-13  Drama       242   \n",
              "\n",
              "                                           actors_list  \n",
              "17   [u'Toshir\\xf4 Mifune', u'Takashi Shimura', u'K...  \n",
              "157  [u'Clark Gable', u'Vivien Leigh', u'Thomas Mit...  \n",
              "476  [u'Kenneth Branagh', u'Julie Christie', u'Dere...  "
            ],
            "text/html": "<div>\n<style scoped>\n    .dataframe tbody tr th:only-of-type {\n        vertical-align: middle;\n    }\n\n    .dataframe tbody tr th {\n        vertical-align: top;\n    }\n\n    .dataframe thead th {\n        text-align: right;\n    }\n</style>\n<table border=\"1\" class=\"dataframe\">\n  <thead>\n    <tr style=\"text-align: right;\">\n      <th></th>\n      <th>star_rating</th>\n      <th>title</th>\n      <th>content_rating</th>\n      <th>genre</th>\n      <th>duration</th>\n      <th>actors_list</th>\n    </tr>\n  </thead>\n  <tbody>\n    <tr>\n      <th>17</th>\n      <td>8.7</td>\n      <td>Seven Samurai</td>\n      <td>UNRATED</td>\n      <td>Drama</td>\n      <td>207</td>\n      <td>[u'Toshir\\xf4 Mifune', u'Takashi Shimura', u'K...</td>\n    </tr>\n    <tr>\n      <th>157</th>\n      <td>8.2</td>\n      <td>Gone with the Wind</td>\n      <td>G</td>\n      <td>Drama</td>\n      <td>238</td>\n      <td>[u'Clark Gable', u'Vivien Leigh', u'Thomas Mit...</td>\n    </tr>\n    <tr>\n      <th>476</th>\n      <td>7.8</td>\n      <td>Hamlet</td>\n      <td>PG-13</td>\n      <td>Drama</td>\n      <td>242</td>\n      <td>[u'Kenneth Branagh', u'Julie Christie', u'Dere...</td>\n    </tr>\n  </tbody>\n</table>\n</div>"
          },
          "metadata": {},
          "execution_count": 66
        }
      ],
      "source": [
        "# For multiple criterias:\n",
        "# - Each criteria shall be in parenthesis\n",
        "# - Use '&' for 'and'\n",
        "# - Use '|' for 'or'\n",
        "movies[(movies.duration >= 200) & (movies.genre == 'Drama')]"
      ]
    },
    {
      "cell_type": "code",
      "execution_count": 67,
      "metadata": {},
      "outputs": [
        {
          "output_type": "execute_result",
          "data": {
            "text/plain": [
              "     star_rating                                            title  \\\n",
              "0            9.3                         The Shawshank Redemption   \n",
              "1            9.2                                    The Godfather   \n",
              "2            9.1                           The Godfather: Part II   \n",
              "3            9.0                                  The Dark Knight   \n",
              "4            8.9                                     Pulp Fiction   \n",
              "..           ...                                              ...   \n",
              "970          7.4                                      Wonder Boys   \n",
              "972          7.4                                   Blue Valentine   \n",
              "973          7.4                            The Cider House Rules   \n",
              "976          7.4  Master and Commander: The Far Side of the World   \n",
              "978          7.4                                      Wall Street   \n",
              "\n",
              "    content_rating   genre  duration  \\\n",
              "0                R   Crime       142   \n",
              "1                R   Crime       175   \n",
              "2                R   Crime       200   \n",
              "3            PG-13  Action       152   \n",
              "4                R   Crime       154   \n",
              "..             ...     ...       ...   \n",
              "970              R   Drama       107   \n",
              "972          NC-17   Drama       112   \n",
              "973          PG-13   Drama       126   \n",
              "976          PG-13  Action       138   \n",
              "978              R   Crime       126   \n",
              "\n",
              "                                           actors_list  \n",
              "0    [u'Tim Robbins', u'Morgan Freeman', u'Bob Gunt...  \n",
              "1      [u'Marlon Brando', u'Al Pacino', u'James Caan']  \n",
              "2    [u'Al Pacino', u'Robert De Niro', u'Robert Duv...  \n",
              "3    [u'Christian Bale', u'Heath Ledger', u'Aaron E...  \n",
              "4    [u'John Travolta', u'Uma Thurman', u'Samuel L....  \n",
              "..                                                 ...  \n",
              "970  [u'Michael Douglas', u'Tobey Maguire', u'Franc...  \n",
              "972  [u'Ryan Gosling', u'Michelle Williams', u'John...  \n",
              "973  [u'Tobey Maguire', u'Charlize Theron', u'Micha...  \n",
              "976  [u'Russell Crowe', u'Paul Bettany', u'Billy Bo...  \n",
              "978  [u'Charlie Sheen', u'Michael Douglas', u'Tamar...  \n",
              "\n",
              "[538 rows x 6 columns]"
            ],
            "text/html": "<div>\n<style scoped>\n    .dataframe tbody tr th:only-of-type {\n        vertical-align: middle;\n    }\n\n    .dataframe tbody tr th {\n        vertical-align: top;\n    }\n\n    .dataframe thead th {\n        text-align: right;\n    }\n</style>\n<table border=\"1\" class=\"dataframe\">\n  <thead>\n    <tr style=\"text-align: right;\">\n      <th></th>\n      <th>star_rating</th>\n      <th>title</th>\n      <th>content_rating</th>\n      <th>genre</th>\n      <th>duration</th>\n      <th>actors_list</th>\n    </tr>\n  </thead>\n  <tbody>\n    <tr>\n      <th>0</th>\n      <td>9.3</td>\n      <td>The Shawshank Redemption</td>\n      <td>R</td>\n      <td>Crime</td>\n      <td>142</td>\n      <td>[u'Tim Robbins', u'Morgan Freeman', u'Bob Gunt...</td>\n    </tr>\n    <tr>\n      <th>1</th>\n      <td>9.2</td>\n      <td>The Godfather</td>\n      <td>R</td>\n      <td>Crime</td>\n      <td>175</td>\n      <td>[u'Marlon Brando', u'Al Pacino', u'James Caan']</td>\n    </tr>\n    <tr>\n      <th>2</th>\n      <td>9.1</td>\n      <td>The Godfather: Part II</td>\n      <td>R</td>\n      <td>Crime</td>\n      <td>200</td>\n      <td>[u'Al Pacino', u'Robert De Niro', u'Robert Duv...</td>\n    </tr>\n    <tr>\n      <th>3</th>\n      <td>9.0</td>\n      <td>The Dark Knight</td>\n      <td>PG-13</td>\n      <td>Action</td>\n      <td>152</td>\n      <td>[u'Christian Bale', u'Heath Ledger', u'Aaron E...</td>\n    </tr>\n    <tr>\n      <th>4</th>\n      <td>8.9</td>\n      <td>Pulp Fiction</td>\n      <td>R</td>\n      <td>Crime</td>\n      <td>154</td>\n      <td>[u'John Travolta', u'Uma Thurman', u'Samuel L....</td>\n    </tr>\n    <tr>\n      <th>...</th>\n      <td>...</td>\n      <td>...</td>\n      <td>...</td>\n      <td>...</td>\n      <td>...</td>\n      <td>...</td>\n    </tr>\n    <tr>\n      <th>970</th>\n      <td>7.4</td>\n      <td>Wonder Boys</td>\n      <td>R</td>\n      <td>Drama</td>\n      <td>107</td>\n      <td>[u'Michael Douglas', u'Tobey Maguire', u'Franc...</td>\n    </tr>\n    <tr>\n      <th>972</th>\n      <td>7.4</td>\n      <td>Blue Valentine</td>\n      <td>NC-17</td>\n      <td>Drama</td>\n      <td>112</td>\n      <td>[u'Ryan Gosling', u'Michelle Williams', u'John...</td>\n    </tr>\n    <tr>\n      <th>973</th>\n      <td>7.4</td>\n      <td>The Cider House Rules</td>\n      <td>PG-13</td>\n      <td>Drama</td>\n      <td>126</td>\n      <td>[u'Tobey Maguire', u'Charlize Theron', u'Micha...</td>\n    </tr>\n    <tr>\n      <th>976</th>\n      <td>7.4</td>\n      <td>Master and Commander: The Far Side of the World</td>\n      <td>PG-13</td>\n      <td>Action</td>\n      <td>138</td>\n      <td>[u'Russell Crowe', u'Paul Bettany', u'Billy Bo...</td>\n    </tr>\n    <tr>\n      <th>978</th>\n      <td>7.4</td>\n      <td>Wall Street</td>\n      <td>R</td>\n      <td>Crime</td>\n      <td>126</td>\n      <td>[u'Charlie Sheen', u'Michael Douglas', u'Tamar...</td>\n    </tr>\n  </tbody>\n</table>\n<p>538 rows × 6 columns</p>\n</div>"
          },
          "metadata": {},
          "execution_count": 67
        }
      ],
      "source": [
        "# For situations where multiples criterias are used for a single column, the best practice is to use .isin\n",
        "movies[movies.genre.isin(['Crime', 'Drama', 'Action'])]"
      ]
    },
    {
      "source": [
        "## Your pandas questions answered!"
      ],
      "cell_type": "markdown",
      "metadata": {}
    },
    {
      "source": [
        "### How to read some columns from a CSV file"
      ],
      "cell_type": "markdown",
      "metadata": {}
    },
    {
      "cell_type": "code",
      "execution_count": 68,
      "metadata": {},
      "outputs": [
        {
          "output_type": "execute_result",
          "data": {
            "text/plain": [
              "Index(['City', 'State'], dtype='object')"
            ]
          },
          "metadata": {},
          "execution_count": 68
        }
      ],
      "source": [
        "# Pass a list of column names to usecols attribute\n",
        "ufo = pd.read_csv('http://bit.ly/uforeports', usecols=['City', 'State'])\n",
        "ufo.columns"
      ]
    },
    {
      "cell_type": "code",
      "execution_count": 69,
      "metadata": {},
      "outputs": [
        {
          "output_type": "execute_result",
          "data": {
            "text/plain": [
              "Index(['City', 'State'], dtype='object')"
            ]
          },
          "metadata": {},
          "execution_count": 69
        }
      ],
      "source": [
        "# It could be also de columns position\n",
        "ufo = pd.read_csv('http://bit.ly/uforeports', usecols=[0, 3])\n",
        "ufo.columns"
      ]
    },
    {
      "source": [
        "### How to import only a few rows from CSV file"
      ],
      "cell_type": "markdown",
      "metadata": {}
    },
    {
      "cell_type": "code",
      "execution_count": 70,
      "metadata": {},
      "outputs": [
        {
          "output_type": "execute_result",
          "data": {
            "text/plain": [
              "          City  Colors Reported Shape Reported State             Time\n",
              "0       Ithaca              NaN       TRIANGLE    NY   6/1/1930 22:00\n",
              "1  Willingboro              NaN          OTHER    NJ  6/30/1930 20:00\n",
              "2      Holyoke              NaN           OVAL    CO  2/15/1931 14:00"
            ],
            "text/html": "<div>\n<style scoped>\n    .dataframe tbody tr th:only-of-type {\n        vertical-align: middle;\n    }\n\n    .dataframe tbody tr th {\n        vertical-align: top;\n    }\n\n    .dataframe thead th {\n        text-align: right;\n    }\n</style>\n<table border=\"1\" class=\"dataframe\">\n  <thead>\n    <tr style=\"text-align: right;\">\n      <th></th>\n      <th>City</th>\n      <th>Colors Reported</th>\n      <th>Shape Reported</th>\n      <th>State</th>\n      <th>Time</th>\n    </tr>\n  </thead>\n  <tbody>\n    <tr>\n      <th>0</th>\n      <td>Ithaca</td>\n      <td>NaN</td>\n      <td>TRIANGLE</td>\n      <td>NY</td>\n      <td>6/1/1930 22:00</td>\n    </tr>\n    <tr>\n      <th>1</th>\n      <td>Willingboro</td>\n      <td>NaN</td>\n      <td>OTHER</td>\n      <td>NJ</td>\n      <td>6/30/1930 20:00</td>\n    </tr>\n    <tr>\n      <th>2</th>\n      <td>Holyoke</td>\n      <td>NaN</td>\n      <td>OVAL</td>\n      <td>CO</td>\n      <td>2/15/1931 14:00</td>\n    </tr>\n  </tbody>\n</table>\n</div>"
          },
          "metadata": {},
          "execution_count": 70
        }
      ],
      "source": [
        "# Use nrows attribute\n",
        "ufo = pd.read_csv('http://bit.ly/uforeports', nrows=3)\n",
        "ufo"
      ]
    },
    {
      "source": [
        "### How to iterate in a DataFrame"
      ],
      "cell_type": "markdown",
      "metadata": {}
    },
    {
      "cell_type": "code",
      "execution_count": 71,
      "metadata": {},
      "outputs": [
        {
          "output_type": "stream",
          "name": "stdout",
          "text": [
            "Ithaca\nWillingboro\nHolyoke\n"
          ]
        }
      ],
      "source": [
        "# For a specific column\n",
        "for city in ufo.City:\n",
        "    print(city)"
      ]
    },
    {
      "cell_type": "code",
      "execution_count": 72,
      "metadata": {},
      "outputs": [
        {
          "output_type": "stream",
          "name": "stdout",
          "text": [
            "0 Ithaca NY\n1 Willingboro NJ\n2 Holyoke CO\n"
          ]
        }
      ],
      "source": [
        "# For an entire DataFrame\n",
        "for index, row in ufo.iterrows():\n",
        "    print(index, row.City, row.State)"
      ]
    },
    {
      "source": [
        "### How to drop non-numeric values from a DataFrame"
      ],
      "cell_type": "markdown",
      "metadata": {}
    },
    {
      "cell_type": "code",
      "execution_count": 73,
      "metadata": {},
      "outputs": [],
      "source": [
        "drinks = pd.read_csv('http://bit.ly/drinksbycountry')"
      ]
    },
    {
      "cell_type": "code",
      "execution_count": 74,
      "metadata": {},
      "outputs": [
        {
          "output_type": "execute_result",
          "data": {
            "text/plain": [
              "country                          object\n",
              "beer_servings                     int64\n",
              "spirit_servings                   int64\n",
              "wine_servings                     int64\n",
              "total_litres_of_pure_alcohol    float64\n",
              "continent                        object\n",
              "dtype: object"
            ]
          },
          "metadata": {},
          "execution_count": 74
        }
      ],
      "source": [
        "drinks.dtypes"
      ]
    },
    {
      "cell_type": "code",
      "execution_count": 75,
      "metadata": {},
      "outputs": [
        {
          "output_type": "execute_result",
          "data": {
            "text/plain": [
              "beer_servings                     int64\n",
              "spirit_servings                   int64\n",
              "wine_servings                     int64\n",
              "total_litres_of_pure_alcohol    float64\n",
              "dtype: object"
            ]
          },
          "metadata": {},
          "execution_count": 75
        }
      ],
      "source": [
        "import numpy as np\n",
        "drinks.select_dtypes(include=[np.number]).dtypes"
      ]
    },
    {
      "source": [
        "### Describe method best practices"
      ],
      "cell_type": "markdown",
      "metadata": {}
    },
    {
      "cell_type": "code",
      "execution_count": 76,
      "metadata": {},
      "outputs": [
        {
          "output_type": "execute_result",
          "data": {
            "text/plain": [
              "       beer_servings  spirit_servings  wine_servings  \\\n",
              "count     193.000000       193.000000     193.000000   \n",
              "mean      106.160622        80.994819      49.450777   \n",
              "std       101.143103        88.284312      79.697598   \n",
              "min         0.000000         0.000000       0.000000   \n",
              "25%        20.000000         4.000000       1.000000   \n",
              "50%        76.000000        56.000000       8.000000   \n",
              "75%       188.000000       128.000000      59.000000   \n",
              "max       376.000000       438.000000     370.000000   \n",
              "\n",
              "       total_litres_of_pure_alcohol  \n",
              "count                    193.000000  \n",
              "mean                       4.717098  \n",
              "std                        3.773298  \n",
              "min                        0.000000  \n",
              "25%                        1.300000  \n",
              "50%                        4.200000  \n",
              "75%                        7.200000  \n",
              "max                       14.400000  "
            ],
            "text/html": "<div>\n<style scoped>\n    .dataframe tbody tr th:only-of-type {\n        vertical-align: middle;\n    }\n\n    .dataframe tbody tr th {\n        vertical-align: top;\n    }\n\n    .dataframe thead th {\n        text-align: right;\n    }\n</style>\n<table border=\"1\" class=\"dataframe\">\n  <thead>\n    <tr style=\"text-align: right;\">\n      <th></th>\n      <th>beer_servings</th>\n      <th>spirit_servings</th>\n      <th>wine_servings</th>\n      <th>total_litres_of_pure_alcohol</th>\n    </tr>\n  </thead>\n  <tbody>\n    <tr>\n      <th>count</th>\n      <td>193.000000</td>\n      <td>193.000000</td>\n      <td>193.000000</td>\n      <td>193.000000</td>\n    </tr>\n    <tr>\n      <th>mean</th>\n      <td>106.160622</td>\n      <td>80.994819</td>\n      <td>49.450777</td>\n      <td>4.717098</td>\n    </tr>\n    <tr>\n      <th>std</th>\n      <td>101.143103</td>\n      <td>88.284312</td>\n      <td>79.697598</td>\n      <td>3.773298</td>\n    </tr>\n    <tr>\n      <th>min</th>\n      <td>0.000000</td>\n      <td>0.000000</td>\n      <td>0.000000</td>\n      <td>0.000000</td>\n    </tr>\n    <tr>\n      <th>25%</th>\n      <td>20.000000</td>\n      <td>4.000000</td>\n      <td>1.000000</td>\n      <td>1.300000</td>\n    </tr>\n    <tr>\n      <th>50%</th>\n      <td>76.000000</td>\n      <td>56.000000</td>\n      <td>8.000000</td>\n      <td>4.200000</td>\n    </tr>\n    <tr>\n      <th>75%</th>\n      <td>188.000000</td>\n      <td>128.000000</td>\n      <td>59.000000</td>\n      <td>7.200000</td>\n    </tr>\n    <tr>\n      <th>max</th>\n      <td>376.000000</td>\n      <td>438.000000</td>\n      <td>370.000000</td>\n      <td>14.400000</td>\n    </tr>\n  </tbody>\n</table>\n</div>"
          },
          "metadata": {},
          "execution_count": 76
        }
      ],
      "source": [
        "# The describe method without arguments will present only the numeric columns by default\n",
        "drinks.describe()"
      ]
    },
    {
      "cell_type": "code",
      "execution_count": 77,
      "metadata": {},
      "outputs": [
        {
          "output_type": "execute_result",
          "data": {
            "text/plain": [
              "         country  beer_servings  spirit_servings  wine_servings  \\\n",
              "count        193     193.000000       193.000000     193.000000   \n",
              "unique       193            NaN              NaN            NaN   \n",
              "top     Barbados            NaN              NaN            NaN   \n",
              "freq           1            NaN              NaN            NaN   \n",
              "mean         NaN     106.160622        80.994819      49.450777   \n",
              "std          NaN     101.143103        88.284312      79.697598   \n",
              "min          NaN       0.000000         0.000000       0.000000   \n",
              "25%          NaN      20.000000         4.000000       1.000000   \n",
              "50%          NaN      76.000000        56.000000       8.000000   \n",
              "75%          NaN     188.000000       128.000000      59.000000   \n",
              "max          NaN     376.000000       438.000000     370.000000   \n",
              "\n",
              "        total_litres_of_pure_alcohol continent  \n",
              "count                     193.000000       193  \n",
              "unique                           NaN         6  \n",
              "top                              NaN    Africa  \n",
              "freq                             NaN        53  \n",
              "mean                        4.717098       NaN  \n",
              "std                         3.773298       NaN  \n",
              "min                         0.000000       NaN  \n",
              "25%                         1.300000       NaN  \n",
              "50%                         4.200000       NaN  \n",
              "75%                         7.200000       NaN  \n",
              "max                        14.400000       NaN  "
            ],
            "text/html": "<div>\n<style scoped>\n    .dataframe tbody tr th:only-of-type {\n        vertical-align: middle;\n    }\n\n    .dataframe tbody tr th {\n        vertical-align: top;\n    }\n\n    .dataframe thead th {\n        text-align: right;\n    }\n</style>\n<table border=\"1\" class=\"dataframe\">\n  <thead>\n    <tr style=\"text-align: right;\">\n      <th></th>\n      <th>country</th>\n      <th>beer_servings</th>\n      <th>spirit_servings</th>\n      <th>wine_servings</th>\n      <th>total_litres_of_pure_alcohol</th>\n      <th>continent</th>\n    </tr>\n  </thead>\n  <tbody>\n    <tr>\n      <th>count</th>\n      <td>193</td>\n      <td>193.000000</td>\n      <td>193.000000</td>\n      <td>193.000000</td>\n      <td>193.000000</td>\n      <td>193</td>\n    </tr>\n    <tr>\n      <th>unique</th>\n      <td>193</td>\n      <td>NaN</td>\n      <td>NaN</td>\n      <td>NaN</td>\n      <td>NaN</td>\n      <td>6</td>\n    </tr>\n    <tr>\n      <th>top</th>\n      <td>Barbados</td>\n      <td>NaN</td>\n      <td>NaN</td>\n      <td>NaN</td>\n      <td>NaN</td>\n      <td>Africa</td>\n    </tr>\n    <tr>\n      <th>freq</th>\n      <td>1</td>\n      <td>NaN</td>\n      <td>NaN</td>\n      <td>NaN</td>\n      <td>NaN</td>\n      <td>53</td>\n    </tr>\n    <tr>\n      <th>mean</th>\n      <td>NaN</td>\n      <td>106.160622</td>\n      <td>80.994819</td>\n      <td>49.450777</td>\n      <td>4.717098</td>\n      <td>NaN</td>\n    </tr>\n    <tr>\n      <th>std</th>\n      <td>NaN</td>\n      <td>101.143103</td>\n      <td>88.284312</td>\n      <td>79.697598</td>\n      <td>3.773298</td>\n      <td>NaN</td>\n    </tr>\n    <tr>\n      <th>min</th>\n      <td>NaN</td>\n      <td>0.000000</td>\n      <td>0.000000</td>\n      <td>0.000000</td>\n      <td>0.000000</td>\n      <td>NaN</td>\n    </tr>\n    <tr>\n      <th>25%</th>\n      <td>NaN</td>\n      <td>20.000000</td>\n      <td>4.000000</td>\n      <td>1.000000</td>\n      <td>1.300000</td>\n      <td>NaN</td>\n    </tr>\n    <tr>\n      <th>50%</th>\n      <td>NaN</td>\n      <td>76.000000</td>\n      <td>56.000000</td>\n      <td>8.000000</td>\n      <td>4.200000</td>\n      <td>NaN</td>\n    </tr>\n    <tr>\n      <th>75%</th>\n      <td>NaN</td>\n      <td>188.000000</td>\n      <td>128.000000</td>\n      <td>59.000000</td>\n      <td>7.200000</td>\n      <td>NaN</td>\n    </tr>\n    <tr>\n      <th>max</th>\n      <td>NaN</td>\n      <td>376.000000</td>\n      <td>438.000000</td>\n      <td>370.000000</td>\n      <td>14.400000</td>\n      <td>NaN</td>\n    </tr>\n  </tbody>\n</table>\n</div>"
          },
          "metadata": {},
          "execution_count": 77
        }
      ],
      "source": [
        "# Using include or exclude attribute may alter this behavior\n",
        "drinks.describe(include='all')  # include=None is the same as no argument"
      ]
    },
    {
      "cell_type": "code",
      "execution_count": 78,
      "metadata": {},
      "outputs": [
        {
          "output_type": "execute_result",
          "data": {
            "text/plain": [
              "         country  total_litres_of_pure_alcohol continent\n",
              "count        193                    193.000000       193\n",
              "unique       193                           NaN         6\n",
              "top     Barbados                           NaN    Africa\n",
              "freq           1                           NaN        53\n",
              "mean         NaN                      4.717098       NaN\n",
              "std          NaN                      3.773298       NaN\n",
              "min          NaN                      0.000000       NaN\n",
              "25%          NaN                      1.300000       NaN\n",
              "50%          NaN                      4.200000       NaN\n",
              "75%          NaN                      7.200000       NaN\n",
              "max          NaN                     14.400000       NaN"
            ],
            "text/html": "<div>\n<style scoped>\n    .dataframe tbody tr th:only-of-type {\n        vertical-align: middle;\n    }\n\n    .dataframe tbody tr th {\n        vertical-align: top;\n    }\n\n    .dataframe thead th {\n        text-align: right;\n    }\n</style>\n<table border=\"1\" class=\"dataframe\">\n  <thead>\n    <tr style=\"text-align: right;\">\n      <th></th>\n      <th>country</th>\n      <th>total_litres_of_pure_alcohol</th>\n      <th>continent</th>\n    </tr>\n  </thead>\n  <tbody>\n    <tr>\n      <th>count</th>\n      <td>193</td>\n      <td>193.000000</td>\n      <td>193</td>\n    </tr>\n    <tr>\n      <th>unique</th>\n      <td>193</td>\n      <td>NaN</td>\n      <td>6</td>\n    </tr>\n    <tr>\n      <th>top</th>\n      <td>Barbados</td>\n      <td>NaN</td>\n      <td>Africa</td>\n    </tr>\n    <tr>\n      <th>freq</th>\n      <td>1</td>\n      <td>NaN</td>\n      <td>53</td>\n    </tr>\n    <tr>\n      <th>mean</th>\n      <td>NaN</td>\n      <td>4.717098</td>\n      <td>NaN</td>\n    </tr>\n    <tr>\n      <th>std</th>\n      <td>NaN</td>\n      <td>3.773298</td>\n      <td>NaN</td>\n    </tr>\n    <tr>\n      <th>min</th>\n      <td>NaN</td>\n      <td>0.000000</td>\n      <td>NaN</td>\n    </tr>\n    <tr>\n      <th>25%</th>\n      <td>NaN</td>\n      <td>1.300000</td>\n      <td>NaN</td>\n    </tr>\n    <tr>\n      <th>50%</th>\n      <td>NaN</td>\n      <td>4.200000</td>\n      <td>NaN</td>\n    </tr>\n    <tr>\n      <th>75%</th>\n      <td>NaN</td>\n      <td>7.200000</td>\n      <td>NaN</td>\n    </tr>\n    <tr>\n      <th>max</th>\n      <td>NaN</td>\n      <td>14.400000</td>\n      <td>NaN</td>\n    </tr>\n  </tbody>\n</table>\n</div>"
          },
          "metadata": {},
          "execution_count": 78
        }
      ],
      "source": [
        "drinks.describe(include=['object', 'float64'])"
      ]
    }
  ],
  "metadata": {
    "kernelspec": {
      "name": "python3",
      "display_name": "Python 3.8.5 64-bit",
      "metadata": {
        "interpreter": {
          "hash": "31f2aee4e71d21fbe5cf8b01ff0e069b9275f58929596ceb00d14d90e3e16cd6"
        }
      }
    },
    "language_info": {
      "mimetype": "text/x-python",
      "nbconvert_exporter": "python",
      "name": "python",
      "pygments_lexer": "ipython3",
      "version": "3.8.5-final",
      "file_extension": ".py",
      "codemirror_mode": {
        "version": 3,
        "name": "ipython"
      }
    }
  },
  "nbformat": 4,
  "nbformat_minor": 2
}